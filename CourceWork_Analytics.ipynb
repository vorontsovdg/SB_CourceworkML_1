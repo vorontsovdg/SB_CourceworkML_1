{
 "cells": [
  {
   "cell_type": "markdown",
   "id": "846dbe86",
   "metadata": {},
   "source": [
    "# Курсовая работа. Блок ML Beginner"
   ]
  },
  {
   "cell_type": "markdown",
   "id": "a7eaf3cd",
   "metadata": {},
   "source": [
    "**Описание работы:**\n",
    "&nbsp;&nbsp;&nbsp;&nbsp;\n",
    "<br><br>\n",
    "&nbsp;&nbsp;&nbsp;&nbsp; Любой бизнес хочет максимизировать количество клиентов. Для достижения этой цели важно не только пытаться привлечь новых, но и удерживать уже существующих. Удержать клиента обойдется компании дешевле, чем привлечь нового. Кроме того, новый клиент может оказаться слабо заинтересованным в услугах бизнеса и с ним будет сложно работать, тогда как о старых клиентах уже есть необходимые данные по взаимодействию с сервисом. \n",
    " <br>\n",
    "\n",
    "&nbsp;&nbsp;&nbsp;&nbsp; Соответственно, прогнозируя отток, мы можем вовремя среагировать и попытаться удержать клиента, который хочет уйти. Опираясь на данные об услугах, которыми пользуется клиент, мы можем сделать ему специальное предложение, пытаясь изменить его решение об уходе от оператора. Благодаря этому задача удержания будет легче в реализации, чем задача привлечения новых пользователей, о которых мы еще ничего не знаем.<br>\n",
    "\n",
    "&nbsp;&nbsp;&nbsp;&nbsp; Вам предоставлен набор данных от телекоммуникационной компании. В данных содержится информация о почти шести тысячах пользователей, их демографических характеристиках, услугах, которыми они пользуются, длительности пользования услугами оператора, методе оплаты, размере оплаты. \n",
    "<br>\n",
    "\n",
    "&nbsp;&nbsp;&nbsp;&nbsp; Cтоит задача проанализировать данные и спрогнозировать отток пользователей (выявить людей, которые продлят контракт и которые не продлят). Работа должна включать в себя следующие обязательные пункты: \n",
    "1. Описание данных *(с расчетом базовых статистик)*, \n",
    "2. Исследование зависимостей и формулирование гипотез, \n",
    "3. Построение моделей для прогнозирования оттока *(с обоснованием выбора той или иной модели)* на основе проверенных гипотез и выявленных взаимосвязей, \n",
    "4. Сравнение качества полученных моделей."
   ]
  },
  {
   "cell_type": "markdown",
   "id": "fb7b22dd",
   "metadata": {
    "ExecuteTime": {
     "end_time": "2021-08-20T14:25:53.836238Z",
     "start_time": "2021-08-20T14:25:53.829738Z"
    }
   },
   "source": [
    "# Содержание\n",
    "## [1. Описание данных](#init_data_description)\n",
    "\n",
    "### [1.1 Используемые библиотеки](#init_libraries)\n",
    "### [1.2 Загрузка файла и его содержимое](#read_file)\n",
    "### [1.3 Работа с пропусками и выбор используемых признаков](#missing_values)\n",
    "### [1.4 Преобразование типов](#type_fit)\n",
    "\n",
    "## [3. Построение моделей](#models_caption)\n",
    "### [3.1 Предобработка данных для загрузки в модель](#models_data_prep)\n",
    "### [3.2 Разбивка датасета на тренировочный и тестовый](#split)\n",
    "### [3.3 Логистическая регрессия](#logreg)\n",
    "### [3.4 Деревья решений](#decision_tree)\n",
    "### [3.5 Случайный лес](#random_forest)\n",
    "### [3.6 CatBoost](#catboost)"
   ]
  },
  {
   "cell_type": "markdown",
   "id": "c42d25ca",
   "metadata": {
    "ExecuteTime": {
     "end_time": "2021-08-20T15:39:38.517293Z",
     "start_time": "2021-08-20T15:39:38.514671Z"
    }
   },
   "source": [
    "<a id='init_data_description'></a>\n",
    "<h2><center>1. Описание данных</h2>"
   ]
  },
  {
   "cell_type": "markdown",
   "id": "67d49ff4",
   "metadata": {
    "ExecuteTime": {
     "end_time": "2021-08-20T14:51:35.665866Z",
     "start_time": "2021-08-20T14:51:35.662973Z"
    }
   },
   "source": [
    "<a id='init_libraries'></a>\n",
    "<div class='alert alert-info'>\n",
    "<p>Для начала импортируем библиотеки, желательно делать все импорты в одном месте, чтобы у проверяющего была возможность в случае необходимости быстро настроить окружение\n",
    "</p>\n",
    "</div>"
   ]
  },
  {
   "cell_type": "code",
   "execution_count": 4,
   "id": "continent-weather",
   "metadata": {
    "ExecuteTime": {
     "end_time": "2021-08-20T14:53:13.874481Z",
     "start_time": "2021-08-20T14:53:13.102396Z"
    },
    "pycharm": {
     "name": "#%%\n"
    }
   },
   "outputs": [],
   "source": [
    "#Библиотеки для загрузки и обработки данных\n",
    "import pandas as pd\n",
    "import numpy as np\n",
    "import matplotlib.pyplot as plt\n",
    "\n",
    "#Для визуализации\n",
    "import plotly.express as px\n",
    "import plotly.graph_objects as go\n",
    "\n",
    "#Для построениея моделей прогнозирования\n",
    "from sklearn.preprocessing import StandardScaler\n",
    "from sklearn.model_selection import train_test_split\n",
    "from sklearn.linear_model import LogisticRegression\n",
    "from sklearn.tree import DecisionTreeClassifier\n",
    "from sklearn.ensemble import RandomForestClassifier\n",
    "from catboost import CatBoostClassifier\n",
    "\n",
    "#Для тестирования качества построенных моделей\n",
    "from sklearn.metrics import accuracy_score, recall_score, precision_score\n",
    "from sklearn.metrics import f1_score\n",
    "from sklearn.metrics import roc_auc_score\n",
    "from sklearn.metrics import plot_roc_curve, plot_confusion_matrix\n"
   ]
  },
  {
   "cell_type": "markdown",
   "id": "601d44cd",
   "metadata": {
    "ExecuteTime": {
     "end_time": "2021-08-20T14:55:31.290335Z",
     "start_time": "2021-08-20T14:55:31.287514Z"
    }
   },
   "source": [
    "<div class='alert alert-info'>\n",
    "<p>Задаем глобальные переменные, чтобы при необходимости их изменить не искать в каждой ячейке кода, а поменять сразу во всем ноутбуке\n",
    "</div>"
   ]
  },
  {
   "cell_type": "code",
   "execution_count": 6,
   "id": "e5d31040",
   "metadata": {
    "ExecuteTime": {
     "end_time": "2021-08-20T14:56:02.653617Z",
     "start_time": "2021-08-20T14:56:02.651243Z"
    },
    "pycharm": {
     "name": "#%%\n"
    }
   },
   "outputs": [],
   "source": [
    "#GLOBAL\n",
    "RANDOM_SEED = 17\n",
    "VAL_SIZE   = 0.3\n",
    "N_FOLDS    = 5\n",
    "\n",
    "# CATBOOST\n",
    "ITERATIONS = 3000\n",
    "LR         = 0.01"
   ]
  },
  {
   "cell_type": "markdown",
   "id": "9ec41549",
   "metadata": {
    "ExecuteTime": {
     "end_time": "2021-08-20T14:59:02.725975Z",
     "start_time": "2021-08-20T14:59:02.723022Z"
    }
   },
   "source": [
    "<a id='read_file'></a>\n",
    "<div class='alert alert-info'>\n",
    "    <p>Загружаем файл в датафрейм</p>\n",
    "</div>"
   ]
  },
  {
   "cell_type": "code",
   "execution_count": 18,
   "id": "945bc7b4",
   "metadata": {
    "ExecuteTime": {
     "end_time": "2021-08-20T15:07:43.795500Z",
     "start_time": "2021-08-20T15:07:43.773505Z"
    }
   },
   "outputs": [],
   "source": [
    "df = pd.read_csv('./data/telecom_users.csv')"
   ]
  },
  {
   "cell_type": "markdown",
   "id": "eb2621eb",
   "metadata": {},
   "source": [
    "<div class='alert alert-info'>\n",
    "    <h4>Описание данных</h4>\n",
    "<br>\n",
    "\n",
    "\n",
    "`telecom_users.csv` содержит следующие значения:<br><br>\n",
    "\n",
    "&nbsp;&nbsp;&nbsp;&nbsp; `customerID` – id клиента<br>\n",
    "&nbsp;&nbsp;&nbsp;&nbsp; `gender` – пол клиента (male/female)<br>\n",
    "&nbsp;&nbsp;&nbsp;&nbsp; `SeniorCitizen` – яляется ли клиент пенсионером (1, 0)<br>\n",
    "&nbsp;&nbsp;&nbsp;&nbsp; `Partner` – состоит ли клиент в браке (Yes, No)<br>\n",
    "&nbsp;&nbsp;&nbsp;&nbsp; `Dependents` – есть ли у клиента иждивенцы (Yes, No)<br>\n",
    "&nbsp;&nbsp;&nbsp;&nbsp; `tenure` – сколько месяцев человек являлся клиентом компании<br>\n",
    "&nbsp;&nbsp;&nbsp;&nbsp; `PhoneService` – подключена ли услуга телефонной связи (Yes, No)<br>\n",
    "&nbsp;&nbsp;&nbsp;&nbsp; `MultipleLines` – подключены ли несколько телефонных линий (Yes, No, No phone service)<br>\n",
    "&nbsp;&nbsp;&nbsp;&nbsp; `InternetService` – интернет-провайдер клиента (DSL, Fiber optic, No)<br>\n",
    "&nbsp;&nbsp;&nbsp;&nbsp; `OnlineSecurity` – подключена ли услуга онлайн-безопасности (Yes, No, No internet service)<br>\n",
    "&nbsp;&nbsp;&nbsp;&nbsp; `OnlineBackup` – подключена ли услуга online backup (Yes, No, No internet service)<br>\n",
    "&nbsp;&nbsp;&nbsp;&nbsp; `DeviceProtection` – есть ли у клиента страховка оборудования (Yes, No, No internet service)<br>\n",
    "&nbsp;&nbsp;&nbsp;&nbsp; `TechSupport` – подключена ли услуга технической поддержки (Yes, No, No internet service)<br>\n",
    "&nbsp;&nbsp;&nbsp;&nbsp; `StreamingTV` – подключена ли услуга стримингового телевидения (Yes, No, No internet service)<br>\n",
    "&nbsp;&nbsp;&nbsp;&nbsp; `StreamingMovies` – подключена ли услуга стримингового кинотеатра (Yes, No, No internet service)<br>\n",
    "&nbsp;&nbsp;&nbsp;&nbsp; `Contract` – тип контракта клиента (Month-to-month, One year, Two year)<br>\n",
    "&nbsp;&nbsp;&nbsp;&nbsp; `PaperlessBilling` – пользуется ли клиент безбумажным биллингом (Yes, No)<br>\n",
    "&nbsp;&nbsp;&nbsp;&nbsp; `PaymentMethod` – метод оплаты (Electronic check, Mailed check, Bank transfer (automatic), Credit card (automatic))<br>\n",
    "&nbsp;&nbsp;&nbsp;&nbsp; `MonthlyCharges` – месячный размер оплаты на настоящий момент<br>\n",
    "&nbsp;&nbsp;&nbsp;&nbsp; `TotalCharges` – общая сумма, которую клиент заплатил за услуги за все время<br>\n",
    "&nbsp;&nbsp;&nbsp;&nbsp; `Churn` – произошел ли отток (Yes or No)<br>\n",
    "    </div>"
   ]
  },
  {
   "cell_type": "markdown",
   "id": "4d0914d1",
   "metadata": {
    "ExecuteTime": {
     "end_time": "2021-08-20T15:07:29.756459Z",
     "start_time": "2021-08-20T15:07:29.753762Z"
    }
   },
   "source": [
    "<a id=\"missing_values\"></a>\n",
    "<div class ='alert alert-info'>\n",
    "<p>Смотрим на содержимое файла</p></div>"
   ]
  },
  {
   "cell_type": "code",
   "execution_count": 19,
   "id": "20df4328",
   "metadata": {
    "ExecuteTime": {
     "end_time": "2021-08-20T15:07:53.113856Z",
     "start_time": "2021-08-20T15:07:53.092831Z"
    }
   },
   "outputs": [
    {
     "data": {
      "text/html": [
       "<div>\n",
       "<style scoped>\n",
       "    .dataframe tbody tr th:only-of-type {\n",
       "        vertical-align: middle;\n",
       "    }\n",
       "\n",
       "    .dataframe tbody tr th {\n",
       "        vertical-align: top;\n",
       "    }\n",
       "\n",
       "    .dataframe thead th {\n",
       "        text-align: right;\n",
       "    }\n",
       "</style>\n",
       "<table border=\"1\" class=\"dataframe\">\n",
       "  <thead>\n",
       "    <tr style=\"text-align: right;\">\n",
       "      <th></th>\n",
       "      <th>Unnamed: 0</th>\n",
       "      <th>customerID</th>\n",
       "      <th>gender</th>\n",
       "      <th>SeniorCitizen</th>\n",
       "      <th>Partner</th>\n",
       "      <th>Dependents</th>\n",
       "      <th>tenure</th>\n",
       "      <th>PhoneService</th>\n",
       "      <th>MultipleLines</th>\n",
       "      <th>InternetService</th>\n",
       "      <th>...</th>\n",
       "      <th>DeviceProtection</th>\n",
       "      <th>TechSupport</th>\n",
       "      <th>StreamingTV</th>\n",
       "      <th>StreamingMovies</th>\n",
       "      <th>Contract</th>\n",
       "      <th>PaperlessBilling</th>\n",
       "      <th>PaymentMethod</th>\n",
       "      <th>MonthlyCharges</th>\n",
       "      <th>TotalCharges</th>\n",
       "      <th>Churn</th>\n",
       "    </tr>\n",
       "  </thead>\n",
       "  <tbody>\n",
       "    <tr>\n",
       "      <th>0</th>\n",
       "      <td>1869</td>\n",
       "      <td>7010-BRBUU</td>\n",
       "      <td>Male</td>\n",
       "      <td>0</td>\n",
       "      <td>Yes</td>\n",
       "      <td>Yes</td>\n",
       "      <td>72</td>\n",
       "      <td>Yes</td>\n",
       "      <td>Yes</td>\n",
       "      <td>No</td>\n",
       "      <td>...</td>\n",
       "      <td>No internet service</td>\n",
       "      <td>No internet service</td>\n",
       "      <td>No internet service</td>\n",
       "      <td>No internet service</td>\n",
       "      <td>Two year</td>\n",
       "      <td>No</td>\n",
       "      <td>Credit card (automatic)</td>\n",
       "      <td>24.10</td>\n",
       "      <td>1734.65</td>\n",
       "      <td>No</td>\n",
       "    </tr>\n",
       "    <tr>\n",
       "      <th>1</th>\n",
       "      <td>4528</td>\n",
       "      <td>9688-YGXVR</td>\n",
       "      <td>Female</td>\n",
       "      <td>0</td>\n",
       "      <td>No</td>\n",
       "      <td>No</td>\n",
       "      <td>44</td>\n",
       "      <td>Yes</td>\n",
       "      <td>No</td>\n",
       "      <td>Fiber optic</td>\n",
       "      <td>...</td>\n",
       "      <td>Yes</td>\n",
       "      <td>No</td>\n",
       "      <td>Yes</td>\n",
       "      <td>No</td>\n",
       "      <td>Month-to-month</td>\n",
       "      <td>Yes</td>\n",
       "      <td>Credit card (automatic)</td>\n",
       "      <td>88.15</td>\n",
       "      <td>3973.2</td>\n",
       "      <td>No</td>\n",
       "    </tr>\n",
       "    <tr>\n",
       "      <th>2</th>\n",
       "      <td>6344</td>\n",
       "      <td>9286-DOJGF</td>\n",
       "      <td>Female</td>\n",
       "      <td>1</td>\n",
       "      <td>Yes</td>\n",
       "      <td>No</td>\n",
       "      <td>38</td>\n",
       "      <td>Yes</td>\n",
       "      <td>Yes</td>\n",
       "      <td>Fiber optic</td>\n",
       "      <td>...</td>\n",
       "      <td>No</td>\n",
       "      <td>No</td>\n",
       "      <td>No</td>\n",
       "      <td>No</td>\n",
       "      <td>Month-to-month</td>\n",
       "      <td>Yes</td>\n",
       "      <td>Bank transfer (automatic)</td>\n",
       "      <td>74.95</td>\n",
       "      <td>2869.85</td>\n",
       "      <td>Yes</td>\n",
       "    </tr>\n",
       "    <tr>\n",
       "      <th>3</th>\n",
       "      <td>6739</td>\n",
       "      <td>6994-KERXL</td>\n",
       "      <td>Male</td>\n",
       "      <td>0</td>\n",
       "      <td>No</td>\n",
       "      <td>No</td>\n",
       "      <td>4</td>\n",
       "      <td>Yes</td>\n",
       "      <td>No</td>\n",
       "      <td>DSL</td>\n",
       "      <td>...</td>\n",
       "      <td>No</td>\n",
       "      <td>No</td>\n",
       "      <td>No</td>\n",
       "      <td>Yes</td>\n",
       "      <td>Month-to-month</td>\n",
       "      <td>Yes</td>\n",
       "      <td>Electronic check</td>\n",
       "      <td>55.90</td>\n",
       "      <td>238.5</td>\n",
       "      <td>No</td>\n",
       "    </tr>\n",
       "    <tr>\n",
       "      <th>4</th>\n",
       "      <td>432</td>\n",
       "      <td>2181-UAESM</td>\n",
       "      <td>Male</td>\n",
       "      <td>0</td>\n",
       "      <td>No</td>\n",
       "      <td>No</td>\n",
       "      <td>2</td>\n",
       "      <td>Yes</td>\n",
       "      <td>No</td>\n",
       "      <td>DSL</td>\n",
       "      <td>...</td>\n",
       "      <td>Yes</td>\n",
       "      <td>No</td>\n",
       "      <td>No</td>\n",
       "      <td>No</td>\n",
       "      <td>Month-to-month</td>\n",
       "      <td>No</td>\n",
       "      <td>Electronic check</td>\n",
       "      <td>53.45</td>\n",
       "      <td>119.5</td>\n",
       "      <td>No</td>\n",
       "    </tr>\n",
       "  </tbody>\n",
       "</table>\n",
       "<p>5 rows × 22 columns</p>\n",
       "</div>"
      ],
      "text/plain": [
       "   Unnamed: 0  customerID  gender  SeniorCitizen Partner Dependents  tenure  \\\n",
       "0        1869  7010-BRBUU    Male              0     Yes        Yes      72   \n",
       "1        4528  9688-YGXVR  Female              0      No         No      44   \n",
       "2        6344  9286-DOJGF  Female              1     Yes         No      38   \n",
       "3        6739  6994-KERXL    Male              0      No         No       4   \n",
       "4         432  2181-UAESM    Male              0      No         No       2   \n",
       "\n",
       "  PhoneService MultipleLines InternetService  ...     DeviceProtection  \\\n",
       "0          Yes           Yes              No  ...  No internet service   \n",
       "1          Yes            No     Fiber optic  ...                  Yes   \n",
       "2          Yes           Yes     Fiber optic  ...                   No   \n",
       "3          Yes            No             DSL  ...                   No   \n",
       "4          Yes            No             DSL  ...                  Yes   \n",
       "\n",
       "           TechSupport          StreamingTV      StreamingMovies  \\\n",
       "0  No internet service  No internet service  No internet service   \n",
       "1                   No                  Yes                   No   \n",
       "2                   No                   No                   No   \n",
       "3                   No                   No                  Yes   \n",
       "4                   No                   No                   No   \n",
       "\n",
       "         Contract PaperlessBilling              PaymentMethod MonthlyCharges  \\\n",
       "0        Two year               No    Credit card (automatic)          24.10   \n",
       "1  Month-to-month              Yes    Credit card (automatic)          88.15   \n",
       "2  Month-to-month              Yes  Bank transfer (automatic)          74.95   \n",
       "3  Month-to-month              Yes           Electronic check          55.90   \n",
       "4  Month-to-month               No           Electronic check          53.45   \n",
       "\n",
       "  TotalCharges  Churn  \n",
       "0      1734.65     No  \n",
       "1       3973.2     No  \n",
       "2      2869.85    Yes  \n",
       "3        238.5     No  \n",
       "4        119.5     No  \n",
       "\n",
       "[5 rows x 22 columns]"
      ]
     },
     "execution_count": 19,
     "metadata": {},
     "output_type": "execute_result"
    }
   ],
   "source": [
    "df.head()"
   ]
  },
  {
   "cell_type": "markdown",
   "id": "dbf9e2e7",
   "metadata": {
    "ExecuteTime": {
     "end_time": "2021-08-20T15:04:13.405019Z",
     "start_time": "2021-08-20T15:04:13.402208Z"
    }
   },
   "source": [
    "<div class='alert alert-info'>\n",
    "    <p>Очевидно, что первые 2 признака нам вряд ли помогут в решении задачи классификации, удалим их</p>\n",
    "</div>"
   ]
  },
  {
   "cell_type": "code",
   "execution_count": 20,
   "id": "409d90fb",
   "metadata": {
    "ExecuteTime": {
     "end_time": "2021-08-20T15:07:57.051866Z",
     "start_time": "2021-08-20T15:07:57.034789Z"
    }
   },
   "outputs": [
    {
     "data": {
      "text/html": [
       "<div>\n",
       "<style scoped>\n",
       "    .dataframe tbody tr th:only-of-type {\n",
       "        vertical-align: middle;\n",
       "    }\n",
       "\n",
       "    .dataframe tbody tr th {\n",
       "        vertical-align: top;\n",
       "    }\n",
       "\n",
       "    .dataframe thead th {\n",
       "        text-align: right;\n",
       "    }\n",
       "</style>\n",
       "<table border=\"1\" class=\"dataframe\">\n",
       "  <thead>\n",
       "    <tr style=\"text-align: right;\">\n",
       "      <th></th>\n",
       "      <th>gender</th>\n",
       "      <th>SeniorCitizen</th>\n",
       "      <th>Partner</th>\n",
       "      <th>Dependents</th>\n",
       "      <th>tenure</th>\n",
       "      <th>PhoneService</th>\n",
       "      <th>MultipleLines</th>\n",
       "      <th>InternetService</th>\n",
       "      <th>OnlineSecurity</th>\n",
       "      <th>OnlineBackup</th>\n",
       "      <th>DeviceProtection</th>\n",
       "      <th>TechSupport</th>\n",
       "      <th>StreamingTV</th>\n",
       "      <th>StreamingMovies</th>\n",
       "      <th>Contract</th>\n",
       "      <th>PaperlessBilling</th>\n",
       "      <th>PaymentMethod</th>\n",
       "      <th>MonthlyCharges</th>\n",
       "      <th>TotalCharges</th>\n",
       "      <th>Churn</th>\n",
       "    </tr>\n",
       "  </thead>\n",
       "  <tbody>\n",
       "    <tr>\n",
       "      <th>0</th>\n",
       "      <td>Male</td>\n",
       "      <td>0</td>\n",
       "      <td>Yes</td>\n",
       "      <td>Yes</td>\n",
       "      <td>72</td>\n",
       "      <td>Yes</td>\n",
       "      <td>Yes</td>\n",
       "      <td>No</td>\n",
       "      <td>No internet service</td>\n",
       "      <td>No internet service</td>\n",
       "      <td>No internet service</td>\n",
       "      <td>No internet service</td>\n",
       "      <td>No internet service</td>\n",
       "      <td>No internet service</td>\n",
       "      <td>Two year</td>\n",
       "      <td>No</td>\n",
       "      <td>Credit card (automatic)</td>\n",
       "      <td>24.10</td>\n",
       "      <td>1734.65</td>\n",
       "      <td>No</td>\n",
       "    </tr>\n",
       "    <tr>\n",
       "      <th>1</th>\n",
       "      <td>Female</td>\n",
       "      <td>0</td>\n",
       "      <td>No</td>\n",
       "      <td>No</td>\n",
       "      <td>44</td>\n",
       "      <td>Yes</td>\n",
       "      <td>No</td>\n",
       "      <td>Fiber optic</td>\n",
       "      <td>No</td>\n",
       "      <td>Yes</td>\n",
       "      <td>Yes</td>\n",
       "      <td>No</td>\n",
       "      <td>Yes</td>\n",
       "      <td>No</td>\n",
       "      <td>Month-to-month</td>\n",
       "      <td>Yes</td>\n",
       "      <td>Credit card (automatic)</td>\n",
       "      <td>88.15</td>\n",
       "      <td>3973.2</td>\n",
       "      <td>No</td>\n",
       "    </tr>\n",
       "    <tr>\n",
       "      <th>2</th>\n",
       "      <td>Female</td>\n",
       "      <td>1</td>\n",
       "      <td>Yes</td>\n",
       "      <td>No</td>\n",
       "      <td>38</td>\n",
       "      <td>Yes</td>\n",
       "      <td>Yes</td>\n",
       "      <td>Fiber optic</td>\n",
       "      <td>No</td>\n",
       "      <td>No</td>\n",
       "      <td>No</td>\n",
       "      <td>No</td>\n",
       "      <td>No</td>\n",
       "      <td>No</td>\n",
       "      <td>Month-to-month</td>\n",
       "      <td>Yes</td>\n",
       "      <td>Bank transfer (automatic)</td>\n",
       "      <td>74.95</td>\n",
       "      <td>2869.85</td>\n",
       "      <td>Yes</td>\n",
       "    </tr>\n",
       "  </tbody>\n",
       "</table>\n",
       "</div>"
      ],
      "text/plain": [
       "   gender  SeniorCitizen Partner Dependents  tenure PhoneService  \\\n",
       "0    Male              0     Yes        Yes      72          Yes   \n",
       "1  Female              0      No         No      44          Yes   \n",
       "2  Female              1     Yes         No      38          Yes   \n",
       "\n",
       "  MultipleLines InternetService       OnlineSecurity         OnlineBackup  \\\n",
       "0           Yes              No  No internet service  No internet service   \n",
       "1            No     Fiber optic                   No                  Yes   \n",
       "2           Yes     Fiber optic                   No                   No   \n",
       "\n",
       "      DeviceProtection          TechSupport          StreamingTV  \\\n",
       "0  No internet service  No internet service  No internet service   \n",
       "1                  Yes                   No                  Yes   \n",
       "2                   No                   No                   No   \n",
       "\n",
       "       StreamingMovies        Contract PaperlessBilling  \\\n",
       "0  No internet service        Two year               No   \n",
       "1                   No  Month-to-month              Yes   \n",
       "2                   No  Month-to-month              Yes   \n",
       "\n",
       "               PaymentMethod  MonthlyCharges TotalCharges Churn  \n",
       "0    Credit card (automatic)           24.10      1734.65    No  \n",
       "1    Credit card (automatic)           88.15       3973.2    No  \n",
       "2  Bank transfer (automatic)           74.95      2869.85   Yes  "
      ]
     },
     "execution_count": 20,
     "metadata": {},
     "output_type": "execute_result"
    }
   ],
   "source": [
    "df = df[df.columns[2:]]\n",
    "df.head(3)"
   ]
  },
  {
   "cell_type": "code",
   "execution_count": 22,
   "id": "81700b1a",
   "metadata": {
    "ExecuteTime": {
     "end_time": "2021-08-20T15:08:42.527586Z",
     "start_time": "2021-08-20T15:08:42.513687Z"
    }
   },
   "outputs": [
    {
     "name": "stdout",
     "output_type": "stream",
     "text": [
      "<class 'pandas.core.frame.DataFrame'>\n",
      "RangeIndex: 5986 entries, 0 to 5985\n",
      "Data columns (total 20 columns):\n",
      " #   Column            Non-Null Count  Dtype  \n",
      "---  ------            --------------  -----  \n",
      " 0   gender            5986 non-null   object \n",
      " 1   SeniorCitizen     5986 non-null   int64  \n",
      " 2   Partner           5986 non-null   object \n",
      " 3   Dependents        5986 non-null   object \n",
      " 4   tenure            5986 non-null   int64  \n",
      " 5   PhoneService      5986 non-null   object \n",
      " 6   MultipleLines     5986 non-null   object \n",
      " 7   InternetService   5986 non-null   object \n",
      " 8   OnlineSecurity    5986 non-null   object \n",
      " 9   OnlineBackup      5986 non-null   object \n",
      " 10  DeviceProtection  5986 non-null   object \n",
      " 11  TechSupport       5986 non-null   object \n",
      " 12  StreamingTV       5986 non-null   object \n",
      " 13  StreamingMovies   5986 non-null   object \n",
      " 14  Contract          5986 non-null   object \n",
      " 15  PaperlessBilling  5986 non-null   object \n",
      " 16  PaymentMethod     5986 non-null   object \n",
      " 17  MonthlyCharges    5986 non-null   float64\n",
      " 18  TotalCharges      5986 non-null   object \n",
      " 19  Churn             5986 non-null   object \n",
      "dtypes: float64(1), int64(2), object(17)\n",
      "memory usage: 935.4+ KB\n"
     ]
    }
   ],
   "source": [
    "#Смотрим на типы данных и на количество пропущенных значений\n",
    "df.info()"
   ]
  },
  {
   "cell_type": "code",
   "execution_count": 23,
   "id": "8fbf76f6",
   "metadata": {
    "ExecuteTime": {
     "end_time": "2021-08-20T15:08:53.862215Z",
     "start_time": "2021-08-20T15:08:53.853424Z"
    }
   },
   "outputs": [
    {
     "name": "stdout",
     "output_type": "stream",
     "text": [
      "gender              0\n",
      "SeniorCitizen       0\n",
      "Partner             0\n",
      "Dependents          0\n",
      "tenure              0\n",
      "PhoneService        0\n",
      "MultipleLines       0\n",
      "InternetService     0\n",
      "OnlineSecurity      0\n",
      "OnlineBackup        0\n",
      "DeviceProtection    0\n",
      "TechSupport         0\n",
      "StreamingTV         0\n",
      "StreamingMovies     0\n",
      "Contract            0\n",
      "PaperlessBilling    0\n",
      "PaymentMethod       0\n",
      "MonthlyCharges      0\n",
      "TotalCharges        0\n",
      "Churn               0\n",
      "dtype: int64\n"
     ]
    }
   ],
   "source": [
    "print(df.isna().sum())"
   ]
  },
  {
   "cell_type": "markdown",
   "id": "c1957e18",
   "metadata": {},
   "source": [
    "<div class='alert alert-warning'>\n",
    "    <p>\n",
    "        Метод df.info() показывает, что в датафрейме нет пропущенных значений, однако это не совсем так.</p>\n",
    "Если посмотреть внимательнее на признак <font color='red'>TotalCharhes</font>,\n",
    "то окажется, что в нем\n",
    "        есть пропуски, просто они закодированы пробелом (вместо 0 стоит пробел).\n",
    "        Кстати, именно поэтому признаку TotalCharges присвоен тип <font color='green'>object</font>, хотя очевидно, что должен быть <font color='green'>float64</font>\n",
    "    </p>\n",
    "    </div>"
   ]
  },
  {
   "cell_type": "code",
   "execution_count": 26,
   "id": "56cc3381",
   "metadata": {
    "ExecuteTime": {
     "end_time": "2021-08-20T15:17:06.706546Z",
     "start_time": "2021-08-20T15:17:06.685281Z"
    }
   },
   "outputs": [
    {
     "data": {
      "text/html": [
       "<div>\n",
       "<style scoped>\n",
       "    .dataframe tbody tr th:only-of-type {\n",
       "        vertical-align: middle;\n",
       "    }\n",
       "\n",
       "    .dataframe tbody tr th {\n",
       "        vertical-align: top;\n",
       "    }\n",
       "\n",
       "    .dataframe thead th {\n",
       "        text-align: right;\n",
       "    }\n",
       "</style>\n",
       "<table border=\"1\" class=\"dataframe\">\n",
       "  <thead>\n",
       "    <tr style=\"text-align: right;\">\n",
       "      <th></th>\n",
       "      <th>gender</th>\n",
       "      <th>SeniorCitizen</th>\n",
       "      <th>Partner</th>\n",
       "      <th>Dependents</th>\n",
       "      <th>tenure</th>\n",
       "      <th>PhoneService</th>\n",
       "      <th>MultipleLines</th>\n",
       "      <th>InternetService</th>\n",
       "      <th>OnlineSecurity</th>\n",
       "      <th>OnlineBackup</th>\n",
       "      <th>DeviceProtection</th>\n",
       "      <th>TechSupport</th>\n",
       "      <th>StreamingTV</th>\n",
       "      <th>StreamingMovies</th>\n",
       "      <th>Contract</th>\n",
       "      <th>PaperlessBilling</th>\n",
       "      <th>PaymentMethod</th>\n",
       "      <th>MonthlyCharges</th>\n",
       "      <th>TotalCharges</th>\n",
       "      <th>Churn</th>\n",
       "    </tr>\n",
       "  </thead>\n",
       "  <tbody>\n",
       "    <tr>\n",
       "      <th>356</th>\n",
       "      <td>Male</td>\n",
       "      <td>0</td>\n",
       "      <td>No</td>\n",
       "      <td>Yes</td>\n",
       "      <td>0</td>\n",
       "      <td>Yes</td>\n",
       "      <td>Yes</td>\n",
       "      <td>DSL</td>\n",
       "      <td>Yes</td>\n",
       "      <td>Yes</td>\n",
       "      <td>No</td>\n",
       "      <td>Yes</td>\n",
       "      <td>No</td>\n",
       "      <td>No</td>\n",
       "      <td>Two year</td>\n",
       "      <td>Yes</td>\n",
       "      <td>Bank transfer (automatic)</td>\n",
       "      <td>61.90</td>\n",
       "      <td></td>\n",
       "      <td>No</td>\n",
       "    </tr>\n",
       "    <tr>\n",
       "      <th>634</th>\n",
       "      <td>Female</td>\n",
       "      <td>0</td>\n",
       "      <td>Yes</td>\n",
       "      <td>Yes</td>\n",
       "      <td>0</td>\n",
       "      <td>No</td>\n",
       "      <td>No phone service</td>\n",
       "      <td>DSL</td>\n",
       "      <td>Yes</td>\n",
       "      <td>Yes</td>\n",
       "      <td>Yes</td>\n",
       "      <td>Yes</td>\n",
       "      <td>Yes</td>\n",
       "      <td>No</td>\n",
       "      <td>Two year</td>\n",
       "      <td>No</td>\n",
       "      <td>Credit card (automatic)</td>\n",
       "      <td>56.05</td>\n",
       "      <td></td>\n",
       "      <td>No</td>\n",
       "    </tr>\n",
       "    <tr>\n",
       "      <th>2771</th>\n",
       "      <td>Male</td>\n",
       "      <td>0</td>\n",
       "      <td>Yes</td>\n",
       "      <td>Yes</td>\n",
       "      <td>0</td>\n",
       "      <td>Yes</td>\n",
       "      <td>Yes</td>\n",
       "      <td>No</td>\n",
       "      <td>No internet service</td>\n",
       "      <td>No internet service</td>\n",
       "      <td>No internet service</td>\n",
       "      <td>No internet service</td>\n",
       "      <td>No internet service</td>\n",
       "      <td>No internet service</td>\n",
       "      <td>Two year</td>\n",
       "      <td>No</td>\n",
       "      <td>Mailed check</td>\n",
       "      <td>25.35</td>\n",
       "      <td></td>\n",
       "      <td>No</td>\n",
       "    </tr>\n",
       "    <tr>\n",
       "      <th>3086</th>\n",
       "      <td>Male</td>\n",
       "      <td>0</td>\n",
       "      <td>Yes</td>\n",
       "      <td>Yes</td>\n",
       "      <td>0</td>\n",
       "      <td>Yes</td>\n",
       "      <td>No</td>\n",
       "      <td>No</td>\n",
       "      <td>No internet service</td>\n",
       "      <td>No internet service</td>\n",
       "      <td>No internet service</td>\n",
       "      <td>No internet service</td>\n",
       "      <td>No internet service</td>\n",
       "      <td>No internet service</td>\n",
       "      <td>One year</td>\n",
       "      <td>Yes</td>\n",
       "      <td>Mailed check</td>\n",
       "      <td>19.70</td>\n",
       "      <td></td>\n",
       "      <td>No</td>\n",
       "    </tr>\n",
       "    <tr>\n",
       "      <th>3255</th>\n",
       "      <td>Male</td>\n",
       "      <td>0</td>\n",
       "      <td>Yes</td>\n",
       "      <td>Yes</td>\n",
       "      <td>0</td>\n",
       "      <td>Yes</td>\n",
       "      <td>No</td>\n",
       "      <td>No</td>\n",
       "      <td>No internet service</td>\n",
       "      <td>No internet service</td>\n",
       "      <td>No internet service</td>\n",
       "      <td>No internet service</td>\n",
       "      <td>No internet service</td>\n",
       "      <td>No internet service</td>\n",
       "      <td>Two year</td>\n",
       "      <td>No</td>\n",
       "      <td>Mailed check</td>\n",
       "      <td>19.85</td>\n",
       "      <td></td>\n",
       "      <td>No</td>\n",
       "    </tr>\n",
       "    <tr>\n",
       "      <th>4326</th>\n",
       "      <td>Female</td>\n",
       "      <td>0</td>\n",
       "      <td>Yes</td>\n",
       "      <td>Yes</td>\n",
       "      <td>0</td>\n",
       "      <td>Yes</td>\n",
       "      <td>No</td>\n",
       "      <td>DSL</td>\n",
       "      <td>Yes</td>\n",
       "      <td>Yes</td>\n",
       "      <td>Yes</td>\n",
       "      <td>No</td>\n",
       "      <td>Yes</td>\n",
       "      <td>Yes</td>\n",
       "      <td>Two year</td>\n",
       "      <td>No</td>\n",
       "      <td>Mailed check</td>\n",
       "      <td>80.85</td>\n",
       "      <td></td>\n",
       "      <td>No</td>\n",
       "    </tr>\n",
       "    <tr>\n",
       "      <th>5375</th>\n",
       "      <td>Male</td>\n",
       "      <td>0</td>\n",
       "      <td>No</td>\n",
       "      <td>Yes</td>\n",
       "      <td>0</td>\n",
       "      <td>Yes</td>\n",
       "      <td>No</td>\n",
       "      <td>No</td>\n",
       "      <td>No internet service</td>\n",
       "      <td>No internet service</td>\n",
       "      <td>No internet service</td>\n",
       "      <td>No internet service</td>\n",
       "      <td>No internet service</td>\n",
       "      <td>No internet service</td>\n",
       "      <td>Two year</td>\n",
       "      <td>No</td>\n",
       "      <td>Mailed check</td>\n",
       "      <td>20.25</td>\n",
       "      <td></td>\n",
       "      <td>No</td>\n",
       "    </tr>\n",
       "    <tr>\n",
       "      <th>5382</th>\n",
       "      <td>Female</td>\n",
       "      <td>0</td>\n",
       "      <td>Yes</td>\n",
       "      <td>Yes</td>\n",
       "      <td>0</td>\n",
       "      <td>Yes</td>\n",
       "      <td>No</td>\n",
       "      <td>No</td>\n",
       "      <td>No internet service</td>\n",
       "      <td>No internet service</td>\n",
       "      <td>No internet service</td>\n",
       "      <td>No internet service</td>\n",
       "      <td>No internet service</td>\n",
       "      <td>No internet service</td>\n",
       "      <td>Two year</td>\n",
       "      <td>No</td>\n",
       "      <td>Mailed check</td>\n",
       "      <td>20.00</td>\n",
       "      <td></td>\n",
       "      <td>No</td>\n",
       "    </tr>\n",
       "    <tr>\n",
       "      <th>5695</th>\n",
       "      <td>Female</td>\n",
       "      <td>0</td>\n",
       "      <td>Yes</td>\n",
       "      <td>Yes</td>\n",
       "      <td>0</td>\n",
       "      <td>No</td>\n",
       "      <td>No phone service</td>\n",
       "      <td>DSL</td>\n",
       "      <td>Yes</td>\n",
       "      <td>No</td>\n",
       "      <td>Yes</td>\n",
       "      <td>Yes</td>\n",
       "      <td>Yes</td>\n",
       "      <td>No</td>\n",
       "      <td>Two year</td>\n",
       "      <td>Yes</td>\n",
       "      <td>Bank transfer (automatic)</td>\n",
       "      <td>52.55</td>\n",
       "      <td></td>\n",
       "      <td>No</td>\n",
       "    </tr>\n",
       "    <tr>\n",
       "      <th>5951</th>\n",
       "      <td>Male</td>\n",
       "      <td>0</td>\n",
       "      <td>Yes</td>\n",
       "      <td>Yes</td>\n",
       "      <td>0</td>\n",
       "      <td>Yes</td>\n",
       "      <td>Yes</td>\n",
       "      <td>No</td>\n",
       "      <td>No internet service</td>\n",
       "      <td>No internet service</td>\n",
       "      <td>No internet service</td>\n",
       "      <td>No internet service</td>\n",
       "      <td>No internet service</td>\n",
       "      <td>No internet service</td>\n",
       "      <td>Two year</td>\n",
       "      <td>No</td>\n",
       "      <td>Mailed check</td>\n",
       "      <td>25.75</td>\n",
       "      <td></td>\n",
       "      <td>No</td>\n",
       "    </tr>\n",
       "  </tbody>\n",
       "</table>\n",
       "</div>"
      ],
      "text/plain": [
       "      gender  SeniorCitizen Partner Dependents  tenure PhoneService  \\\n",
       "356     Male              0      No        Yes       0          Yes   \n",
       "634   Female              0     Yes        Yes       0           No   \n",
       "2771    Male              0     Yes        Yes       0          Yes   \n",
       "3086    Male              0     Yes        Yes       0          Yes   \n",
       "3255    Male              0     Yes        Yes       0          Yes   \n",
       "4326  Female              0     Yes        Yes       0          Yes   \n",
       "5375    Male              0      No        Yes       0          Yes   \n",
       "5382  Female              0     Yes        Yes       0          Yes   \n",
       "5695  Female              0     Yes        Yes       0           No   \n",
       "5951    Male              0     Yes        Yes       0          Yes   \n",
       "\n",
       "         MultipleLines InternetService       OnlineSecurity  \\\n",
       "356                Yes             DSL                  Yes   \n",
       "634   No phone service             DSL                  Yes   \n",
       "2771               Yes              No  No internet service   \n",
       "3086                No              No  No internet service   \n",
       "3255                No              No  No internet service   \n",
       "4326                No             DSL                  Yes   \n",
       "5375                No              No  No internet service   \n",
       "5382                No              No  No internet service   \n",
       "5695  No phone service             DSL                  Yes   \n",
       "5951               Yes              No  No internet service   \n",
       "\n",
       "             OnlineBackup     DeviceProtection          TechSupport  \\\n",
       "356                   Yes                   No                  Yes   \n",
       "634                   Yes                  Yes                  Yes   \n",
       "2771  No internet service  No internet service  No internet service   \n",
       "3086  No internet service  No internet service  No internet service   \n",
       "3255  No internet service  No internet service  No internet service   \n",
       "4326                  Yes                  Yes                   No   \n",
       "5375  No internet service  No internet service  No internet service   \n",
       "5382  No internet service  No internet service  No internet service   \n",
       "5695                   No                  Yes                  Yes   \n",
       "5951  No internet service  No internet service  No internet service   \n",
       "\n",
       "              StreamingTV      StreamingMovies  Contract PaperlessBilling  \\\n",
       "356                    No                   No  Two year              Yes   \n",
       "634                   Yes                   No  Two year               No   \n",
       "2771  No internet service  No internet service  Two year               No   \n",
       "3086  No internet service  No internet service  One year              Yes   \n",
       "3255  No internet service  No internet service  Two year               No   \n",
       "4326                  Yes                  Yes  Two year               No   \n",
       "5375  No internet service  No internet service  Two year               No   \n",
       "5382  No internet service  No internet service  Two year               No   \n",
       "5695                  Yes                   No  Two year              Yes   \n",
       "5951  No internet service  No internet service  Two year               No   \n",
       "\n",
       "                  PaymentMethod  MonthlyCharges TotalCharges Churn  \n",
       "356   Bank transfer (automatic)           61.90                 No  \n",
       "634     Credit card (automatic)           56.05                 No  \n",
       "2771               Mailed check           25.35                 No  \n",
       "3086               Mailed check           19.70                 No  \n",
       "3255               Mailed check           19.85                 No  \n",
       "4326               Mailed check           80.85                 No  \n",
       "5375               Mailed check           20.25                 No  \n",
       "5382               Mailed check           20.00                 No  \n",
       "5695  Bank transfer (automatic)           52.55                 No  \n",
       "5951               Mailed check           25.75                 No  "
      ]
     },
     "execution_count": 26,
     "metadata": {},
     "output_type": "execute_result"
    }
   ],
   "source": [
    "#Смотрим на пропущенные значения\n",
    "df[df['TotalCharges'] == ' ']"
   ]
  },
  {
   "cell_type": "markdown",
   "id": "bc0a3f44",
   "metadata": {
    "ExecuteTime": {
     "end_time": "2021-08-20T15:21:53.035961Z",
     "start_time": "2021-08-20T15:21:53.032760Z"
    }
   },
   "source": [
    "<div class='alert alert-info'>\n",
    "    У нас есть 2 варианта обработки пропущенных значений:\n",
    "            <ol>\n",
    "            <li>Удалить пропуски</li>\n",
    "            <li>Заполнить пропуски значениями</li>\n",
    "            </ol>\n",
    "    <p>Если посмотреть на признак <font color='red'>tenure</font> (сколько месяцев человек является клиентом компании), то видно, что значение признака у всех = 0. Все эти клиенты пользуются услугами компании первый месяц.</p>\n",
    "    <p>Очевидно, что для них можно заполнить пропуски размером месячной оплаты</p>\n",
    "</div>"
   ]
  },
  {
   "cell_type": "code",
   "execution_count": 28,
   "id": "1e1277d1",
   "metadata": {
    "ExecuteTime": {
     "end_time": "2021-08-20T15:26:52.788313Z",
     "start_time": "2021-08-20T15:26:52.783263Z"
    }
   },
   "outputs": [],
   "source": [
    "df.loc[df['TotalCharges'] == ' ', 'TotalCharges'] = df[df['TotalCharges'] == ' ']['MonthlyCharges']"
   ]
  },
  {
   "cell_type": "markdown",
   "id": "1b09c1b8",
   "metadata": {},
   "source": [
    "<a id='type_fit'></a>\n",
    "<div class='alert alert-info'>\n",
    "    <p>\n",
    "        Необходимо разобраться с типами данных. В датасете представлено 3 числовых признака: (tenure, MonthlyCharges, TotalCharges), все остальные - это категориальные данные.</p>\n",
    "    <p>Для признака <font color='red'>TotalCharges</font> - поменяем тип данных на числовой.</p>\n",
    "    <p>Для признака <font color='red'>SeniorCitizen</font> я поменяю тип на object - т.к. данные в нем представлены всего 2 значениями: 0 и 1, логичнее будет получить из него впоследствии dummy-переменные\n",
    "    </p>\n",
    "    </div>"
   ]
  },
  {
   "cell_type": "code",
   "execution_count": 32,
   "id": "4f814fc2",
   "metadata": {
    "ExecuteTime": {
     "end_time": "2021-08-20T15:36:29.714868Z",
     "start_time": "2021-08-20T15:36:29.709104Z"
    }
   },
   "outputs": [],
   "source": [
    "df['TotalCharges'] = pd.to_numeric(df['TotalCharges'])"
   ]
  },
  {
   "cell_type": "code",
   "execution_count": 33,
   "id": "08808ac5",
   "metadata": {
    "ExecuteTime": {
     "end_time": "2021-08-20T15:36:36.923636Z",
     "start_time": "2021-08-20T15:36:36.920588Z"
    }
   },
   "outputs": [],
   "source": [
    "df['SeniorCitizen'] = df['SeniorCitizen'].astype('object')"
   ]
  },
  {
   "cell_type": "markdown",
   "id": "4c876b72",
   "metadata": {
    "ExecuteTime": {
     "end_time": "2021-08-20T15:41:20.008391Z",
     "start_time": "2021-08-20T15:41:20.005804Z"
    }
   },
   "source": [
    "<a id='models_caption'></a>\n",
    "<h2><center>3. Построение моделей</center></h2>"
   ]
  },
  {
   "cell_type": "markdown",
   "id": "576cb7fc",
   "metadata": {
    "ExecuteTime": {
     "end_time": "2021-08-20T15:43:55.537944Z",
     "start_time": "2021-08-20T15:43:55.535117Z"
    }
   },
   "source": [
    "<a id='models_data_prep'></a>\n",
    "<div class='alert alert-info'>\n",
    "<p>Для начала сохраним целевой признак в отдельную переменную</p>\n",
    "</div>"
   ]
  },
  {
   "cell_type": "code",
   "execution_count": 37,
   "id": "166d8ec5",
   "metadata": {
    "ExecuteTime": {
     "end_time": "2021-08-20T15:44:43.292183Z",
     "start_time": "2021-08-20T15:44:43.287206Z"
    },
    "pycharm": {
     "name": "#%%\n"
    }
   },
   "outputs": [],
   "source": [
    "Y = df['Churn'].copy()\n",
    "df = df.drop('Churn', axis=1)"
   ]
  },
  {
   "cell_type": "markdown",
   "id": "4a771a69",
   "metadata": {},
   "source": [
    "<div class='alert alert-info'>\n",
    "    <p>\n",
    "        На предыдущем шаге мы преобразовали данные к нужным нам типам.</p>\n",
    "    <p>Смотрим на количество уникальных элементов в категориальных признаках\n",
    "    </p>\n",
    "    </div>"
   ]
  },
  {
   "cell_type": "code",
   "execution_count": 38,
   "id": "8326ba4a",
   "metadata": {
    "ExecuteTime": {
     "end_time": "2021-08-20T15:47:08.396224Z",
     "start_time": "2021-08-20T15:47:08.372778Z"
    },
    "pycharm": {
     "name": "#%%\n"
    }
   },
   "outputs": [
    {
     "data": {
      "text/plain": [
       "gender              2\n",
       "SeniorCitizen       2\n",
       "Partner             2\n",
       "Dependents          2\n",
       "PhoneService        2\n",
       "MultipleLines       3\n",
       "InternetService     3\n",
       "OnlineSecurity      3\n",
       "OnlineBackup        3\n",
       "DeviceProtection    3\n",
       "TechSupport         3\n",
       "StreamingTV         3\n",
       "StreamingMovies     3\n",
       "Contract            3\n",
       "PaperlessBilling    2\n",
       "PaymentMethod       4\n",
       "dtype: int64"
      ]
     },
     "execution_count": 38,
     "metadata": {},
     "output_type": "execute_result"
    }
   ],
   "source": [
    "df.select_dtypes(include=['object']).nunique()"
   ]
  },
  {
   "cell_type": "markdown",
   "id": "fc6e0562",
   "metadata": {
    "ExecuteTime": {
     "end_time": "2021-08-20T15:47:59.306641Z",
     "start_time": "2021-08-20T15:47:59.303661Z"
    }
   },
   "source": [
    "<div class='alert alert-info'>\n",
    "    <p>\n",
    "        Максимальное количество уникальных элеметов для признаков - 4, это позволяет без особых затрат преобразовать их в dummy переменные\n",
    "    </p>\n",
    "    </div>"
   ]
  },
  {
   "cell_type": "code",
   "execution_count": 40,
   "id": "e705a342",
   "metadata": {
    "ExecuteTime": {
     "end_time": "2021-08-20T15:49:00.503427Z",
     "start_time": "2021-08-20T15:49:00.499680Z"
    }
   },
   "outputs": [],
   "source": [
    "#Сохраняем в отдельную переменную категориальные признаки\n",
    "cat_columns = df.select_dtypes(include=['object']).columns"
   ]
  },
  {
   "cell_type": "code",
   "execution_count": 41,
   "id": "403f8fe0",
   "metadata": {
    "ExecuteTime": {
     "end_time": "2021-08-20T15:50:17.071533Z",
     "start_time": "2021-08-20T15:50:17.035523Z"
    }
   },
   "outputs": [
    {
     "name": "stdout",
     "output_type": "stream",
     "text": [
      "<class 'pandas.core.frame.DataFrame'>\n",
      "RangeIndex: 5986 entries, 0 to 5985\n",
      "Data columns (total 46 columns):\n",
      " #   Column                                   Non-Null Count  Dtype  \n",
      "---  ------                                   --------------  -----  \n",
      " 0   tenure                                   5986 non-null   int64  \n",
      " 1   MonthlyCharges                           5986 non-null   float64\n",
      " 2   TotalCharges                             5986 non-null   float64\n",
      " 3   gender_Female                            5986 non-null   uint8  \n",
      " 4   gender_Male                              5986 non-null   uint8  \n",
      " 5   SeniorCitizen_0                          5986 non-null   uint8  \n",
      " 6   SeniorCitizen_1                          5986 non-null   uint8  \n",
      " 7   Partner_No                               5986 non-null   uint8  \n",
      " 8   Partner_Yes                              5986 non-null   uint8  \n",
      " 9   Dependents_No                            5986 non-null   uint8  \n",
      " 10  Dependents_Yes                           5986 non-null   uint8  \n",
      " 11  PhoneService_No                          5986 non-null   uint8  \n",
      " 12  PhoneService_Yes                         5986 non-null   uint8  \n",
      " 13  MultipleLines_No                         5986 non-null   uint8  \n",
      " 14  MultipleLines_No phone service           5986 non-null   uint8  \n",
      " 15  MultipleLines_Yes                        5986 non-null   uint8  \n",
      " 16  InternetService_DSL                      5986 non-null   uint8  \n",
      " 17  InternetService_Fiber optic              5986 non-null   uint8  \n",
      " 18  InternetService_No                       5986 non-null   uint8  \n",
      " 19  OnlineSecurity_No                        5986 non-null   uint8  \n",
      " 20  OnlineSecurity_No internet service       5986 non-null   uint8  \n",
      " 21  OnlineSecurity_Yes                       5986 non-null   uint8  \n",
      " 22  OnlineBackup_No                          5986 non-null   uint8  \n",
      " 23  OnlineBackup_No internet service         5986 non-null   uint8  \n",
      " 24  OnlineBackup_Yes                         5986 non-null   uint8  \n",
      " 25  DeviceProtection_No                      5986 non-null   uint8  \n",
      " 26  DeviceProtection_No internet service     5986 non-null   uint8  \n",
      " 27  DeviceProtection_Yes                     5986 non-null   uint8  \n",
      " 28  TechSupport_No                           5986 non-null   uint8  \n",
      " 29  TechSupport_No internet service          5986 non-null   uint8  \n",
      " 30  TechSupport_Yes                          5986 non-null   uint8  \n",
      " 31  StreamingTV_No                           5986 non-null   uint8  \n",
      " 32  StreamingTV_No internet service          5986 non-null   uint8  \n",
      " 33  StreamingTV_Yes                          5986 non-null   uint8  \n",
      " 34  StreamingMovies_No                       5986 non-null   uint8  \n",
      " 35  StreamingMovies_No internet service      5986 non-null   uint8  \n",
      " 36  StreamingMovies_Yes                      5986 non-null   uint8  \n",
      " 37  Contract_Month-to-month                  5986 non-null   uint8  \n",
      " 38  Contract_One year                        5986 non-null   uint8  \n",
      " 39  Contract_Two year                        5986 non-null   uint8  \n",
      " 40  PaperlessBilling_No                      5986 non-null   uint8  \n",
      " 41  PaperlessBilling_Yes                     5986 non-null   uint8  \n",
      " 42  PaymentMethod_Bank transfer (automatic)  5986 non-null   uint8  \n",
      " 43  PaymentMethod_Credit card (automatic)    5986 non-null   uint8  \n",
      " 44  PaymentMethod_Electronic check           5986 non-null   uint8  \n",
      " 45  PaymentMethod_Mailed check               5986 non-null   uint8  \n",
      "dtypes: float64(2), int64(1), uint8(43)\n",
      "memory usage: 391.8 KB\n"
     ]
    }
   ],
   "source": [
    "#В отдельный датафрейм сохраним инфо из исходного с закодированными dummy переменными для категориальных признаков\n",
    "df_main = pd.get_dummies(df, prefix=cat_columns)\n",
    "df_main.info()"
   ]
  },
  {
   "cell_type": "markdown",
   "id": "c11a51b8",
   "metadata": {},
   "source": [
    "<div class='alert alert-info'>\n",
    "    <p>\n",
    "        В итоге мы получаем датафрейм, содержащий 46 признаков.</p>\n",
    "        <p>Осталось разобраться с числовыми типами данных: для повышения точности моделей их желательно стандартизировать (стандартизацию будем делать только для 3 признаков, т.к. для dummy переменных эта операция не будет иметь никакого эффекта)\n",
    "    </p>\n",
    "    </div>"
   ]
  },
  {
   "cell_type": "code",
   "execution_count": 42,
   "id": "7cf6a7ce",
   "metadata": {
    "ExecuteTime": {
     "end_time": "2021-08-20T15:53:21.010223Z",
     "start_time": "2021-08-20T15:53:21.001723Z"
    },
    "pycharm": {
     "name": "#%%\n"
    }
   },
   "outputs": [],
   "source": [
    "#Выбираем признаки с числовыми типами данных\n",
    "num_columns = df.select_dtypes(include=['number']).columns"
   ]
  },
  {
   "cell_type": "code",
   "execution_count": 44,
   "id": "d62a5c98",
   "metadata": {
    "ExecuteTime": {
     "end_time": "2021-08-20T15:55:23.018858Z",
     "start_time": "2021-08-20T15:55:22.994425Z"
    }
   },
   "outputs": [
    {
     "data": {
      "text/html": [
       "<div>\n",
       "<style scoped>\n",
       "    .dataframe tbody tr th:only-of-type {\n",
       "        vertical-align: middle;\n",
       "    }\n",
       "\n",
       "    .dataframe tbody tr th {\n",
       "        vertical-align: top;\n",
       "    }\n",
       "\n",
       "    .dataframe thead th {\n",
       "        text-align: right;\n",
       "    }\n",
       "</style>\n",
       "<table border=\"1\" class=\"dataframe\">\n",
       "  <thead>\n",
       "    <tr style=\"text-align: right;\">\n",
       "      <th></th>\n",
       "      <th>tenure</th>\n",
       "      <th>MonthlyCharges</th>\n",
       "      <th>TotalCharges</th>\n",
       "      <th>gender_Female</th>\n",
       "      <th>gender_Male</th>\n",
       "      <th>SeniorCitizen_0</th>\n",
       "      <th>SeniorCitizen_1</th>\n",
       "      <th>Partner_No</th>\n",
       "      <th>Partner_Yes</th>\n",
       "      <th>Dependents_No</th>\n",
       "      <th>...</th>\n",
       "      <th>StreamingMovies_Yes</th>\n",
       "      <th>Contract_Month-to-month</th>\n",
       "      <th>Contract_One year</th>\n",
       "      <th>Contract_Two year</th>\n",
       "      <th>PaperlessBilling_No</th>\n",
       "      <th>PaperlessBilling_Yes</th>\n",
       "      <th>PaymentMethod_Bank transfer (automatic)</th>\n",
       "      <th>PaymentMethod_Credit card (automatic)</th>\n",
       "      <th>PaymentMethod_Electronic check</th>\n",
       "      <th>PaymentMethod_Mailed check</th>\n",
       "    </tr>\n",
       "  </thead>\n",
       "  <tbody>\n",
       "    <tr>\n",
       "      <th>0</th>\n",
       "      <td>1.612576</td>\n",
       "      <td>-1.351686</td>\n",
       "      <td>-0.246111</td>\n",
       "      <td>0</td>\n",
       "      <td>1</td>\n",
       "      <td>1</td>\n",
       "      <td>0</td>\n",
       "      <td>0</td>\n",
       "      <td>1</td>\n",
       "      <td>0</td>\n",
       "      <td>...</td>\n",
       "      <td>0</td>\n",
       "      <td>0</td>\n",
       "      <td>0</td>\n",
       "      <td>1</td>\n",
       "      <td>1</td>\n",
       "      <td>0</td>\n",
       "      <td>0</td>\n",
       "      <td>1</td>\n",
       "      <td>0</td>\n",
       "      <td>0</td>\n",
       "    </tr>\n",
       "    <tr>\n",
       "      <th>1</th>\n",
       "      <td>0.470387</td>\n",
       "      <td>0.775360</td>\n",
       "      <td>0.738338</td>\n",
       "      <td>1</td>\n",
       "      <td>0</td>\n",
       "      <td>1</td>\n",
       "      <td>0</td>\n",
       "      <td>1</td>\n",
       "      <td>0</td>\n",
       "      <td>1</td>\n",
       "      <td>...</td>\n",
       "      <td>0</td>\n",
       "      <td>1</td>\n",
       "      <td>0</td>\n",
       "      <td>0</td>\n",
       "      <td>0</td>\n",
       "      <td>1</td>\n",
       "      <td>0</td>\n",
       "      <td>1</td>\n",
       "      <td>0</td>\n",
       "      <td>0</td>\n",
       "    </tr>\n",
       "    <tr>\n",
       "      <th>2</th>\n",
       "      <td>0.225633</td>\n",
       "      <td>0.336999</td>\n",
       "      <td>0.253117</td>\n",
       "      <td>1</td>\n",
       "      <td>0</td>\n",
       "      <td>0</td>\n",
       "      <td>1</td>\n",
       "      <td>0</td>\n",
       "      <td>1</td>\n",
       "      <td>1</td>\n",
       "      <td>...</td>\n",
       "      <td>0</td>\n",
       "      <td>1</td>\n",
       "      <td>0</td>\n",
       "      <td>0</td>\n",
       "      <td>0</td>\n",
       "      <td>1</td>\n",
       "      <td>1</td>\n",
       "      <td>0</td>\n",
       "      <td>0</td>\n",
       "      <td>0</td>\n",
       "    </tr>\n",
       "    <tr>\n",
       "      <th>3</th>\n",
       "      <td>-1.161310</td>\n",
       "      <td>-0.295635</td>\n",
       "      <td>-0.904075</td>\n",
       "      <td>0</td>\n",
       "      <td>1</td>\n",
       "      <td>1</td>\n",
       "      <td>0</td>\n",
       "      <td>1</td>\n",
       "      <td>0</td>\n",
       "      <td>1</td>\n",
       "      <td>...</td>\n",
       "      <td>1</td>\n",
       "      <td>1</td>\n",
       "      <td>0</td>\n",
       "      <td>0</td>\n",
       "      <td>0</td>\n",
       "      <td>1</td>\n",
       "      <td>0</td>\n",
       "      <td>0</td>\n",
       "      <td>1</td>\n",
       "      <td>0</td>\n",
       "    </tr>\n",
       "    <tr>\n",
       "      <th>4</th>\n",
       "      <td>-1.242895</td>\n",
       "      <td>-0.376997</td>\n",
       "      <td>-0.956408</td>\n",
       "      <td>0</td>\n",
       "      <td>1</td>\n",
       "      <td>1</td>\n",
       "      <td>0</td>\n",
       "      <td>1</td>\n",
       "      <td>0</td>\n",
       "      <td>1</td>\n",
       "      <td>...</td>\n",
       "      <td>0</td>\n",
       "      <td>1</td>\n",
       "      <td>0</td>\n",
       "      <td>0</td>\n",
       "      <td>1</td>\n",
       "      <td>0</td>\n",
       "      <td>0</td>\n",
       "      <td>0</td>\n",
       "      <td>1</td>\n",
       "      <td>0</td>\n",
       "    </tr>\n",
       "  </tbody>\n",
       "</table>\n",
       "<p>5 rows × 46 columns</p>\n",
       "</div>"
      ],
      "text/plain": [
       "     tenure  MonthlyCharges  TotalCharges  gender_Female  gender_Male  \\\n",
       "0  1.612576       -1.351686     -0.246111              0            1   \n",
       "1  0.470387        0.775360      0.738338              1            0   \n",
       "2  0.225633        0.336999      0.253117              1            0   \n",
       "3 -1.161310       -0.295635     -0.904075              0            1   \n",
       "4 -1.242895       -0.376997     -0.956408              0            1   \n",
       "\n",
       "   SeniorCitizen_0  SeniorCitizen_1  Partner_No  Partner_Yes  Dependents_No  \\\n",
       "0                1                0           0            1              0   \n",
       "1                1                0           1            0              1   \n",
       "2                0                1           0            1              1   \n",
       "3                1                0           1            0              1   \n",
       "4                1                0           1            0              1   \n",
       "\n",
       "   ...  StreamingMovies_Yes  Contract_Month-to-month  Contract_One year  \\\n",
       "0  ...                    0                        0                  0   \n",
       "1  ...                    0                        1                  0   \n",
       "2  ...                    0                        1                  0   \n",
       "3  ...                    1                        1                  0   \n",
       "4  ...                    0                        1                  0   \n",
       "\n",
       "   Contract_Two year  PaperlessBilling_No  PaperlessBilling_Yes  \\\n",
       "0                  1                    1                     0   \n",
       "1                  0                    0                     1   \n",
       "2                  0                    0                     1   \n",
       "3                  0                    0                     1   \n",
       "4                  0                    1                     0   \n",
       "\n",
       "   PaymentMethod_Bank transfer (automatic)  \\\n",
       "0                                        0   \n",
       "1                                        0   \n",
       "2                                        1   \n",
       "3                                        0   \n",
       "4                                        0   \n",
       "\n",
       "   PaymentMethod_Credit card (automatic)  PaymentMethod_Electronic check  \\\n",
       "0                                      1                               0   \n",
       "1                                      1                               0   \n",
       "2                                      0                               0   \n",
       "3                                      0                               1   \n",
       "4                                      0                               1   \n",
       "\n",
       "   PaymentMethod_Mailed check  \n",
       "0                           0  \n",
       "1                           0  \n",
       "2                           0  \n",
       "3                           0  \n",
       "4                           0  \n",
       "\n",
       "[5 rows x 46 columns]"
      ]
     },
     "execution_count": 44,
     "metadata": {},
     "output_type": "execute_result"
    }
   ],
   "source": [
    "#Применяем стандартизацию из пакета sklearn\n",
    "sc = StandardScaler()\n",
    "df_main[num_columns] = sc.fit_transform(df[num_columns])\n",
    "df_main.head(5)"
   ]
  },
  {
   "cell_type": "markdown",
   "id": "f2fc20ca",
   "metadata": {},
   "source": [
    "<div class='alert alert-info'>\n",
    "    <p>\n",
    "        Для удобства приведем все названия признаков к нижнему регистру. Это позволит избежать возможных опечаток\n",
    "    </p>\n",
    "    </div>"
   ]
  },
  {
   "cell_type": "code",
   "execution_count": 45,
   "id": "938f257e",
   "metadata": {
    "ExecuteTime": {
     "end_time": "2021-08-20T16:47:36.046932Z",
     "start_time": "2021-08-20T16:47:36.044107Z"
    }
   },
   "outputs": [],
   "source": [
    "df_main.columns = map(lambda x: x.lower().strip(), df_main.columns)"
   ]
  },
  {
   "cell_type": "markdown",
   "id": "d302fe45",
   "metadata": {},
   "source": [
    "<div class='alert alert-info'>\n",
    "    <p>\n",
    "        Классы в целевой переменной Churn распределены неравномерно. Отток составляет 26% из всех представленных данных.\n",
    "    </p>\n",
    "    </div>"
   ]
  },
  {
   "cell_type": "code",
   "execution_count": 53,
   "id": "6ed0abd0",
   "metadata": {
    "ExecuteTime": {
     "end_time": "2021-08-20T16:54:18.508737Z",
     "start_time": "2021-08-20T16:54:18.501604Z"
    },
    "pycharm": {
     "name": "#%%\n"
    }
   },
   "outputs": [
    {
     "data": {
      "text/plain": [
       "No     0.734881\n",
       "Yes    0.265119\n",
       "Name: Churn, dtype: float64"
      ]
     },
     "execution_count": 53,
     "metadata": {},
     "output_type": "execute_result"
    }
   ],
   "source": [
    "#Смотрим на распределение значений целевой переменной. \n",
    "#Параметр normalize - для отображения не абсолютных, а относительных значений\n",
    "Y.value_counts(normalize=True)"
   ]
  },
  {
   "cell_type": "code",
   "execution_count": 54,
   "id": "489f4ba6",
   "metadata": {
    "ExecuteTime": {
     "end_time": "2021-08-20T16:54:29.980401Z",
     "start_time": "2021-08-20T16:54:29.928862Z"
    },
    "pycharm": {
     "name": "#%%\n"
    },
    "scrolled": false
   },
   "outputs": [
    {
     "data": {
      "application/vnd.plotly.v1+json": {
       "config": {
        "plotlyServerURL": "https://plot.ly"
       },
       "data": [
        {
         "alignmentgroup": "True",
         "hovertemplate": "x=%{x}<br>y=%{y}<extra></extra>",
         "legendgroup": "",
         "marker": {
          "color": "#636efa",
          "pattern": {
           "shape": ""
          }
         },
         "name": "",
         "offsetgroup": "",
         "orientation": "v",
         "showlegend": false,
         "textposition": "auto",
         "type": "bar",
         "x": [
          0,
          1
         ],
         "xaxis": "x",
         "y": [
          0.7348813899097895,
          0.2651186100902105
         ],
         "yaxis": "y"
        }
       ],
       "layout": {
        "barmode": "relative",
        "legend": {
         "tracegroupgap": 0
        },
        "template": {
         "data": {
          "bar": [
           {
            "error_x": {
             "color": "#2a3f5f"
            },
            "error_y": {
             "color": "#2a3f5f"
            },
            "marker": {
             "line": {
              "color": "#E5ECF6",
              "width": 0.5
             },
             "pattern": {
              "fillmode": "overlay",
              "size": 10,
              "solidity": 0.2
             }
            },
            "type": "bar"
           }
          ],
          "barpolar": [
           {
            "marker": {
             "line": {
              "color": "#E5ECF6",
              "width": 0.5
             },
             "pattern": {
              "fillmode": "overlay",
              "size": 10,
              "solidity": 0.2
             }
            },
            "type": "barpolar"
           }
          ],
          "carpet": [
           {
            "aaxis": {
             "endlinecolor": "#2a3f5f",
             "gridcolor": "white",
             "linecolor": "white",
             "minorgridcolor": "white",
             "startlinecolor": "#2a3f5f"
            },
            "baxis": {
             "endlinecolor": "#2a3f5f",
             "gridcolor": "white",
             "linecolor": "white",
             "minorgridcolor": "white",
             "startlinecolor": "#2a3f5f"
            },
            "type": "carpet"
           }
          ],
          "choropleth": [
           {
            "colorbar": {
             "outlinewidth": 0,
             "ticks": ""
            },
            "type": "choropleth"
           }
          ],
          "contour": [
           {
            "colorbar": {
             "outlinewidth": 0,
             "ticks": ""
            },
            "colorscale": [
             [
              0,
              "#0d0887"
             ],
             [
              0.1111111111111111,
              "#46039f"
             ],
             [
              0.2222222222222222,
              "#7201a8"
             ],
             [
              0.3333333333333333,
              "#9c179e"
             ],
             [
              0.4444444444444444,
              "#bd3786"
             ],
             [
              0.5555555555555556,
              "#d8576b"
             ],
             [
              0.6666666666666666,
              "#ed7953"
             ],
             [
              0.7777777777777778,
              "#fb9f3a"
             ],
             [
              0.8888888888888888,
              "#fdca26"
             ],
             [
              1,
              "#f0f921"
             ]
            ],
            "type": "contour"
           }
          ],
          "contourcarpet": [
           {
            "colorbar": {
             "outlinewidth": 0,
             "ticks": ""
            },
            "type": "contourcarpet"
           }
          ],
          "heatmap": [
           {
            "colorbar": {
             "outlinewidth": 0,
             "ticks": ""
            },
            "colorscale": [
             [
              0,
              "#0d0887"
             ],
             [
              0.1111111111111111,
              "#46039f"
             ],
             [
              0.2222222222222222,
              "#7201a8"
             ],
             [
              0.3333333333333333,
              "#9c179e"
             ],
             [
              0.4444444444444444,
              "#bd3786"
             ],
             [
              0.5555555555555556,
              "#d8576b"
             ],
             [
              0.6666666666666666,
              "#ed7953"
             ],
             [
              0.7777777777777778,
              "#fb9f3a"
             ],
             [
              0.8888888888888888,
              "#fdca26"
             ],
             [
              1,
              "#f0f921"
             ]
            ],
            "type": "heatmap"
           }
          ],
          "heatmapgl": [
           {
            "colorbar": {
             "outlinewidth": 0,
             "ticks": ""
            },
            "colorscale": [
             [
              0,
              "#0d0887"
             ],
             [
              0.1111111111111111,
              "#46039f"
             ],
             [
              0.2222222222222222,
              "#7201a8"
             ],
             [
              0.3333333333333333,
              "#9c179e"
             ],
             [
              0.4444444444444444,
              "#bd3786"
             ],
             [
              0.5555555555555556,
              "#d8576b"
             ],
             [
              0.6666666666666666,
              "#ed7953"
             ],
             [
              0.7777777777777778,
              "#fb9f3a"
             ],
             [
              0.8888888888888888,
              "#fdca26"
             ],
             [
              1,
              "#f0f921"
             ]
            ],
            "type": "heatmapgl"
           }
          ],
          "histogram": [
           {
            "marker": {
             "pattern": {
              "fillmode": "overlay",
              "size": 10,
              "solidity": 0.2
             }
            },
            "type": "histogram"
           }
          ],
          "histogram2d": [
           {
            "colorbar": {
             "outlinewidth": 0,
             "ticks": ""
            },
            "colorscale": [
             [
              0,
              "#0d0887"
             ],
             [
              0.1111111111111111,
              "#46039f"
             ],
             [
              0.2222222222222222,
              "#7201a8"
             ],
             [
              0.3333333333333333,
              "#9c179e"
             ],
             [
              0.4444444444444444,
              "#bd3786"
             ],
             [
              0.5555555555555556,
              "#d8576b"
             ],
             [
              0.6666666666666666,
              "#ed7953"
             ],
             [
              0.7777777777777778,
              "#fb9f3a"
             ],
             [
              0.8888888888888888,
              "#fdca26"
             ],
             [
              1,
              "#f0f921"
             ]
            ],
            "type": "histogram2d"
           }
          ],
          "histogram2dcontour": [
           {
            "colorbar": {
             "outlinewidth": 0,
             "ticks": ""
            },
            "colorscale": [
             [
              0,
              "#0d0887"
             ],
             [
              0.1111111111111111,
              "#46039f"
             ],
             [
              0.2222222222222222,
              "#7201a8"
             ],
             [
              0.3333333333333333,
              "#9c179e"
             ],
             [
              0.4444444444444444,
              "#bd3786"
             ],
             [
              0.5555555555555556,
              "#d8576b"
             ],
             [
              0.6666666666666666,
              "#ed7953"
             ],
             [
              0.7777777777777778,
              "#fb9f3a"
             ],
             [
              0.8888888888888888,
              "#fdca26"
             ],
             [
              1,
              "#f0f921"
             ]
            ],
            "type": "histogram2dcontour"
           }
          ],
          "mesh3d": [
           {
            "colorbar": {
             "outlinewidth": 0,
             "ticks": ""
            },
            "type": "mesh3d"
           }
          ],
          "parcoords": [
           {
            "line": {
             "colorbar": {
              "outlinewidth": 0,
              "ticks": ""
             }
            },
            "type": "parcoords"
           }
          ],
          "pie": [
           {
            "automargin": true,
            "type": "pie"
           }
          ],
          "scatter": [
           {
            "marker": {
             "colorbar": {
              "outlinewidth": 0,
              "ticks": ""
             }
            },
            "type": "scatter"
           }
          ],
          "scatter3d": [
           {
            "line": {
             "colorbar": {
              "outlinewidth": 0,
              "ticks": ""
             }
            },
            "marker": {
             "colorbar": {
              "outlinewidth": 0,
              "ticks": ""
             }
            },
            "type": "scatter3d"
           }
          ],
          "scattercarpet": [
           {
            "marker": {
             "colorbar": {
              "outlinewidth": 0,
              "ticks": ""
             }
            },
            "type": "scattercarpet"
           }
          ],
          "scattergeo": [
           {
            "marker": {
             "colorbar": {
              "outlinewidth": 0,
              "ticks": ""
             }
            },
            "type": "scattergeo"
           }
          ],
          "scattergl": [
           {
            "marker": {
             "colorbar": {
              "outlinewidth": 0,
              "ticks": ""
             }
            },
            "type": "scattergl"
           }
          ],
          "scattermapbox": [
           {
            "marker": {
             "colorbar": {
              "outlinewidth": 0,
              "ticks": ""
             }
            },
            "type": "scattermapbox"
           }
          ],
          "scatterpolar": [
           {
            "marker": {
             "colorbar": {
              "outlinewidth": 0,
              "ticks": ""
             }
            },
            "type": "scatterpolar"
           }
          ],
          "scatterpolargl": [
           {
            "marker": {
             "colorbar": {
              "outlinewidth": 0,
              "ticks": ""
             }
            },
            "type": "scatterpolargl"
           }
          ],
          "scatterternary": [
           {
            "marker": {
             "colorbar": {
              "outlinewidth": 0,
              "ticks": ""
             }
            },
            "type": "scatterternary"
           }
          ],
          "surface": [
           {
            "colorbar": {
             "outlinewidth": 0,
             "ticks": ""
            },
            "colorscale": [
             [
              0,
              "#0d0887"
             ],
             [
              0.1111111111111111,
              "#46039f"
             ],
             [
              0.2222222222222222,
              "#7201a8"
             ],
             [
              0.3333333333333333,
              "#9c179e"
             ],
             [
              0.4444444444444444,
              "#bd3786"
             ],
             [
              0.5555555555555556,
              "#d8576b"
             ],
             [
              0.6666666666666666,
              "#ed7953"
             ],
             [
              0.7777777777777778,
              "#fb9f3a"
             ],
             [
              0.8888888888888888,
              "#fdca26"
             ],
             [
              1,
              "#f0f921"
             ]
            ],
            "type": "surface"
           }
          ],
          "table": [
           {
            "cells": {
             "fill": {
              "color": "#EBF0F8"
             },
             "line": {
              "color": "white"
             }
            },
            "header": {
             "fill": {
              "color": "#C8D4E3"
             },
             "line": {
              "color": "white"
             }
            },
            "type": "table"
           }
          ]
         },
         "layout": {
          "annotationdefaults": {
           "arrowcolor": "#2a3f5f",
           "arrowhead": 0,
           "arrowwidth": 1
          },
          "autotypenumbers": "strict",
          "coloraxis": {
           "colorbar": {
            "outlinewidth": 0,
            "ticks": ""
           }
          },
          "colorscale": {
           "diverging": [
            [
             0,
             "#8e0152"
            ],
            [
             0.1,
             "#c51b7d"
            ],
            [
             0.2,
             "#de77ae"
            ],
            [
             0.3,
             "#f1b6da"
            ],
            [
             0.4,
             "#fde0ef"
            ],
            [
             0.5,
             "#f7f7f7"
            ],
            [
             0.6,
             "#e6f5d0"
            ],
            [
             0.7,
             "#b8e186"
            ],
            [
             0.8,
             "#7fbc41"
            ],
            [
             0.9,
             "#4d9221"
            ],
            [
             1,
             "#276419"
            ]
           ],
           "sequential": [
            [
             0,
             "#0d0887"
            ],
            [
             0.1111111111111111,
             "#46039f"
            ],
            [
             0.2222222222222222,
             "#7201a8"
            ],
            [
             0.3333333333333333,
             "#9c179e"
            ],
            [
             0.4444444444444444,
             "#bd3786"
            ],
            [
             0.5555555555555556,
             "#d8576b"
            ],
            [
             0.6666666666666666,
             "#ed7953"
            ],
            [
             0.7777777777777778,
             "#fb9f3a"
            ],
            [
             0.8888888888888888,
             "#fdca26"
            ],
            [
             1,
             "#f0f921"
            ]
           ],
           "sequentialminus": [
            [
             0,
             "#0d0887"
            ],
            [
             0.1111111111111111,
             "#46039f"
            ],
            [
             0.2222222222222222,
             "#7201a8"
            ],
            [
             0.3333333333333333,
             "#9c179e"
            ],
            [
             0.4444444444444444,
             "#bd3786"
            ],
            [
             0.5555555555555556,
             "#d8576b"
            ],
            [
             0.6666666666666666,
             "#ed7953"
            ],
            [
             0.7777777777777778,
             "#fb9f3a"
            ],
            [
             0.8888888888888888,
             "#fdca26"
            ],
            [
             1,
             "#f0f921"
            ]
           ]
          },
          "colorway": [
           "#636efa",
           "#EF553B",
           "#00cc96",
           "#ab63fa",
           "#FFA15A",
           "#19d3f3",
           "#FF6692",
           "#B6E880",
           "#FF97FF",
           "#FECB52"
          ],
          "font": {
           "color": "#2a3f5f"
          },
          "geo": {
           "bgcolor": "white",
           "lakecolor": "white",
           "landcolor": "#E5ECF6",
           "showlakes": true,
           "showland": true,
           "subunitcolor": "white"
          },
          "hoverlabel": {
           "align": "left"
          },
          "hovermode": "closest",
          "mapbox": {
           "style": "light"
          },
          "paper_bgcolor": "white",
          "plot_bgcolor": "#E5ECF6",
          "polar": {
           "angularaxis": {
            "gridcolor": "white",
            "linecolor": "white",
            "ticks": ""
           },
           "bgcolor": "#E5ECF6",
           "radialaxis": {
            "gridcolor": "white",
            "linecolor": "white",
            "ticks": ""
           }
          },
          "scene": {
           "xaxis": {
            "backgroundcolor": "#E5ECF6",
            "gridcolor": "white",
            "gridwidth": 2,
            "linecolor": "white",
            "showbackground": true,
            "ticks": "",
            "zerolinecolor": "white"
           },
           "yaxis": {
            "backgroundcolor": "#E5ECF6",
            "gridcolor": "white",
            "gridwidth": 2,
            "linecolor": "white",
            "showbackground": true,
            "ticks": "",
            "zerolinecolor": "white"
           },
           "zaxis": {
            "backgroundcolor": "#E5ECF6",
            "gridcolor": "white",
            "gridwidth": 2,
            "linecolor": "white",
            "showbackground": true,
            "ticks": "",
            "zerolinecolor": "white"
           }
          },
          "shapedefaults": {
           "line": {
            "color": "#2a3f5f"
           }
          },
          "ternary": {
           "aaxis": {
            "gridcolor": "white",
            "linecolor": "white",
            "ticks": ""
           },
           "baxis": {
            "gridcolor": "white",
            "linecolor": "white",
            "ticks": ""
           },
           "bgcolor": "#E5ECF6",
           "caxis": {
            "gridcolor": "white",
            "linecolor": "white",
            "ticks": ""
           }
          },
          "title": {
           "x": 0.05
          },
          "xaxis": {
           "automargin": true,
           "gridcolor": "white",
           "linecolor": "white",
           "ticks": "",
           "title": {
            "standoff": 15
           },
           "zerolinecolor": "white",
           "zerolinewidth": 2
          },
          "yaxis": {
           "automargin": true,
           "gridcolor": "white",
           "linecolor": "white",
           "ticks": "",
           "title": {
            "standoff": 15
           },
           "zerolinecolor": "white",
           "zerolinewidth": 2
          }
         }
        },
        "title": {
         "text": "Доля оттока клиентов"
        },
        "xaxis": {
         "anchor": "y",
         "domain": [
          0,
          1
         ],
         "title": {
          "text": "x"
         }
        },
        "yaxis": {
         "anchor": "x",
         "domain": [
          0,
          1
         ],
         "title": {
          "text": "y"
         }
        }
       }
      },
      "text/html": [
       "<div>                            <div id=\"b1137397-805e-4d22-a863-2a8e5ca9ee60\" class=\"plotly-graph-div\" style=\"height:525px; width:100%;\"></div>            <script type=\"text/javascript\">                require([\"plotly\"], function(Plotly) {                    window.PLOTLYENV=window.PLOTLYENV || {};                                    if (document.getElementById(\"b1137397-805e-4d22-a863-2a8e5ca9ee60\")) {                    Plotly.newPlot(                        \"b1137397-805e-4d22-a863-2a8e5ca9ee60\",                        [{\"alignmentgroup\":\"True\",\"hovertemplate\":\"x=%{x}<br>y=%{y}<extra></extra>\",\"legendgroup\":\"\",\"marker\":{\"color\":\"#636efa\",\"pattern\":{\"shape\":\"\"}},\"name\":\"\",\"offsetgroup\":\"\",\"orientation\":\"v\",\"showlegend\":false,\"textposition\":\"auto\",\"type\":\"bar\",\"x\":[0,1],\"xaxis\":\"x\",\"y\":[0.7348813899097895,0.2651186100902105],\"yaxis\":\"y\"}],                        {\"barmode\":\"relative\",\"legend\":{\"tracegroupgap\":0},\"template\":{\"data\":{\"bar\":[{\"error_x\":{\"color\":\"#2a3f5f\"},\"error_y\":{\"color\":\"#2a3f5f\"},\"marker\":{\"line\":{\"color\":\"#E5ECF6\",\"width\":0.5},\"pattern\":{\"fillmode\":\"overlay\",\"size\":10,\"solidity\":0.2}},\"type\":\"bar\"}],\"barpolar\":[{\"marker\":{\"line\":{\"color\":\"#E5ECF6\",\"width\":0.5},\"pattern\":{\"fillmode\":\"overlay\",\"size\":10,\"solidity\":0.2}},\"type\":\"barpolar\"}],\"carpet\":[{\"aaxis\":{\"endlinecolor\":\"#2a3f5f\",\"gridcolor\":\"white\",\"linecolor\":\"white\",\"minorgridcolor\":\"white\",\"startlinecolor\":\"#2a3f5f\"},\"baxis\":{\"endlinecolor\":\"#2a3f5f\",\"gridcolor\":\"white\",\"linecolor\":\"white\",\"minorgridcolor\":\"white\",\"startlinecolor\":\"#2a3f5f\"},\"type\":\"carpet\"}],\"choropleth\":[{\"colorbar\":{\"outlinewidth\":0,\"ticks\":\"\"},\"type\":\"choropleth\"}],\"contour\":[{\"colorbar\":{\"outlinewidth\":0,\"ticks\":\"\"},\"colorscale\":[[0.0,\"#0d0887\"],[0.1111111111111111,\"#46039f\"],[0.2222222222222222,\"#7201a8\"],[0.3333333333333333,\"#9c179e\"],[0.4444444444444444,\"#bd3786\"],[0.5555555555555556,\"#d8576b\"],[0.6666666666666666,\"#ed7953\"],[0.7777777777777778,\"#fb9f3a\"],[0.8888888888888888,\"#fdca26\"],[1.0,\"#f0f921\"]],\"type\":\"contour\"}],\"contourcarpet\":[{\"colorbar\":{\"outlinewidth\":0,\"ticks\":\"\"},\"type\":\"contourcarpet\"}],\"heatmap\":[{\"colorbar\":{\"outlinewidth\":0,\"ticks\":\"\"},\"colorscale\":[[0.0,\"#0d0887\"],[0.1111111111111111,\"#46039f\"],[0.2222222222222222,\"#7201a8\"],[0.3333333333333333,\"#9c179e\"],[0.4444444444444444,\"#bd3786\"],[0.5555555555555556,\"#d8576b\"],[0.6666666666666666,\"#ed7953\"],[0.7777777777777778,\"#fb9f3a\"],[0.8888888888888888,\"#fdca26\"],[1.0,\"#f0f921\"]],\"type\":\"heatmap\"}],\"heatmapgl\":[{\"colorbar\":{\"outlinewidth\":0,\"ticks\":\"\"},\"colorscale\":[[0.0,\"#0d0887\"],[0.1111111111111111,\"#46039f\"],[0.2222222222222222,\"#7201a8\"],[0.3333333333333333,\"#9c179e\"],[0.4444444444444444,\"#bd3786\"],[0.5555555555555556,\"#d8576b\"],[0.6666666666666666,\"#ed7953\"],[0.7777777777777778,\"#fb9f3a\"],[0.8888888888888888,\"#fdca26\"],[1.0,\"#f0f921\"]],\"type\":\"heatmapgl\"}],\"histogram\":[{\"marker\":{\"pattern\":{\"fillmode\":\"overlay\",\"size\":10,\"solidity\":0.2}},\"type\":\"histogram\"}],\"histogram2d\":[{\"colorbar\":{\"outlinewidth\":0,\"ticks\":\"\"},\"colorscale\":[[0.0,\"#0d0887\"],[0.1111111111111111,\"#46039f\"],[0.2222222222222222,\"#7201a8\"],[0.3333333333333333,\"#9c179e\"],[0.4444444444444444,\"#bd3786\"],[0.5555555555555556,\"#d8576b\"],[0.6666666666666666,\"#ed7953\"],[0.7777777777777778,\"#fb9f3a\"],[0.8888888888888888,\"#fdca26\"],[1.0,\"#f0f921\"]],\"type\":\"histogram2d\"}],\"histogram2dcontour\":[{\"colorbar\":{\"outlinewidth\":0,\"ticks\":\"\"},\"colorscale\":[[0.0,\"#0d0887\"],[0.1111111111111111,\"#46039f\"],[0.2222222222222222,\"#7201a8\"],[0.3333333333333333,\"#9c179e\"],[0.4444444444444444,\"#bd3786\"],[0.5555555555555556,\"#d8576b\"],[0.6666666666666666,\"#ed7953\"],[0.7777777777777778,\"#fb9f3a\"],[0.8888888888888888,\"#fdca26\"],[1.0,\"#f0f921\"]],\"type\":\"histogram2dcontour\"}],\"mesh3d\":[{\"colorbar\":{\"outlinewidth\":0,\"ticks\":\"\"},\"type\":\"mesh3d\"}],\"parcoords\":[{\"line\":{\"colorbar\":{\"outlinewidth\":0,\"ticks\":\"\"}},\"type\":\"parcoords\"}],\"pie\":[{\"automargin\":true,\"type\":\"pie\"}],\"scatter\":[{\"marker\":{\"colorbar\":{\"outlinewidth\":0,\"ticks\":\"\"}},\"type\":\"scatter\"}],\"scatter3d\":[{\"line\":{\"colorbar\":{\"outlinewidth\":0,\"ticks\":\"\"}},\"marker\":{\"colorbar\":{\"outlinewidth\":0,\"ticks\":\"\"}},\"type\":\"scatter3d\"}],\"scattercarpet\":[{\"marker\":{\"colorbar\":{\"outlinewidth\":0,\"ticks\":\"\"}},\"type\":\"scattercarpet\"}],\"scattergeo\":[{\"marker\":{\"colorbar\":{\"outlinewidth\":0,\"ticks\":\"\"}},\"type\":\"scattergeo\"}],\"scattergl\":[{\"marker\":{\"colorbar\":{\"outlinewidth\":0,\"ticks\":\"\"}},\"type\":\"scattergl\"}],\"scattermapbox\":[{\"marker\":{\"colorbar\":{\"outlinewidth\":0,\"ticks\":\"\"}},\"type\":\"scattermapbox\"}],\"scatterpolar\":[{\"marker\":{\"colorbar\":{\"outlinewidth\":0,\"ticks\":\"\"}},\"type\":\"scatterpolar\"}],\"scatterpolargl\":[{\"marker\":{\"colorbar\":{\"outlinewidth\":0,\"ticks\":\"\"}},\"type\":\"scatterpolargl\"}],\"scatterternary\":[{\"marker\":{\"colorbar\":{\"outlinewidth\":0,\"ticks\":\"\"}},\"type\":\"scatterternary\"}],\"surface\":[{\"colorbar\":{\"outlinewidth\":0,\"ticks\":\"\"},\"colorscale\":[[0.0,\"#0d0887\"],[0.1111111111111111,\"#46039f\"],[0.2222222222222222,\"#7201a8\"],[0.3333333333333333,\"#9c179e\"],[0.4444444444444444,\"#bd3786\"],[0.5555555555555556,\"#d8576b\"],[0.6666666666666666,\"#ed7953\"],[0.7777777777777778,\"#fb9f3a\"],[0.8888888888888888,\"#fdca26\"],[1.0,\"#f0f921\"]],\"type\":\"surface\"}],\"table\":[{\"cells\":{\"fill\":{\"color\":\"#EBF0F8\"},\"line\":{\"color\":\"white\"}},\"header\":{\"fill\":{\"color\":\"#C8D4E3\"},\"line\":{\"color\":\"white\"}},\"type\":\"table\"}]},\"layout\":{\"annotationdefaults\":{\"arrowcolor\":\"#2a3f5f\",\"arrowhead\":0,\"arrowwidth\":1},\"autotypenumbers\":\"strict\",\"coloraxis\":{\"colorbar\":{\"outlinewidth\":0,\"ticks\":\"\"}},\"colorscale\":{\"diverging\":[[0,\"#8e0152\"],[0.1,\"#c51b7d\"],[0.2,\"#de77ae\"],[0.3,\"#f1b6da\"],[0.4,\"#fde0ef\"],[0.5,\"#f7f7f7\"],[0.6,\"#e6f5d0\"],[0.7,\"#b8e186\"],[0.8,\"#7fbc41\"],[0.9,\"#4d9221\"],[1,\"#276419\"]],\"sequential\":[[0.0,\"#0d0887\"],[0.1111111111111111,\"#46039f\"],[0.2222222222222222,\"#7201a8\"],[0.3333333333333333,\"#9c179e\"],[0.4444444444444444,\"#bd3786\"],[0.5555555555555556,\"#d8576b\"],[0.6666666666666666,\"#ed7953\"],[0.7777777777777778,\"#fb9f3a\"],[0.8888888888888888,\"#fdca26\"],[1.0,\"#f0f921\"]],\"sequentialminus\":[[0.0,\"#0d0887\"],[0.1111111111111111,\"#46039f\"],[0.2222222222222222,\"#7201a8\"],[0.3333333333333333,\"#9c179e\"],[0.4444444444444444,\"#bd3786\"],[0.5555555555555556,\"#d8576b\"],[0.6666666666666666,\"#ed7953\"],[0.7777777777777778,\"#fb9f3a\"],[0.8888888888888888,\"#fdca26\"],[1.0,\"#f0f921\"]]},\"colorway\":[\"#636efa\",\"#EF553B\",\"#00cc96\",\"#ab63fa\",\"#FFA15A\",\"#19d3f3\",\"#FF6692\",\"#B6E880\",\"#FF97FF\",\"#FECB52\"],\"font\":{\"color\":\"#2a3f5f\"},\"geo\":{\"bgcolor\":\"white\",\"lakecolor\":\"white\",\"landcolor\":\"#E5ECF6\",\"showlakes\":true,\"showland\":true,\"subunitcolor\":\"white\"},\"hoverlabel\":{\"align\":\"left\"},\"hovermode\":\"closest\",\"mapbox\":{\"style\":\"light\"},\"paper_bgcolor\":\"white\",\"plot_bgcolor\":\"#E5ECF6\",\"polar\":{\"angularaxis\":{\"gridcolor\":\"white\",\"linecolor\":\"white\",\"ticks\":\"\"},\"bgcolor\":\"#E5ECF6\",\"radialaxis\":{\"gridcolor\":\"white\",\"linecolor\":\"white\",\"ticks\":\"\"}},\"scene\":{\"xaxis\":{\"backgroundcolor\":\"#E5ECF6\",\"gridcolor\":\"white\",\"gridwidth\":2,\"linecolor\":\"white\",\"showbackground\":true,\"ticks\":\"\",\"zerolinecolor\":\"white\"},\"yaxis\":{\"backgroundcolor\":\"#E5ECF6\",\"gridcolor\":\"white\",\"gridwidth\":2,\"linecolor\":\"white\",\"showbackground\":true,\"ticks\":\"\",\"zerolinecolor\":\"white\"},\"zaxis\":{\"backgroundcolor\":\"#E5ECF6\",\"gridcolor\":\"white\",\"gridwidth\":2,\"linecolor\":\"white\",\"showbackground\":true,\"ticks\":\"\",\"zerolinecolor\":\"white\"}},\"shapedefaults\":{\"line\":{\"color\":\"#2a3f5f\"}},\"ternary\":{\"aaxis\":{\"gridcolor\":\"white\",\"linecolor\":\"white\",\"ticks\":\"\"},\"baxis\":{\"gridcolor\":\"white\",\"linecolor\":\"white\",\"ticks\":\"\"},\"bgcolor\":\"#E5ECF6\",\"caxis\":{\"gridcolor\":\"white\",\"linecolor\":\"white\",\"ticks\":\"\"}},\"title\":{\"x\":0.05},\"xaxis\":{\"automargin\":true,\"gridcolor\":\"white\",\"linecolor\":\"white\",\"ticks\":\"\",\"title\":{\"standoff\":15},\"zerolinecolor\":\"white\",\"zerolinewidth\":2},\"yaxis\":{\"automargin\":true,\"gridcolor\":\"white\",\"linecolor\":\"white\",\"ticks\":\"\",\"title\":{\"standoff\":15},\"zerolinecolor\":\"white\",\"zerolinewidth\":2}}},\"title\":{\"text\":\"\\u0414\\u043e\\u043b\\u044f \\u043e\\u0442\\u0442\\u043e\\u043a\\u0430 \\u043a\\u043b\\u0438\\u0435\\u043d\\u0442\\u043e\\u0432\"},\"xaxis\":{\"anchor\":\"y\",\"domain\":[0.0,1.0],\"title\":{\"text\":\"x\"}},\"yaxis\":{\"anchor\":\"x\",\"domain\":[0.0,1.0],\"title\":{\"text\":\"y\"}}},                        {\"responsive\": true}                    ).then(function(){\n",
       "                            \n",
       "var gd = document.getElementById('b1137397-805e-4d22-a863-2a8e5ca9ee60');\n",
       "var x = new MutationObserver(function (mutations, observer) {{\n",
       "        var display = window.getComputedStyle(gd).display;\n",
       "        if (!display || display === 'none') {{\n",
       "            console.log([gd, 'removed!']);\n",
       "            Plotly.purge(gd);\n",
       "            observer.disconnect();\n",
       "        }}\n",
       "}});\n",
       "\n",
       "// Listen for the removal of the full notebook cells\n",
       "var notebookContainer = gd.closest('#notebook-container');\n",
       "if (notebookContainer) {{\n",
       "    x.observe(notebookContainer, {childList: true});\n",
       "}}\n",
       "\n",
       "// Listen for the clearing of the current output cell\n",
       "var outputEl = gd.closest('.output');\n",
       "if (outputEl) {{\n",
       "    x.observe(outputEl, {childList: true});\n",
       "}}\n",
       "\n",
       "                        })                };                });            </script>        </div>"
      ]
     },
     "metadata": {},
     "output_type": "display_data"
    }
   ],
   "source": [
    "#Строим график распределения\n",
    "px.bar(y=Y.value_counts(normalize=True), title='Доля оттока клиентов')"
   ]
  },
  {
   "cell_type": "code",
   "execution_count": 55,
   "id": "a386f303",
   "metadata": {
    "ExecuteTime": {
     "end_time": "2021-08-20T16:54:56.646889Z",
     "start_time": "2021-08-20T16:54:56.643347Z"
    },
    "pycharm": {
     "name": "#%%\n"
    }
   },
   "outputs": [],
   "source": [
    "#Для корректного обучения моделей, закодируем значения целевой переменной 0 и 1\n",
    "Y = Y.map({'Yes':1, 'No':0})"
   ]
  },
  {
   "cell_type": "markdown",
   "id": "8e1dd3d9",
   "metadata": {
    "ExecuteTime": {
     "end_time": "2021-08-20T16:55:51.672044Z",
     "start_time": "2021-08-20T16:55:51.669357Z"
    }
   },
   "source": [
    "<a id='split'></a>\n",
    "<div class='alert alert-info'>\n",
    "    <p>\n",
    "        Разбиваем датасет на тренировочный и тестовый\n",
    "    </p>\n",
    "    </div>"
   ]
  },
  {
   "cell_type": "code",
   "execution_count": 57,
   "id": "c3bfeb42",
   "metadata": {
    "ExecuteTime": {
     "end_time": "2021-08-20T16:58:16.336995Z",
     "start_time": "2021-08-20T16:58:16.330352Z"
    },
    "pycharm": {
     "name": "#%%\n"
    }
   },
   "outputs": [],
   "source": [
    "#Используем, где возможно, глобальные переменные\n",
    "#Для воспроизводимости результатов устанавливаем random_state\n",
    "#Т.к. значения целевой переменной распределены неравномерно, стратифицируем разбивку по данному признаку\n",
    "x_train, x_test, y_train, y_test = train_test_split(df_main, Y, test_size=VAL_SIZE,\n",
    "                                                    random_state=RANDOM_SEED,\n",
    "                                                    stratify=Y, shuffle=True)"
   ]
  },
  {
   "cell_type": "code",
   "execution_count": 58,
   "id": "f1d7b000",
   "metadata": {
    "ExecuteTime": {
     "end_time": "2021-08-20T16:59:33.629030Z",
     "start_time": "2021-08-20T16:59:33.625034Z"
    },
    "pycharm": {
     "name": "#%%\n"
    }
   },
   "outputs": [],
   "source": [
    "#Функция для оценки модели, принимает эстиматор, и набор тестовых значений\n",
    "#Ничего не возвращает, но дает информацию о базовых метриках качества\n",
    "def eval_model(model, x_test, y_test):\n",
    "    print('Accuracy score: {}'.format(accuracy_score(\n",
    "        y_test, model.predict(x_test)\n",
    "    )))\n",
    "    print('Точность: {}'.format(precision_score(y_test, model.predict(x_test))))\n",
    "    print('Полнота: {}'.format(recall_score(y_test, model.predict(x_test))))\n",
    "    print('F1 Score: {}'.format(f1_score(y_test, model.predict(x_test))))\n",
    "    print('Roc_Auc Score: {}'.format(roc_auc_score(y_test, model.predict_proba(x_test)[:, 1])))\n",
    "    plot_confusion_matrix(model, x_test, y_test)\n",
    "    plot_roc_curve(model, x_test, y_test)\n",
    "    plt.show()"
   ]
  },
  {
   "cell_type": "markdown",
   "id": "e500e7ce",
   "metadata": {},
   "source": [
    "<a id='logreg'></a>\n",
    "<div class='alert alert-info'>\n",
    "    <p>\n",
    "        <center>Логистическая регрессия</center>\n",
    "    </p>\n",
    "    </div>"
   ]
  },
  {
   "cell_type": "code",
   "execution_count": 60,
   "id": "15a5f432",
   "metadata": {
    "ExecuteTime": {
     "end_time": "2021-08-20T17:02:33.771439Z",
     "start_time": "2021-08-20T17:02:33.460664Z"
    },
    "pycharm": {
     "name": "#%%\n"
    }
   },
   "outputs": [
    {
     "name": "stdout",
     "output_type": "stream",
     "text": [
      "Accuracy score: 0.8028953229398663\n",
      "Точность: 0.6596858638743456\n",
      "Полнота: 0.5294117647058824\n",
      "F1 Score: 0.5874125874125874\n",
      "Roc_Auc Score: 0.8457203335879807\n"
     ]
    },
    {
     "data": {
      "image/png": "[encoded data removed]",
      "text/plain": [
       "<Figure size 432x288 with 2 Axes>"
      ]
     },
     "metadata": {
      "needs_background": "light"
     },
     "output_type": "display_data"
    },
    {
     "data": {
      "image/png": "[encoded data removed]",
      "text/plain": [
       "<Figure size 432x288 with 1 Axes>"
      ]
     },
     "metadata": {
      "needs_background": "light"
     },
     "output_type": "display_data"
    }
   ],
   "source": [
    "#Создаем экземпляр объекта модели, пенальти l1 - для \"отброса\" неинформативных признаков\n",
    "log_reg = LogisticRegression(solver='liblinear', penalty='l1')\n",
    "#Обучаем его\n",
    "log_reg.fit(x_train, y_train)\n",
    "#Получаем базовые метрики качества построенной модели\n",
    "eval_model(log_reg, x_test, y_test)"
   ]
  },
  {
   "cell_type": "markdown",
   "id": "1b052359",
   "metadata": {
    "ExecuteTime": {
     "end_time": "2021-08-20T17:02:49.688699Z",
     "start_time": "2021-08-20T17:02:49.686447Z"
    }
   },
   "source": [
    "<div class='alert alert-info'>\n",
    "    <p>\n",
    "        Т.к. для зачета курсовой достаточно метрики качества roc_auc > 0.8, то по сути с задачей мы справились в первом запуске на дефолтных параметрах.\n",
    "    </p>\n",
    "    <p>Тем не менее, интересно посмотреть, как покажут себя другие модели машинного обучения\n",
    "    </p>\n",
    "    </div>"
   ]
  },
  {
   "cell_type": "markdown",
   "id": "2bad8b4f",
   "metadata": {},
   "source": [
    "<a id='decision_tree'></a>\n",
    "<div class='alert alert-info'>\n",
    "    <p>\n",
    "        <center>Деревья решений</center>\n",
    "    </p>\n",
    "    </div>"
   ]
  },
  {
   "cell_type": "code",
   "execution_count": 63,
   "id": "d10e6042",
   "metadata": {
    "ExecuteTime": {
     "end_time": "2021-08-20T17:08:17.028228Z",
     "start_time": "2021-08-20T17:08:16.873935Z"
    },
    "pycharm": {
     "name": "#%%\n"
    }
   },
   "outputs": [
    {
     "name": "stdout",
     "output_type": "stream",
     "text": [
      "Accuracy score: 0.7923162583518931\n",
      "Точность: 0.6426592797783933\n",
      "Полнота: 0.48739495798319327\n",
      "F1 Score: 0.5543608124253285\n",
      "Roc_Auc Score: 0.8178937484084543\n"
     ]
    },
    {
     "data": {
      "image/png": "[encoded data removed]",
      "text/plain": [
       "<Figure size 432x288 with 2 Axes>"
      ]
     },
     "metadata": {
      "needs_background": "light"
     },
     "output_type": "display_data"
    },
    {
     "data": {
      "image/png": "[encoded data removed]",
      "text/plain": [
       "<Figure size 432x288 with 1 Axes>"
      ]
     },
     "metadata": {
      "needs_background": "light"
     },
     "output_type": "display_data"
    }
   ],
   "source": [
    "#Создаем экземпляр объекта модели\n",
    "dtc = DecisionTreeClassifier(random_state=RANDOM_SEED, criterion='entropy', max_depth=7, min_samples_split=20)\n",
    "#Обучение\n",
    "dtc.fit(x_train, y_train)\n",
    "#Оценка модели\n",
    "eval_model(dtc, x_test, y_test)"
   ]
  },
  {
   "cell_type": "markdown",
   "id": "ed49bc1d",
   "metadata": {},
   "source": [
    "<div class='alert alert-info'>\n",
    "    <p>\n",
    "        Алгоритм аналогично справился с поставленной задачей, хотя качество модели получилось чуть хуже\n",
    "    </p>\n",
    "    </div>"
   ]
  },
  {
   "cell_type": "markdown",
   "id": "00a12715",
   "metadata": {
    "ExecuteTime": {
     "end_time": "2021-08-20T17:10:17.447426Z",
     "start_time": "2021-08-20T17:10:17.443732Z"
    }
   },
   "source": [
    "<a id='random_forest'></a>\n",
    "<div class='alert alert-info'>\n",
    "    <p>\n",
    "        <center>Случайный лес</center>\n",
    "    </p>\n",
    "    </div>"
   ]
  },
  {
   "cell_type": "code",
   "execution_count": 66,
   "id": "98eb712c",
   "metadata": {
    "ExecuteTime": {
     "end_time": "2021-08-20T17:12:43.181373Z",
     "start_time": "2021-08-20T17:12:42.581977Z"
    },
    "pycharm": {
     "name": "#%%\n"
    }
   },
   "outputs": [
    {
     "name": "stdout",
     "output_type": "stream",
     "text": [
      "Accuracy score: 0.8028953229398663\n",
      "Точность: 0.7006578947368421\n",
      "Полнота: 0.4474789915966387\n",
      "F1 Score: 0.5461538461538461\n",
      "Roc_Auc Score: 0.8525767125031831\n"
     ]
    },
    {
     "data": {
      "image/png": "[encoded data removed]",
      "text/plain": [
       "<Figure size 432x288 with 2 Axes>"
      ]
     },
     "metadata": {
      "needs_background": "light"
     },
     "output_type": "display_data"
    },
    {
     "data": {
      "image/png": "[encoded data removed]",
      "text/plain": [
       "<Figure size 432x288 with 1 Axes>"
      ]
     },
     "metadata": {
      "needs_background": "light"
     },
     "output_type": "display_data"
    }
   ],
   "source": [
    "rfc = RandomForestClassifier(random_state=RANDOM_SEED, criterion='gini', max_depth=7,\n",
    "                             max_features='auto',\n",
    "                             min_samples_split=10)\n",
    "rfc.fit(x_train, y_train)\n",
    "eval_model(rfc, x_test, y_test)"
   ]
  },
  {
   "cell_type": "markdown",
   "id": "bc89449c",
   "metadata": {},
   "source": [
    "<div class='alert alert-info'>\n",
    "    <p>\n",
    "        Модель показала достаточно неплохие результаты (roc_auc ~ 0.85), что неудивительно, т.к. по сути алгоритм представляет собой вариант бустинга на деревьями решений.\n",
    "    </p>\n",
    "    </div>"
   ]
  },
  {
   "cell_type": "markdown",
   "id": "cbfc2088",
   "metadata": {},
   "source": [
    "<a id='catboost'></a>\n",
    "<div class='alert alert-info'>\n",
    "    <p>\n",
    "        <center>CatBoost</center>\n",
    "    </p>\n",
    "    </div>"
   ]
  },
  {
   "cell_type": "code",
   "execution_count": 73,
   "id": "6c4cbaed",
   "metadata": {
    "ExecuteTime": {
     "end_time": "2021-08-20T17:21:34.724871Z",
     "start_time": "2021-08-20T17:21:34.721494Z"
    },
    "pycharm": {
     "name": "#%%\n"
    }
   },
   "outputs": [],
   "source": [
    "#Создаем экземпляр объекта модели\n",
    "cbc = CatBoostClassifier(iterations=ITERATIONS,\n",
    "                         learning_rate=LR,\n",
    "                         random_seed=RANDOM_SEED,\n",
    "                         eval_metric='AUC',\n",
    "                         task_type='CPU',\n",
    "                         bagging_temperature=1,\n",
    "                         random_strength=0.5)"
   ]
  },
  {
   "cell_type": "code",
   "execution_count": 74,
   "id": "1d589997",
   "metadata": {
    "ExecuteTime": {
     "end_time": "2021-08-20T17:22:25.863098Z",
     "start_time": "2021-08-20T17:22:25.853002Z"
    },
    "pycharm": {
     "name": "#%%\n"
    }
   },
   "outputs": [],
   "source": [
    "#Для обучения используем старый датасет, без dummy-переменных, т.к. catboost и сам отлично с ними справляется\n",
    "#Единственно, что нужно сделать - стандартизировать числовые признаки\n",
    "df[num_columns] = sc.fit_transform(df[num_columns])"
   ]
  },
  {
   "cell_type": "code",
   "execution_count": 75,
   "id": "032ad3cf",
   "metadata": {
    "ExecuteTime": {
     "end_time": "2021-08-20T17:23:54.422223Z",
     "start_time": "2021-08-20T17:23:54.403621Z"
    },
    "pycharm": {
     "name": "#%%\n"
    }
   },
   "outputs": [],
   "source": [
    "#Сохраняем id категориальных признаков,\n",
    "#Как выяснили в начале работы - максимальное число уникальных значений для них составляет 4\n",
    "cat_features_ids = np.where(df.apply(pd.Series.nunique) < 5)[0].tolist()"
   ]
  },
  {
   "cell_type": "code",
   "execution_count": 76,
   "id": "826c377b",
   "metadata": {
    "ExecuteTime": {
     "end_time": "2021-08-20T17:24:08.716094Z",
     "start_time": "2021-08-20T17:24:08.706241Z"
    },
    "pycharm": {
     "name": "#%%\n"
    }
   },
   "outputs": [],
   "source": [
    "#Делаем повторно разбивку на тренировочную и тестовую\n",
    "x_train, x_test, y_train, y_test = train_test_split(df, Y, test_size=VAL_SIZE,\n",
    "                                                    shuffle=True,\n",
    "                                                    random_state=RANDOM_SEED,\n",
    "                                                    stratify=Y)"
   ]
  },
  {
   "cell_type": "code",
   "execution_count": 77,
   "id": "3b9b5a57",
   "metadata": {
    "ExecuteTime": {
     "end_time": "2021-08-20T17:24:31.531109Z",
     "start_time": "2021-08-20T17:24:17.330772Z"
    },
    "pycharm": {
     "name": "#%%\n"
    }
   },
   "outputs": [
    {
     "data": {
      "application/vnd.jupyter.widget-view+json": {
       "model_id": "a7cdeb09b9fd4ff6923e445ba2662e8c",
       "version_major": 2,
       "version_minor": 0
      },
      "text/plain": [
       "MetricVisualizer(layout=Layout(align_self='stretch', height='500px'))"
      ]
     },
     "metadata": {},
     "output_type": "display_data"
    },
    {
     "name": "stdout",
     "output_type": "stream",
     "text": [
      "0:\ttest: 0.8115912\tbest: 0.8115912 (0)\ttotal: 6.8ms\tremaining: 20.4s\n",
      "1000:\ttest: 0.8516266\tbest: 0.8520038 (883)\ttotal: 4.33s\tremaining: 8.64s\n",
      "2000:\ttest: 0.8477655\tbest: 0.8520038 (883)\ttotal: 8.99s\tremaining: 4.49s\n",
      "2999:\ttest: 0.8448657\tbest: 0.8520038 (883)\ttotal: 14s\tremaining: 0us\n",
      "\n",
      "bestTest = 0.852003756\n",
      "bestIteration = 883\n",
      "\n",
      "Shrink model to first 884 iterations.\n"
     ]
    },
    {
     "data": {
      "text/plain": [
       "<catboost.core.CatBoostClassifier at 0x7fd4652f90d0>"
      ]
     },
     "execution_count": 77,
     "metadata": {},
     "output_type": "execute_result"
    }
   ],
   "source": [
    "#Обучаем модель\n",
    "cbc.fit(x_train, y_train,\n",
    "          cat_features=cat_features_ids,\n",
    "          eval_set=(x_test, y_test),\n",
    "          verbose_eval=1000,\n",
    "          use_best_model=True,\n",
    "          plot=True\n",
    "          )"
   ]
  },
  {
   "cell_type": "code",
   "execution_count": 78,
   "id": "18c5ebe9",
   "metadata": {
    "ExecuteTime": {
     "end_time": "2021-08-20T17:24:55.752226Z",
     "start_time": "2021-08-20T17:24:55.747525Z"
    },
    "pycharm": {
     "name": "#%%\n"
    }
   },
   "outputs": [],
   "source": [
    "#Сохраняем модель\n",
    "cbc.save_model('./cbc_model.model')"
   ]
  },
  {
   "cell_type": "code",
   "execution_count": 79,
   "id": "8b60a5e8",
   "metadata": {
    "ExecuteTime": {
     "end_time": "2021-08-20T17:25:04.721901Z",
     "start_time": "2021-08-20T17:25:04.540487Z"
    },
    "pycharm": {
     "name": "#%%\n"
    }
   },
   "outputs": [
    {
     "name": "stdout",
     "output_type": "stream",
     "text": [
      "Accuracy score: 0.8067928730512249\n",
      "Точность: 0.6738544474393531\n",
      "Полнота: 0.5252100840336135\n",
      "F1 Score: 0.590318772136954\n",
      "Roc_Auc Score: 0.8520037560478739\n"
     ]
    },
    {
     "data": {
      "image/png": "[encoded data removed]",
      "text/plain": [
       "<Figure size 432x288 with 2 Axes>"
      ]
     },
     "metadata": {
      "needs_background": "light"
     },
     "output_type": "display_data"
    },
    {
     "data": {
      "image/png": "[encoded data removed]",
      "text/plain": [
       "<Figure size 432x288 with 1 Axes>"
      ]
     },
     "metadata": {
      "needs_background": "light"
     },
     "output_type": "display_data"
    }
   ],
   "source": [
    "#Делаем оценку качества модели\n",
    "eval_model(cbc, x_test, y_test)"
   ]
  },
  {
   "cell_type": "markdown",
   "id": "6e190fcc",
   "metadata": {
    "ExecuteTime": {
     "end_time": "2021-08-20T17:25:57.602011Z",
     "start_time": "2021-08-20T17:25:57.599371Z"
    },
    "pycharm": {
     "name": "#%%\n"
    }
   },
   "source": [
    "<div class='alert alert-info'>\n",
    "    <p>\n",
    "        Модель также хорошо справилась с поставленной задачей, roc_auc_score > 80%\n",
    "    </p>\n",
    "    </div>"
   ]
  },
  {
   "cell_type": "code",
   "execution_count": null,
   "id": "9ae0e507",
   "metadata": {},
   "outputs": [],
   "source": []
  }
 ],
 "metadata": {
  "kernelspec": {
   "display_name": "Python [conda env:February2021] *",
   "language": "python",
   "name": "conda-env-February2021-py"
  },
  "language_info": {
   "codemirror_mode": {
    "name": "ipython",
    "version": 3
   },
   "file_extension": ".py",
   "mimetype": "text/x-python",
   "name": "python",
   "nbconvert_exporter": "python",
   "pygments_lexer": "ipython3",
   "version": "3.8.10"
  }
 },
 "nbformat": 4,
 "nbformat_minor": 5
}
