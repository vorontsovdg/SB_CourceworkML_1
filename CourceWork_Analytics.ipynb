{
 "cells": [
  {
   "cell_type": "markdown",
   "id": "3afb771c",
   "metadata": {
    "pycharm": {
     "name": "#%% md\n"
    }
   },
   "source": [
    "## Codebook\n",
    "<br>\n",
    "\n",
    "[Ссылка для скачивания данных](https://drive.google.com/open?id=1dPCG76ST6NohYKtVMGv6HpFL-jD5p1eJ)\n",
    "<br><br>\n",
    "\n",
    "`telecom_users.csv` содержит следующие значения:<br><br>\n",
    "\n",
    "&nbsp;&nbsp;&nbsp;&nbsp; `customerID` – id клиента<br>\n",
    "&nbsp;&nbsp;&nbsp;&nbsp; `gender` – пол клиента (male/female)<br>\n",
    "&nbsp;&nbsp;&nbsp;&nbsp; `SeniorCitizen` – яляется ли клиент пенсионером (1, 0)<br>\n",
    "&nbsp;&nbsp;&nbsp;&nbsp; `Partner` – состоит ли клиент в браке (Yes, No)<br>\n",
    "&nbsp;&nbsp;&nbsp;&nbsp; `Dependents` – есть ли у клиента иждивенцы (Yes, No)<br>\n",
    "&nbsp;&nbsp;&nbsp;&nbsp; `tenure` – сколько месяцев человек являлся клиентом компании<br>\n",
    "&nbsp;&nbsp;&nbsp;&nbsp; `PhoneService` – подключена ли услуга телефонной связи (Yes, No)<br>\n",
    "&nbsp;&nbsp;&nbsp;&nbsp; `MultipleLines` – подключены ли несколько телефонных линий (Yes, No, No phone service)<br>\n",
    "&nbsp;&nbsp;&nbsp;&nbsp; `InternetService` – интернет-провайдер клиента (DSL, Fiber optic, No)<br>\n",
    "&nbsp;&nbsp;&nbsp;&nbsp; `OnlineSecurity` – подключена ли услуга онлайн-безопасности (Yes, No, No internet service)<br>\n",
    "&nbsp;&nbsp;&nbsp;&nbsp; `OnlineBackup` – подключена ли услуга online backup (Yes, No, No internet service)<br>\n",
    "&nbsp;&nbsp;&nbsp;&nbsp; `DeviceProtection` – есть ли у клиента страховка оборудования (Yes, No, No internet service)<br>\n",
    "&nbsp;&nbsp;&nbsp;&nbsp; `TechSupport` – подключена ли услуга технической поддержки (Yes, No, No internet service)<br>\n",
    "&nbsp;&nbsp;&nbsp;&nbsp; `StreamingTV` – подключена ли услуга стримингового телевидения (Yes, No, No internet service)<br>\n",
    "&nbsp;&nbsp;&nbsp;&nbsp; `StreamingMovies` – подключена ли услуга стримингового кинотеатра (Yes, No, No internet service)<br>\n",
    "&nbsp;&nbsp;&nbsp;&nbsp; `Contract` – тип контракта клиента (Month-to-month, One year, Two year)<br>\n",
    "&nbsp;&nbsp;&nbsp;&nbsp; `PaperlessBilling` – пользуется ли клиент безбумажным биллингом (Yes, No)<br>\n",
    "&nbsp;&nbsp;&nbsp;&nbsp; `PaymentMethod` – метод оплаты (Electronic check, Mailed check, Bank transfer (automatic), Credit card (automatic))<br>\n",
    "&nbsp;&nbsp;&nbsp;&nbsp; `MonthlyCharges` – месячный размер оплаты на настоящий момент<br>\n",
    "&nbsp;&nbsp;&nbsp;&nbsp; `TotalCharges` – общая сумма, которую клиент заплатил за услуги за все время<br>\n",
    "&nbsp;&nbsp;&nbsp;&nbsp; `Churn` – произошел ли отток (Yes or No)<br>"
   ]
  },
  {
   "cell_type": "code",
   "execution_count": 107,
   "id": "continent-weather",
   "metadata": {
    "ExecuteTime": {
     "end_time": "2021-08-12T16:12:01.441537Z",
     "start_time": "2021-08-12T16:12:00.740735Z"
    },
    "pycharm": {
     "name": "#%%\n"
    }
   },
   "outputs": [],
   "source": [
    "import pandas as pd\n",
    "import numpy as np\n",
    "import matplotlib.pyplot as plt\n",
    "import plotly.express as px\n",
    "import plotly.graph_objects as go\n",
    "\n",
    "from sklearn.preprocessing import StandardScaler\n",
    "from sklearn.model_selection import train_test_split\n",
    "from sklearn.linear_model import LogisticRegression\n",
    "from sklearn.tree import DecisionTreeClassifier\n",
    "from sklearn.ensemble import RandomForestClassifier\n",
    "from catboost import CatBoostClassifier\n",
    "\n",
    "\n",
    "from sklearn.metrics import accuracy_score, recall_score, precision_score\n",
    "from sklearn.metrics import f1_score\n",
    "from sklearn.metrics import roc_auc_score, roc_curve\n",
    "from sklearn.metrics import plot_roc_curve, plot_confusion_matrix\n"
   ]
  },
  {
   "cell_type": "code",
   "execution_count": 114,
   "id": "e5d31040",
   "metadata": {
    "ExecuteTime": {
     "end_time": "2021-08-12T16:12:03.321534Z",
     "start_time": "2021-08-12T16:12:03.319179Z"
    },
    "pycharm": {
     "name": "#%%\n"
    }
   },
   "outputs": [],
   "source": [
    "#GLOBAL\n",
    "RANDOM_SEED = 17\n",
    "VAL_SIZE   = 0.3   # 33%\n",
    "N_FOLDS    = 5\n",
    "\n",
    "# CATBOOST\n",
    "ITERATIONS = 6000\n",
    "LR         = 0.01\n"
   ]
  },
  {
   "cell_type": "code",
   "id": "166d8ec5",
   "metadata": {
    "ExecuteTime": {
     "end_time": "2021-08-12T16:12:03.674000Z",
     "start_time": "2021-08-12T16:12:03.656865Z"
    },
    "pycharm": {
     "name": "#%%\n"
    }
   },
   "source": [
    "df = pd.read_csv('./data/telecom_users.csv')\n",
    "df = df[df.columns[2:]]\n",
    "df = df[df['TotalCharges'] != ' ']\n",
    "df['TotalCharges'] = pd.to_numeric(df['TotalCharges'])\n",
    "df['Churn'] = df['Churn'].map({'Yes':1, 'No':0})\n",
    "Y = df['Churn'].copy()\n",
    "df = df.drop('Churn', axis=1)\n",
    "df['SeniorCitizen'] = df['SeniorCitizen'].astype('object')"
   ],
   "execution_count": 115,
   "outputs": []
  },
  {
   "cell_type": "code",
   "execution_count": 116,
   "id": "8326ba4a",
   "metadata": {
    "ExecuteTime": {
     "end_time": "2021-08-12T16:12:06.600674Z",
     "start_time": "2021-08-12T16:12:06.575326Z"
    },
    "pycharm": {
     "name": "#%%\n"
    }
   },
   "outputs": [
    {
     "data": {
      "text/plain": "4"
     },
     "execution_count": 116,
     "metadata": {},
     "output_type": "execute_result"
    }
   ],
   "source": [
    "df.select_dtypes(include=['object']).nunique().max()"
   ]
  },
  {
   "cell_type": "code",
   "execution_count": 117,
   "id": "7cf6a7ce",
   "metadata": {
    "ExecuteTime": {
     "end_time": "2021-08-12T16:12:09.226665Z",
     "start_time": "2021-08-12T16:12:09.223086Z"
    },
    "pycharm": {
     "name": "#%%\n"
    }
   },
   "outputs": [],
   "source": [
    "cat_columns = df.select_dtypes(include=['object']).columns\n",
    "num_columns = df.select_dtypes(include=['number']).columns"
   ]
  },
  {
   "cell_type": "code",
   "execution_count": 118,
   "id": "126833aa",
   "metadata": {
    "ExecuteTime": {
     "end_time": "2021-08-12T16:12:09.751784Z",
     "start_time": "2021-08-12T16:12:09.725193Z"
    },
    "pycharm": {
     "name": "#%%\n"
    }
   },
   "outputs": [
    {
     "data": {
      "text/plain": "     tenure  monthlycharges  totalcharges  gender_female  gender_male  \\\n0  1.611381       -1.353483     -0.247769              0            1   \n1  0.468468        0.774066      0.736669              1            0   \n2  0.223558        0.335602      0.251453              1            0   \n3 -1.164265       -0.297182     -0.905725              0            1   \n4 -1.245901       -0.378564     -0.958057              0            1   \n\n   seniorcitizen_0  seniorcitizen_1  partner_no  partner_yes  dependents_no  \\\n0                1                0           0            1              0   \n1                1                0           1            0              1   \n2                0                1           0            1              1   \n3                1                0           1            0              1   \n4                1                0           1            0              1   \n\n   ...  streamingmovies_yes  contract_month-to-month  contract_one year  \\\n0  ...                    0                        0                  0   \n1  ...                    0                        1                  0   \n2  ...                    0                        1                  0   \n3  ...                    1                        1                  0   \n4  ...                    0                        1                  0   \n\n   contract_two year  paperlessbilling_no  paperlessbilling_yes  \\\n0                  1                    1                     0   \n1                  0                    0                     1   \n2                  0                    0                     1   \n3                  0                    0                     1   \n4                  0                    1                     0   \n\n   paymentmethod_bank transfer (automatic)  \\\n0                                        0   \n1                                        0   \n2                                        1   \n3                                        0   \n4                                        0   \n\n   paymentmethod_credit card (automatic)  paymentmethod_electronic check  \\\n0                                      1                               0   \n1                                      1                               0   \n2                                      0                               0   \n3                                      0                               1   \n4                                      0                               1   \n\n   paymentmethod_mailed check  \n0                           0  \n1                           0  \n2                           0  \n3                           0  \n4                           0  \n\n[5 rows x 46 columns]",
      "text/html": "<div>\n<style scoped>\n    .dataframe tbody tr th:only-of-type {\n        vertical-align: middle;\n    }\n\n    .dataframe tbody tr th {\n        vertical-align: top;\n    }\n\n    .dataframe thead th {\n        text-align: right;\n    }\n</style>\n<table border=\"1\" class=\"dataframe\">\n  <thead>\n    <tr style=\"text-align: right;\">\n      <th></th>\n      <th>tenure</th>\n      <th>monthlycharges</th>\n      <th>totalcharges</th>\n      <th>gender_female</th>\n      <th>gender_male</th>\n      <th>seniorcitizen_0</th>\n      <th>seniorcitizen_1</th>\n      <th>partner_no</th>\n      <th>partner_yes</th>\n      <th>dependents_no</th>\n      <th>...</th>\n      <th>streamingmovies_yes</th>\n      <th>contract_month-to-month</th>\n      <th>contract_one year</th>\n      <th>contract_two year</th>\n      <th>paperlessbilling_no</th>\n      <th>paperlessbilling_yes</th>\n      <th>paymentmethod_bank transfer (automatic)</th>\n      <th>paymentmethod_credit card (automatic)</th>\n      <th>paymentmethod_electronic check</th>\n      <th>paymentmethod_mailed check</th>\n    </tr>\n  </thead>\n  <tbody>\n    <tr>\n      <th>0</th>\n      <td>1.611381</td>\n      <td>-1.353483</td>\n      <td>-0.247769</td>\n      <td>0</td>\n      <td>1</td>\n      <td>1</td>\n      <td>0</td>\n      <td>0</td>\n      <td>1</td>\n      <td>0</td>\n      <td>...</td>\n      <td>0</td>\n      <td>0</td>\n      <td>0</td>\n      <td>1</td>\n      <td>1</td>\n      <td>0</td>\n      <td>0</td>\n      <td>1</td>\n      <td>0</td>\n      <td>0</td>\n    </tr>\n    <tr>\n      <th>1</th>\n      <td>0.468468</td>\n      <td>0.774066</td>\n      <td>0.736669</td>\n      <td>1</td>\n      <td>0</td>\n      <td>1</td>\n      <td>0</td>\n      <td>1</td>\n      <td>0</td>\n      <td>1</td>\n      <td>...</td>\n      <td>0</td>\n      <td>1</td>\n      <td>0</td>\n      <td>0</td>\n      <td>0</td>\n      <td>1</td>\n      <td>0</td>\n      <td>1</td>\n      <td>0</td>\n      <td>0</td>\n    </tr>\n    <tr>\n      <th>2</th>\n      <td>0.223558</td>\n      <td>0.335602</td>\n      <td>0.251453</td>\n      <td>1</td>\n      <td>0</td>\n      <td>0</td>\n      <td>1</td>\n      <td>0</td>\n      <td>1</td>\n      <td>1</td>\n      <td>...</td>\n      <td>0</td>\n      <td>1</td>\n      <td>0</td>\n      <td>0</td>\n      <td>0</td>\n      <td>1</td>\n      <td>1</td>\n      <td>0</td>\n      <td>0</td>\n      <td>0</td>\n    </tr>\n    <tr>\n      <th>3</th>\n      <td>-1.164265</td>\n      <td>-0.297182</td>\n      <td>-0.905725</td>\n      <td>0</td>\n      <td>1</td>\n      <td>1</td>\n      <td>0</td>\n      <td>1</td>\n      <td>0</td>\n      <td>1</td>\n      <td>...</td>\n      <td>1</td>\n      <td>1</td>\n      <td>0</td>\n      <td>0</td>\n      <td>0</td>\n      <td>1</td>\n      <td>0</td>\n      <td>0</td>\n      <td>1</td>\n      <td>0</td>\n    </tr>\n    <tr>\n      <th>4</th>\n      <td>-1.245901</td>\n      <td>-0.378564</td>\n      <td>-0.958057</td>\n      <td>0</td>\n      <td>1</td>\n      <td>1</td>\n      <td>0</td>\n      <td>1</td>\n      <td>0</td>\n      <td>1</td>\n      <td>...</td>\n      <td>0</td>\n      <td>1</td>\n      <td>0</td>\n      <td>0</td>\n      <td>1</td>\n      <td>0</td>\n      <td>0</td>\n      <td>0</td>\n      <td>1</td>\n      <td>0</td>\n    </tr>\n  </tbody>\n</table>\n<p>5 rows × 46 columns</p>\n</div>"
     },
     "execution_count": 118,
     "metadata": {},
     "output_type": "execute_result"
    }
   ],
   "source": [
    "df_main = pd.get_dummies(df, prefix=cat_columns)\n",
    "sc = StandardScaler()\n",
    "df_main[num_columns] = sc.fit_transform(df[num_columns])\n",
    "df_main.columns = map(lambda x: x.lower(), df_main.columns)\n",
    "df_main.head(5)"
   ]
  },
  {
   "cell_type": "code",
   "execution_count": 119,
   "id": "489f4ba6",
   "metadata": {
    "ExecuteTime": {
     "end_time": "2021-08-12T16:12:18.085836Z",
     "start_time": "2021-08-12T16:12:18.079532Z"
    },
    "pycharm": {
     "name": "#%%\n"
    }
   },
   "outputs": [
    {
     "data": {
      "text/plain": "0    0.734438\n1    0.265562\nName: Churn, dtype: float64"
     },
     "execution_count": 119,
     "metadata": {},
     "output_type": "execute_result"
    }
   ],
   "source": [
    "Y.value_counts(normalize=True)"
   ]
  },
  {
   "cell_type": "code",
   "execution_count": 120,
   "id": "c3bfeb42",
   "metadata": {
    "ExecuteTime": {
     "end_time": "2021-08-12T16:12:20.745196Z",
     "start_time": "2021-08-12T16:12:20.736397Z"
    },
    "pycharm": {
     "name": "#%%\n"
    }
   },
   "outputs": [],
   "source": [
    "x_train, x_test, y_train, y_test = train_test_split(df_main, Y, test_size=VAL_SIZE, random_state=RANDOM_SEED, stratify=Y, shuffle=True)"
   ]
  },
  {
   "cell_type": "code",
   "execution_count": 123,
   "id": "f1d7b000",
   "metadata": {
    "ExecuteTime": {
     "end_time": "2021-08-12T16:13:05.042509Z",
     "start_time": "2021-08-12T16:13:05.038449Z"
    },
    "pycharm": {
     "name": "#%%\n"
    }
   },
   "outputs": [],
   "source": [
    "def eval_model(model, x_test, y_test):\n",
    "    print('Accurace score: {}'.format(accuracy_score(\n",
    "        y_test, model.predict(x_test)\n",
    "    )))\n",
    "    print('Точность: {}'.format(precision_score(y_test, model.predict(x_test))))\n",
    "    print('Полнота: {}'.format(recall_score(y_test, model.predict(x_test))))\n",
    "    print('F1 Score: {}'.format(f1_score(y_test, model.predict(x_test))))\n",
    "    print('Roc_Auc Score: {}'.format(roc_auc_score(y_test, model.predict_proba(x_test)[:, 1])))\n",
    "    plot_confusion_matrix(model, x_test, y_test)\n",
    "    plot_roc_curve(model, x_test, y_test)\n",
    "    plt.show()"
   ]
  },
  {
   "cell_type": "code",
   "execution_count": 124,
   "outputs": [
    {
     "name": "stdout",
     "output_type": "stream",
     "text": [
      "Accurace score: 0.800334634690463\n",
      "Точность: 0.6512820512820513\n",
      "Полнота: 0.5336134453781513\n",
      "F1 Score: 0.5866050808314087\n",
      "Roc_Auc Score: 0.843698755128475\n"
     ]
    },
    {
     "data": {
      "text/plain": "<Figure size 432x288 with 2 Axes>",
      "image/png": "[encoded data removed]"
     },
     "metadata": {
      "needs_background": "light"
     },
     "output_type": "display_data"
    },
    {
     "data": {
      "text/plain": "<Figure size 432x288 with 1 Axes>",
      "image/png": "[encoded data removed]"
     },
     "metadata": {
      "needs_background": "light"
     },
     "output_type": "display_data"
    }
   ],
   "source": [
    "log_reg = LogisticRegression(solver='liblinear', penalty='l1')\n",
    "log_reg.fit(x_train, y_train)\n",
    "eval_model(log_reg, x_test, y_test)"
   ],
   "metadata": {
    "collapsed": false,
    "pycharm": {
     "name": "#%%\n"
    }
   }
  },
  {
   "cell_type": "code",
   "execution_count": 125,
   "id": "d10e6042",
   "metadata": {
    "ExecuteTime": {
     "end_time": "2021-08-12T16:13:17.003179Z",
     "start_time": "2021-08-12T16:13:16.971921Z"
    },
    "pycharm": {
     "name": "#%%\n"
    }
   },
   "outputs": [
    {
     "name": "stdout",
     "output_type": "stream",
     "text": [
      "Accurace score: 0.7791411042944786\n",
      "Точность: 0.5909090909090909\n",
      "Полнота: 0.5462184873949579\n",
      "F1 Score: 0.5676855895196506\n",
      "Roc_Auc Score: 0.807423766773224\n"
     ]
    },
    {
     "data": {
      "text/plain": "<Figure size 432x288 with 2 Axes>",
      "image/png": "[encoded data removed]"
     },
     "metadata": {
      "needs_background": "light"
     },
     "output_type": "display_data"
    },
    {
     "data": {
      "text/plain": "<Figure size 432x288 with 1 Axes>",
      "image/png": "[encoded data removed]"
     },
     "metadata": {
      "needs_background": "light"
     },
     "output_type": "display_data"
    }
   ],
   "source": [
    "dtc = DecisionTreeClassifier(random_state=42, criterion='entropy', max_depth=7, min_samples_split=5)\n",
    "dtc.fit(x_train, y_train)\n",
    "y_pred = dtc.predict(x_test)\n",
    "eval_model(dtc, x_test, y_test)"
   ]
  },
  {
   "cell_type": "code",
   "execution_count": 126,
   "id": "98eb712c",
   "metadata": {
    "ExecuteTime": {
     "end_time": "2021-08-12T16:13:28.129363Z",
     "start_time": "2021-08-12T16:13:27.550301Z"
    },
    "pycharm": {
     "name": "#%%\n"
    }
   },
   "outputs": [
    {
     "name": "stdout",
     "output_type": "stream",
     "text": [
      "Accurace score: 0.8081427774679308\n",
      "Точность: 0.6987951807228916\n",
      "Полнота: 0.48739495798319327\n",
      "F1 Score: 0.5742574257425742\n",
      "Roc_Auc Score: 0.8478302482724297\n"
     ]
    },
    {
     "data": {
      "text/plain": "<Figure size 432x288 with 2 Axes>",
      "image/png": "[encoded data removed]"
     },
     "metadata": {
      "needs_background": "light"
     },
     "output_type": "display_data"
    },
    {
     "data": {
      "text/plain": "<Figure size 432x288 with 1 Axes>",
      "image/png": "[encoded data removed]"
     },
     "metadata": {
      "needs_background": "light"
     },
     "output_type": "display_data"
    }
   ],
   "source": [
    "rfc = RandomForestClassifier(random_state=RANDOM_SEED, criterion='gini', max_depth=7, max_features='auto')\n",
    "rfc.fit(x_train, y_train)\n",
    "eval_model(rfc, x_test, y_test)"
   ]
  },
  {
   "cell_type": "code",
   "execution_count": 127,
   "id": "6c4cbaed",
   "metadata": {
    "ExecuteTime": {
     "end_time": "2021-08-12T16:13:34.916264Z",
     "start_time": "2021-08-12T16:13:34.913482Z"
    },
    "pycharm": {
     "name": "#%%\n"
    }
   },
   "outputs": [],
   "source": [
    "cbc = CatBoostClassifier(iterations=ITERATIONS,\n",
    "                         learning_rate=LR,\n",
    "                         random_seed=RANDOM_SEED,\n",
    "                         depth=10,\n",
    "                         eval_metric='PRAUC',\n",
    "                         custom_metric=['AUC', 'Recall'],\n",
    "                         task_type='CPU',\n",
    "                         bagging_temperature=1,\n",
    "                         random_strength=0.5)"
   ]
  },
  {
   "cell_type": "code",
   "execution_count": 128,
   "id": "1d589997",
   "metadata": {
    "ExecuteTime": {
     "end_time": "2021-08-12T16:13:35.758202Z",
     "start_time": "2021-08-12T16:13:35.748208Z"
    },
    "pycharm": {
     "name": "#%%\n"
    }
   },
   "outputs": [],
   "source": [
    "df[num_columns] = sc.fit_transform(df[num_columns])"
   ]
  },
  {
   "cell_type": "code",
   "execution_count": 129,
   "id": "032ad3cf",
   "metadata": {
    "ExecuteTime": {
     "end_time": "2021-08-12T16:13:38.447500Z",
     "start_time": "2021-08-12T16:13:38.428436Z"
    },
    "pycharm": {
     "name": "#%%\n"
    }
   },
   "outputs": [],
   "source": [
    "cat_features_ids = np.where(df.apply(pd.Series.nunique) < 5)[0].tolist()"
   ]
  },
  {
   "cell_type": "code",
   "execution_count": 130,
   "id": "826c377b",
   "metadata": {
    "ExecuteTime": {
     "end_time": "2021-08-12T16:13:38.999424Z",
     "start_time": "2021-08-12T16:13:38.992444Z"
    },
    "pycharm": {
     "name": "#%%\n"
    }
   },
   "outputs": [],
   "source": [
    "x_train, x_test, y_train, y_test = train_test_split(df, Y, test_size=VAL_SIZE, shuffle=True, random_state=RANDOM_SEED, stratify=Y)"
   ]
  },
  {
   "cell_type": "code",
   "execution_count": 131,
   "id": "3b9b5a57",
   "metadata": {
    "ExecuteTime": {
     "end_time": "2021-08-12T16:14:12.968016Z",
     "start_time": "2021-08-12T16:13:42.876903Z"
    },
    "pycharm": {
     "name": "#%%\n"
    }
   },
   "outputs": [
    {
     "data": {
      "text/plain": "MetricVisualizer(layout=Layout(align_self='stretch', height='500px'))",
      "application/vnd.jupyter.widget-view+json": {
       "version_major": 2,
       "version_minor": 0,
       "model_id": "13968a3c7e784486a2735f94f9456564"
      }
     },
     "metadata": {},
     "output_type": "display_data"
    },
    {
     "name": "stdout",
     "output_type": "stream",
     "text": [
      "0:\tlearn: 0.6447109\ttest: 0.5923900\tbest: 0.5923900 (0)\ttotal: 10.8ms\tremaining: 1m 4s\n",
      "100:\tlearn: 0.7695959\ttest: 0.6547701\tbest: 0.6547701 (100)\ttotal: 919ms\tremaining: 53.7s\n",
      "200:\tlearn: 0.8308133\ttest: 0.6576216\tbest: 0.6589717 (175)\ttotal: 1.85s\tremaining: 53.4s\n",
      "300:\tlearn: 0.8622263\ttest: 0.6574873\tbest: 0.6589717 (175)\ttotal: 2.83s\tremaining: 53.7s\n",
      "400:\tlearn: 0.8800978\ttest: 0.6568534\tbest: 0.6589717 (175)\ttotal: 3.8s\tremaining: 53s\n",
      "500:\tlearn: 0.8962572\ttest: 0.6557250\tbest: 0.6589717 (175)\ttotal: 4.78s\tremaining: 52.5s\n",
      "600:\tlearn: 0.9106741\ttest: 0.6550429\tbest: 0.6589717 (175)\ttotal: 5.69s\tremaining: 51.1s\n",
      "700:\tlearn: 0.9266618\ttest: 0.6545373\tbest: 0.6589717 (175)\ttotal: 6.66s\tremaining: 50.3s\n",
      "800:\tlearn: 0.9416502\ttest: 0.6512565\tbest: 0.6589717 (175)\ttotal: 7.65s\tremaining: 49.6s\n",
      "900:\tlearn: 0.9520945\ttest: 0.6493592\tbest: 0.6589717 (175)\ttotal: 8.66s\tremaining: 49s\n",
      "1000:\tlearn: 0.9608857\ttest: 0.6473131\tbest: 0.6589717 (175)\ttotal: 9.67s\tremaining: 48.3s\n",
      "1100:\tlearn: 0.9676685\ttest: 0.6456717\tbest: 0.6589717 (175)\ttotal: 10.7s\tremaining: 47.5s\n",
      "1200:\tlearn: 0.9735600\ttest: 0.6426255\tbest: 0.6589717 (175)\ttotal: 11.7s\tremaining: 46.6s\n",
      "1300:\tlearn: 0.9776301\ttest: 0.6412227\tbest: 0.6589717 (175)\ttotal: 12.8s\tremaining: 46.1s\n",
      "1400:\tlearn: 0.9823017\ttest: 0.6378713\tbest: 0.6589717 (175)\ttotal: 13.8s\tremaining: 45.2s\n",
      "1500:\tlearn: 0.9852725\ttest: 0.6349978\tbest: 0.6589717 (175)\ttotal: 14.8s\tremaining: 44.4s\n",
      "1600:\tlearn: 0.9882397\ttest: 0.6317702\tbest: 0.6589717 (175)\ttotal: 15.8s\tremaining: 43.5s\n",
      "1700:\tlearn: 0.9905156\ttest: 0.6306938\tbest: 0.6589717 (175)\ttotal: 16.8s\tremaining: 42.5s\n",
      "1800:\tlearn: 0.9924075\ttest: 0.6293120\tbest: 0.6589717 (175)\ttotal: 17.9s\tremaining: 41.7s\n",
      "1900:\tlearn: 0.9939714\ttest: 0.6278848\tbest: 0.6589717 (175)\ttotal: 18.9s\tremaining: 40.8s\n",
      "2000:\tlearn: 0.9953010\ttest: 0.6265386\tbest: 0.6589717 (175)\ttotal: 20s\tremaining: 40s\n",
      "2100:\tlearn: 0.9962931\ttest: 0.6259621\tbest: 0.6589717 (175)\ttotal: 21.1s\tremaining: 39.1s\n",
      "2200:\tlearn: 0.9971214\ttest: 0.6238962\tbest: 0.6589717 (175)\ttotal: 22.1s\tremaining: 38.2s\n",
      "2300:\tlearn: 0.9977541\ttest: 0.6233218\tbest: 0.6589717 (175)\ttotal: 23.2s\tremaining: 37.3s\n",
      "2400:\tlearn: 0.9981759\ttest: 0.6232049\tbest: 0.6589717 (175)\ttotal: 24.3s\tremaining: 36.4s\n",
      "2500:\tlearn: 0.9985104\ttest: 0.6221500\tbest: 0.6589717 (175)\ttotal: 25.4s\tremaining: 35.5s\n",
      "2600:\tlearn: 0.9987718\ttest: 0.6208082\tbest: 0.6589717 (175)\ttotal: 26.4s\tremaining: 34.6s\n",
      "2700:\tlearn: 0.9990071\ttest: 0.6201090\tbest: 0.6589717 (175)\ttotal: 27.5s\tremaining: 33.6s\n",
      "2800:\tlearn: 0.9991638\ttest: 0.6197456\tbest: 0.6589717 (175)\ttotal: 28.6s\tremaining: 32.7s\n",
      "2900:\tlearn: 0.9993496\ttest: 0.6197633\tbest: 0.6589717 (175)\ttotal: 29.7s\tremaining: 31.8s\n",
      "3000:\tlearn: 0.9994724\ttest: 0.6200639\tbest: 0.6589717 (175)\ttotal: 30.8s\tremaining: 30.8s\n",
      "3100:\tlearn: 0.9996118\ttest: 0.6193334\tbest: 0.6589717 (175)\ttotal: 31.9s\tremaining: 29.8s\n",
      "3200:\tlearn: 0.9997092\ttest: 0.6185477\tbest: 0.6589717 (175)\ttotal: 33.1s\tremaining: 28.9s\n",
      "3300:\tlearn: 0.9998044\ttest: 0.6177306\tbest: 0.6589717 (175)\ttotal: 34.2s\tremaining: 27.9s\n",
      "3400:\tlearn: 0.9998602\ttest: 0.6174060\tbest: 0.6589717 (175)\ttotal: 35.3s\tremaining: 26.9s\n",
      "3500:\tlearn: 0.9999087\ttest: 0.6176297\tbest: 0.6589717 (175)\ttotal: 36.4s\tremaining: 26s\n",
      "3600:\tlearn: 0.9999458\ttest: 0.6167658\tbest: 0.6589717 (175)\ttotal: 37.5s\tremaining: 25s\n",
      "3700:\tlearn: 0.9999595\ttest: 0.6161870\tbest: 0.6589717 (175)\ttotal: 38.6s\tremaining: 23.9s\n",
      "3800:\tlearn: 0.9999660\ttest: 0.6156093\tbest: 0.6589717 (175)\ttotal: 39.7s\tremaining: 23s\n",
      "3900:\tlearn: 0.9999716\ttest: 0.6150538\tbest: 0.6589717 (175)\ttotal: 40.8s\tremaining: 22s\n",
      "4000:\tlearn: 0.9999765\ttest: 0.6145941\tbest: 0.6589717 (175)\ttotal: 41.9s\tremaining: 21s\n",
      "4100:\tlearn: 0.9999822\ttest: 0.6143077\tbest: 0.6589717 (175)\ttotal: 43.1s\tremaining: 20s\n",
      "4200:\tlearn: 0.9999862\ttest: 0.6143169\tbest: 0.6589717 (175)\ttotal: 44.2s\tremaining: 18.9s\n",
      "4300:\tlearn: 0.9999886\ttest: 0.6137033\tbest: 0.6589717 (175)\ttotal: 45.3s\tremaining: 17.9s\n",
      "4400:\tlearn: 0.9999903\ttest: 0.6131773\tbest: 0.6589717 (175)\ttotal: 46.5s\tremaining: 16.9s\n",
      "4500:\tlearn: 0.9999927\ttest: 0.6129184\tbest: 0.6589717 (175)\ttotal: 47.6s\tremaining: 15.9s\n",
      "4600:\tlearn: 0.9999951\ttest: 0.6118663\tbest: 0.6589717 (175)\ttotal: 48.8s\tremaining: 14.8s\n",
      "4700:\tlearn: 0.9999960\ttest: 0.6113204\tbest: 0.6589717 (175)\ttotal: 49.9s\tremaining: 13.8s\n",
      "4800:\tlearn: 0.9999968\ttest: 0.6111994\tbest: 0.6589717 (175)\ttotal: 51.1s\tremaining: 12.8s\n",
      "4900:\tlearn: 0.9999976\ttest: 0.6109780\tbest: 0.6589717 (175)\ttotal: 52.2s\tremaining: 11.7s\n",
      "5000:\tlearn: 0.9999992\ttest: 0.6104608\tbest: 0.6589717 (175)\ttotal: 53.4s\tremaining: 10.7s\n",
      "5100:\tlearn: 1.0000000\ttest: 0.6103200\tbest: 0.6589717 (175)\ttotal: 54.5s\tremaining: 9.61s\n",
      "5200:\tlearn: 1.0000000\ttest: 0.6110894\tbest: 0.6589717 (175)\ttotal: 55.7s\tremaining: 8.56s\n",
      "5300:\tlearn: 1.0000000\ttest: 0.6108022\tbest: 0.6589717 (175)\ttotal: 56.9s\tremaining: 7.5s\n",
      "5400:\tlearn: 1.0000000\ttest: 0.6103911\tbest: 0.6589717 (175)\ttotal: 58.1s\tremaining: 6.44s\n",
      "5500:\tlearn: 1.0000000\ttest: 0.6090827\tbest: 0.6589717 (175)\ttotal: 59.2s\tremaining: 5.37s\n",
      "5600:\tlearn: 1.0000000\ttest: 0.6089426\tbest: 0.6589717 (175)\ttotal: 1m\tremaining: 4.31s\n",
      "5700:\tlearn: 1.0000000\ttest: 0.6089033\tbest: 0.6589717 (175)\ttotal: 1m 1s\tremaining: 3.24s\n",
      "5800:\tlearn: 1.0000000\ttest: 0.6092681\tbest: 0.6589717 (175)\ttotal: 1m 2s\tremaining: 2.16s\n",
      "5900:\tlearn: 1.0000000\ttest: 0.6090108\tbest: 0.6589717 (175)\ttotal: 1m 4s\tremaining: 1.08s\n",
      "5999:\tlearn: 1.0000000\ttest: 0.6094860\tbest: 0.6589717 (175)\ttotal: 1m 5s\tremaining: 0us\n",
      "\n",
      "bestTest = 0.6589717263\n",
      "bestIteration = 175\n",
      "\n",
      "Shrink model to first 176 iterations.\n"
     ]
    },
    {
     "data": {
      "text/plain": "<catboost.core.CatBoostClassifier at 0x7f7a941ce310>"
     },
     "execution_count": 131,
     "metadata": {},
     "output_type": "execute_result"
    }
   ],
   "source": [
    "cbc.fit(x_train, y_train,\n",
    "          cat_features=cat_features_ids,\n",
    "          eval_set=(x_test, y_test),\n",
    "          verbose_eval=100,\n",
    "          use_best_model=True,\n",
    "          plot=True\n",
    "          )"
   ]
  },
  {
   "cell_type": "code",
   "execution_count": 133,
   "id": "18c5ebe9",
   "metadata": {
    "pycharm": {
     "name": "#%%\n"
    }
   },
   "outputs": [],
   "source": [
    "cbc.save_model('./cbc_model.model')"
   ]
  },
  {
   "cell_type": "code",
   "execution_count": 132,
   "id": "8b60a5e8",
   "metadata": {
    "ExecuteTime": {
     "end_time": "2021-08-12T16:14:24.738670Z",
     "start_time": "2021-08-12T16:14:24.559801Z"
    },
    "pycharm": {
     "name": "#%%\n"
    }
   },
   "outputs": [
    {
     "name": "stdout",
     "output_type": "stream",
     "text": [
      "Accurace score: 0.800334634690463\n",
      "Точность: 0.6676136363636364\n",
      "Полнота: 0.49369747899159666\n",
      "F1 Score: 0.567632850241546\n",
      "Roc_Auc Score: 0.8421155478136586\n"
     ]
    },
    {
     "data": {
      "text/plain": "<Figure size 432x288 with 2 Axes>",
      "image/png": "[encoded data removed]"
     },
     "metadata": {
      "needs_background": "light"
     },
     "output_type": "display_data"
    },
    {
     "data": {
      "text/plain": "<Figure size 432x288 with 1 Axes>",
      "image/png": "[encoded data removed]"
     },
     "metadata": {
      "needs_background": "light"
     },
     "output_type": "display_data"
    }
   ],
   "source": [
    "eval_model(cbc, x_test, y_test)"
   ]
  },
  {
   "cell_type": "code",
   "execution_count": null,
   "outputs": [],
   "source": [],
   "metadata": {
    "collapsed": false,
    "pycharm": {
     "name": "#%%\n"
    }
   }
  }
 ],
 "metadata": {
  "kernelspec": {
   "display_name": "Python [conda env:February2021] *",
   "language": "python",
   "name": "conda-env-February2021-py"
  },
  "language_info": {
   "codemirror_mode": {
    "name": "ipython",
    "version": 3
   },
   "file_extension": ".py",
   "mimetype": "text/x-python",
   "name": "python",
   "nbconvert_exporter": "python",
   "pygments_lexer": "ipython3",
   "version": "3.8.10"
  }
 },
 "nbformat": 4,
 "nbformat_minor": 5
}