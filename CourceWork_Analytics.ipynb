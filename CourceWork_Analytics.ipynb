{
 "cells": [
  {
   "cell_type": "markdown",
   "id": "3afb771c",
   "metadata": {
    "pycharm": {
     "name": "#%% md\n"
    }
   },
   "source": [
    "## Codebook\n",
    "<br>\n",
    "\n",
    "[Ссылка для скачивания данных](https://drive.google.com/open?id=1dPCG76ST6NohYKtVMGv6HpFL-jD5p1eJ)\n",
    "<br><br>\n",
    "\n",
    "`telecom_users.csv` содержит следующие значения:<br><br>\n",
    "\n",
    "&nbsp;&nbsp;&nbsp;&nbsp; `customerID` – id клиента<br>\n",
    "&nbsp;&nbsp;&nbsp;&nbsp; `gender` – пол клиента (male/female)<br>\n",
    "&nbsp;&nbsp;&nbsp;&nbsp; `SeniorCitizen` – яляется ли клиент пенсионером (1, 0)<br>\n",
    "&nbsp;&nbsp;&nbsp;&nbsp; `Partner` – состоит ли клиент в браке (Yes, No)<br>\n",
    "&nbsp;&nbsp;&nbsp;&nbsp; `Dependents` – есть ли у клиента иждивенцы (Yes, No)<br>\n",
    "&nbsp;&nbsp;&nbsp;&nbsp; `tenure` – сколько месяцев человек являлся клиентом компании<br>\n",
    "&nbsp;&nbsp;&nbsp;&nbsp; `PhoneService` – подключена ли услуга телефонной связи (Yes, No)<br>\n",
    "&nbsp;&nbsp;&nbsp;&nbsp; `MultipleLines` – подключены ли несколько телефонных линий (Yes, No, No phone service)<br>\n",
    "&nbsp;&nbsp;&nbsp;&nbsp; `InternetService` – интернет-провайдер клиента (DSL, Fiber optic, No)<br>\n",
    "&nbsp;&nbsp;&nbsp;&nbsp; `OnlineSecurity` – подключена ли услуга онлайн-безопасности (Yes, No, No internet service)<br>\n",
    "&nbsp;&nbsp;&nbsp;&nbsp; `OnlineBackup` – подключена ли услуга online backup (Yes, No, No internet service)<br>\n",
    "&nbsp;&nbsp;&nbsp;&nbsp; `DeviceProtection` – есть ли у клиента страховка оборудования (Yes, No, No internet service)<br>\n",
    "&nbsp;&nbsp;&nbsp;&nbsp; `TechSupport` – подключена ли услуга технической поддержки (Yes, No, No internet service)<br>\n",
    "&nbsp;&nbsp;&nbsp;&nbsp; `StreamingTV` – подключена ли услуга стримингового телевидения (Yes, No, No internet service)<br>\n",
    "&nbsp;&nbsp;&nbsp;&nbsp; `StreamingMovies` – подключена ли услуга стримингового кинотеатра (Yes, No, No internet service)<br>\n",
    "&nbsp;&nbsp;&nbsp;&nbsp; `Contract` – тип контракта клиента (Month-to-month, One year, Two year)<br>\n",
    "&nbsp;&nbsp;&nbsp;&nbsp; `PaperlessBilling` – пользуется ли клиент безбумажным биллингом (Yes, No)<br>\n",
    "&nbsp;&nbsp;&nbsp;&nbsp; `PaymentMethod` – метод оплаты (Electronic check, Mailed check, Bank transfer (automatic), Credit card (automatic))<br>\n",
    "&nbsp;&nbsp;&nbsp;&nbsp; `MonthlyCharges` – месячный размер оплаты на настоящий момент<br>\n",
    "&nbsp;&nbsp;&nbsp;&nbsp; `TotalCharges` – общая сумма, которую клиент заплатил за услуги за все время<br>\n",
    "&nbsp;&nbsp;&nbsp;&nbsp; `Churn` – произошел ли отток (Yes or No)<br>"
   ]
  },
  {
   "cell_type": "code",
   "execution_count": 1,
   "id": "continent-weather",
   "metadata": {
    "ExecuteTime": {
     "end_time": "2021-08-12T16:12:01.441537Z",
     "start_time": "2021-08-12T16:12:00.740735Z"
    },
    "pycharm": {
     "name": "#%%\n"
    }
   },
   "outputs": [],
   "source": [
    "import pandas as pd\n",
    "import numpy as np\n",
    "import matplotlib.pyplot as plt\n",
    "import plotly.express as px\n",
    "import plotly.graph_objects as go\n",
    "\n",
    "from sklearn.preprocessing import StandardScaler\n",
    "from sklearn.model_selection import train_test_split\n",
    "from sklearn.linear_model import LogisticRegression\n",
    "from sklearn.tree import DecisionTreeClassifier\n",
    "from sklearn.ensemble import RandomForestClassifier\n",
    "from catboost import CatBoostClassifier\n",
    "\n",
    "\n",
    "from sklearn.metrics import accuracy_score, recall_score, precision_score\n",
    "from sklearn.metrics import f1_score\n",
    "from sklearn.metrics import roc_auc_score, roc_curve\n",
    "from sklearn.metrics import plot_roc_curve, plot_confusion_matrix\n"
   ]
  },
  {
   "cell_type": "code",
   "execution_count": 3,
   "id": "e5d31040",
   "metadata": {
    "ExecuteTime": {
     "end_time": "2021-08-12T16:12:03.321534Z",
     "start_time": "2021-08-12T16:12:03.319179Z"
    },
    "pycharm": {
     "name": "#%%\n"
    }
   },
   "outputs": [],
   "source": [
    "VAL_SIZE   = 0.3   # 33%\n",
    "N_FOLDS    = 5\n",
    "\n",
    "# CATBOOST\n",
    "ITERATIONS = 6000\n",
    "LR         = 0.05\n",
    "RANDOM_SEED = 42"
   ]
  },
  {
   "cell_type": "code",
   "execution_count": 4,
   "id": "166d8ec5",
   "metadata": {
    "ExecuteTime": {
     "end_time": "2021-08-12T16:12:03.674000Z",
     "start_time": "2021-08-12T16:12:03.656865Z"
    },
    "pycharm": {
     "name": "#%%\n"
    }
   },
   "outputs": [],
   "source": [
    "df = pd.read_csv('./data/telecom_users.csv')\n",
    "df = df[df.columns[2:]]\n",
    "df = df[df['TotalCharges'] != ' ']\n",
    "df['TotalCharges'] = pd.to_numeric(df['TotalCharges'])\n",
    "df['Churn'] = df['Churn'].map({'Yes':1, 'No':0})"
   ]
  },
  {
   "cell_type": "code",
   "execution_count": 5,
   "id": "bc6aac89",
   "metadata": {
    "ExecuteTime": {
     "end_time": "2021-08-12T16:12:05.214283Z",
     "start_time": "2021-08-12T16:12:05.212044Z"
    },
    "pycharm": {
     "name": "#%%\n"
    }
   },
   "outputs": [],
   "source": [
    "Y = df['Churn'].copy()"
   ]
  },
  {
   "cell_type": "code",
   "execution_count": 6,
   "id": "6b8cf298",
   "metadata": {
    "ExecuteTime": {
     "end_time": "2021-08-12T16:12:05.513421Z",
     "start_time": "2021-08-12T16:12:05.507983Z"
    },
    "pycharm": {
     "name": "#%%\n"
    }
   },
   "outputs": [],
   "source": [
    "df = df.drop('Churn', axis=1)"
   ]
  },
  {
   "cell_type": "code",
   "execution_count": 7,
   "id": "e683cdb9",
   "metadata": {
    "ExecuteTime": {
     "end_time": "2021-08-12T16:12:05.824866Z",
     "start_time": "2021-08-12T16:12:05.821661Z"
    },
    "pycharm": {
     "name": "#%%\n"
    }
   },
   "outputs": [],
   "source": [
    "df['SeniorCitizen'] = df['SeniorCitizen'].astype('object')"
   ]
  },
  {
   "cell_type": "code",
   "execution_count": 9,
   "id": "8326ba4a",
   "metadata": {
    "ExecuteTime": {
     "end_time": "2021-08-12T16:12:06.600674Z",
     "start_time": "2021-08-12T16:12:06.575326Z"
    },
    "pycharm": {
     "name": "#%%\n"
    }
   },
   "outputs": [
    {
     "data": {
      "text/plain": "4"
     },
     "execution_count": 9,
     "metadata": {},
     "output_type": "execute_result"
    }
   ],
   "source": [
    "df.select_dtypes(include=['object']).nunique().max()"
   ]
  },
  {
   "cell_type": "code",
   "execution_count": 10,
   "id": "7cf6a7ce",
   "metadata": {
    "ExecuteTime": {
     "end_time": "2021-08-12T16:12:09.226665Z",
     "start_time": "2021-08-12T16:12:09.223086Z"
    },
    "pycharm": {
     "name": "#%%\n"
    }
   },
   "outputs": [],
   "source": [
    "cat_columns = df.select_dtypes(include=['object']).columns\n",
    "num_columns = df.select_dtypes(include=['number']).columns"
   ]
  },
  {
   "cell_type": "code",
   "execution_count": 11,
   "id": "126833aa",
   "metadata": {
    "ExecuteTime": {
     "end_time": "2021-08-12T16:12:09.751784Z",
     "start_time": "2021-08-12T16:12:09.725193Z"
    },
    "pycharm": {
     "name": "#%%\n"
    }
   },
   "outputs": [],
   "source": [
    "df_main = pd.get_dummies(df, prefix=cat_columns)"
   ]
  },
  {
   "cell_type": "code",
   "execution_count": 13,
   "id": "e9818268",
   "metadata": {
    "ExecuteTime": {
     "end_time": "2021-08-12T16:12:10.108579Z",
     "start_time": "2021-08-12T16:12:10.085839Z"
    },
    "pycharm": {
     "name": "#%%\n"
    }
   },
   "outputs": [
    {
     "data": {
      "text/plain": "      tenure  MonthlyCharges  TotalCharges  gender_Female  gender_Male  \\\n0         72           24.10       1734.65              0            1   \n1         44           88.15       3973.20              1            0   \n2         38           74.95       2869.85              1            0   \n3          4           55.90        238.50              0            1   \n4          2           53.45        119.50              0            1   \n...      ...             ...           ...            ...          ...   \n5981       1           95.00         95.00              0            1   \n5982      23           91.10       2198.30              1            0   \n5983      12           21.15        306.05              0            1   \n5984      12           99.45       1200.15              0            1   \n5985      26           19.80        457.30              0            1   \n\n      SeniorCitizen_0  SeniorCitizen_1  Partner_No  Partner_Yes  \\\n0                   1                0           0            1   \n1                   1                0           1            0   \n2                   0                1           0            1   \n3                   1                0           1            0   \n4                   1                0           1            0   \n...               ...              ...         ...          ...   \n5981                1                0           0            1   \n5982                1                0           0            1   \n5983                1                0           0            1   \n5984                0                1           1            0   \n5985                1                0           1            0   \n\n      Dependents_No  ...  StreamingMovies_Yes  Contract_Month-to-month  \\\n0                 0  ...                    0                        0   \n1                 1  ...                    0                        1   \n2                 1  ...                    0                        1   \n3                 1  ...                    1                        1   \n4                 1  ...                    0                        1   \n...             ...  ...                  ...                      ...   \n5981              1  ...                    1                        1   \n5982              0  ...                    1                        0   \n5983              0  ...                    0                        1   \n5984              1  ...                    1                        1   \n5985              1  ...                    0                        0   \n\n      Contract_One year  Contract_Two year  PaperlessBilling_No  \\\n0                     0                  1                    1   \n1                     0                  0                    0   \n2                     0                  0                    0   \n3                     0                  0                    0   \n4                     0                  0                    1   \n...                 ...                ...                  ...   \n5981                  0                  0                    0   \n5982                  0                  1                    0   \n5983                  0                  0                    0   \n5984                  0                  0                    0   \n5985                  1                  0                    1   \n\n      PaperlessBilling_Yes  PaymentMethod_Bank transfer (automatic)  \\\n0                        0                                        0   \n1                        1                                        0   \n2                        1                                        1   \n3                        1                                        0   \n4                        0                                        0   \n...                    ...                                      ...   \n5981                     1                                        0   \n5982                     1                                        0   \n5983                     1                                        0   \n5984                     1                                        0   \n5985                     0                                        0   \n\n      PaymentMethod_Credit card (automatic)  PaymentMethod_Electronic check  \\\n0                                         1                               0   \n1                                         1                               0   \n2                                         0                               0   \n3                                         0                               1   \n4                                         0                               1   \n...                                     ...                             ...   \n5981                                      0                               1   \n5982                                      1                               0   \n5983                                      0                               1   \n5984                                      0                               1   \n5985                                      1                               0   \n\n      PaymentMethod_Mailed check  \n0                              0  \n1                              0  \n2                              0  \n3                              0  \n4                              0  \n...                          ...  \n5981                           0  \n5982                           0  \n5983                           0  \n5984                           0  \n5985                           0  \n\n[5976 rows x 46 columns]",
      "text/html": "<div>\n<style scoped>\n    .dataframe tbody tr th:only-of-type {\n        vertical-align: middle;\n    }\n\n    .dataframe tbody tr th {\n        vertical-align: top;\n    }\n\n    .dataframe thead th {\n        text-align: right;\n    }\n</style>\n<table border=\"1\" class=\"dataframe\">\n  <thead>\n    <tr style=\"text-align: right;\">\n      <th></th>\n      <th>tenure</th>\n      <th>MonthlyCharges</th>\n      <th>TotalCharges</th>\n      <th>gender_Female</th>\n      <th>gender_Male</th>\n      <th>SeniorCitizen_0</th>\n      <th>SeniorCitizen_1</th>\n      <th>Partner_No</th>\n      <th>Partner_Yes</th>\n      <th>Dependents_No</th>\n      <th>...</th>\n      <th>StreamingMovies_Yes</th>\n      <th>Contract_Month-to-month</th>\n      <th>Contract_One year</th>\n      <th>Contract_Two year</th>\n      <th>PaperlessBilling_No</th>\n      <th>PaperlessBilling_Yes</th>\n      <th>PaymentMethod_Bank transfer (automatic)</th>\n      <th>PaymentMethod_Credit card (automatic)</th>\n      <th>PaymentMethod_Electronic check</th>\n      <th>PaymentMethod_Mailed check</th>\n    </tr>\n  </thead>\n  <tbody>\n    <tr>\n      <th>0</th>\n      <td>72</td>\n      <td>24.10</td>\n      <td>1734.65</td>\n      <td>0</td>\n      <td>1</td>\n      <td>1</td>\n      <td>0</td>\n      <td>0</td>\n      <td>1</td>\n      <td>0</td>\n      <td>...</td>\n      <td>0</td>\n      <td>0</td>\n      <td>0</td>\n      <td>1</td>\n      <td>1</td>\n      <td>0</td>\n      <td>0</td>\n      <td>1</td>\n      <td>0</td>\n      <td>0</td>\n    </tr>\n    <tr>\n      <th>1</th>\n      <td>44</td>\n      <td>88.15</td>\n      <td>3973.20</td>\n      <td>1</td>\n      <td>0</td>\n      <td>1</td>\n      <td>0</td>\n      <td>1</td>\n      <td>0</td>\n      <td>1</td>\n      <td>...</td>\n      <td>0</td>\n      <td>1</td>\n      <td>0</td>\n      <td>0</td>\n      <td>0</td>\n      <td>1</td>\n      <td>0</td>\n      <td>1</td>\n      <td>0</td>\n      <td>0</td>\n    </tr>\n    <tr>\n      <th>2</th>\n      <td>38</td>\n      <td>74.95</td>\n      <td>2869.85</td>\n      <td>1</td>\n      <td>0</td>\n      <td>0</td>\n      <td>1</td>\n      <td>0</td>\n      <td>1</td>\n      <td>1</td>\n      <td>...</td>\n      <td>0</td>\n      <td>1</td>\n      <td>0</td>\n      <td>0</td>\n      <td>0</td>\n      <td>1</td>\n      <td>1</td>\n      <td>0</td>\n      <td>0</td>\n      <td>0</td>\n    </tr>\n    <tr>\n      <th>3</th>\n      <td>4</td>\n      <td>55.90</td>\n      <td>238.50</td>\n      <td>0</td>\n      <td>1</td>\n      <td>1</td>\n      <td>0</td>\n      <td>1</td>\n      <td>0</td>\n      <td>1</td>\n      <td>...</td>\n      <td>1</td>\n      <td>1</td>\n      <td>0</td>\n      <td>0</td>\n      <td>0</td>\n      <td>1</td>\n      <td>0</td>\n      <td>0</td>\n      <td>1</td>\n      <td>0</td>\n    </tr>\n    <tr>\n      <th>4</th>\n      <td>2</td>\n      <td>53.45</td>\n      <td>119.50</td>\n      <td>0</td>\n      <td>1</td>\n      <td>1</td>\n      <td>0</td>\n      <td>1</td>\n      <td>0</td>\n      <td>1</td>\n      <td>...</td>\n      <td>0</td>\n      <td>1</td>\n      <td>0</td>\n      <td>0</td>\n      <td>1</td>\n      <td>0</td>\n      <td>0</td>\n      <td>0</td>\n      <td>1</td>\n      <td>0</td>\n    </tr>\n    <tr>\n      <th>...</th>\n      <td>...</td>\n      <td>...</td>\n      <td>...</td>\n      <td>...</td>\n      <td>...</td>\n      <td>...</td>\n      <td>...</td>\n      <td>...</td>\n      <td>...</td>\n      <td>...</td>\n      <td>...</td>\n      <td>...</td>\n      <td>...</td>\n      <td>...</td>\n      <td>...</td>\n      <td>...</td>\n      <td>...</td>\n      <td>...</td>\n      <td>...</td>\n      <td>...</td>\n      <td>...</td>\n    </tr>\n    <tr>\n      <th>5981</th>\n      <td>1</td>\n      <td>95.00</td>\n      <td>95.00</td>\n      <td>0</td>\n      <td>1</td>\n      <td>1</td>\n      <td>0</td>\n      <td>0</td>\n      <td>1</td>\n      <td>1</td>\n      <td>...</td>\n      <td>1</td>\n      <td>1</td>\n      <td>0</td>\n      <td>0</td>\n      <td>0</td>\n      <td>1</td>\n      <td>0</td>\n      <td>0</td>\n      <td>1</td>\n      <td>0</td>\n    </tr>\n    <tr>\n      <th>5982</th>\n      <td>23</td>\n      <td>91.10</td>\n      <td>2198.30</td>\n      <td>1</td>\n      <td>0</td>\n      <td>1</td>\n      <td>0</td>\n      <td>0</td>\n      <td>1</td>\n      <td>0</td>\n      <td>...</td>\n      <td>1</td>\n      <td>0</td>\n      <td>0</td>\n      <td>1</td>\n      <td>0</td>\n      <td>1</td>\n      <td>0</td>\n      <td>1</td>\n      <td>0</td>\n      <td>0</td>\n    </tr>\n    <tr>\n      <th>5983</th>\n      <td>12</td>\n      <td>21.15</td>\n      <td>306.05</td>\n      <td>0</td>\n      <td>1</td>\n      <td>1</td>\n      <td>0</td>\n      <td>0</td>\n      <td>1</td>\n      <td>0</td>\n      <td>...</td>\n      <td>0</td>\n      <td>1</td>\n      <td>0</td>\n      <td>0</td>\n      <td>0</td>\n      <td>1</td>\n      <td>0</td>\n      <td>0</td>\n      <td>1</td>\n      <td>0</td>\n    </tr>\n    <tr>\n      <th>5984</th>\n      <td>12</td>\n      <td>99.45</td>\n      <td>1200.15</td>\n      <td>0</td>\n      <td>1</td>\n      <td>0</td>\n      <td>1</td>\n      <td>1</td>\n      <td>0</td>\n      <td>1</td>\n      <td>...</td>\n      <td>1</td>\n      <td>1</td>\n      <td>0</td>\n      <td>0</td>\n      <td>0</td>\n      <td>1</td>\n      <td>0</td>\n      <td>0</td>\n      <td>1</td>\n      <td>0</td>\n    </tr>\n    <tr>\n      <th>5985</th>\n      <td>26</td>\n      <td>19.80</td>\n      <td>457.30</td>\n      <td>0</td>\n      <td>1</td>\n      <td>1</td>\n      <td>0</td>\n      <td>1</td>\n      <td>0</td>\n      <td>1</td>\n      <td>...</td>\n      <td>0</td>\n      <td>0</td>\n      <td>1</td>\n      <td>0</td>\n      <td>1</td>\n      <td>0</td>\n      <td>0</td>\n      <td>1</td>\n      <td>0</td>\n      <td>0</td>\n    </tr>\n  </tbody>\n</table>\n<p>5976 rows × 46 columns</p>\n</div>"
     },
     "execution_count": 13,
     "metadata": {},
     "output_type": "execute_result"
    }
   ],
   "source": [
    "df_main"
   ]
  },
  {
   "cell_type": "code",
   "execution_count": 14,
   "id": "88e8ba96",
   "metadata": {
    "ExecuteTime": {
     "end_time": "2021-08-12T16:12:12.531667Z",
     "start_time": "2021-08-12T16:12:12.529693Z"
    },
    "pycharm": {
     "name": "#%%\n"
    }
   },
   "outputs": [],
   "source": [
    "sc = StandardScaler()"
   ]
  },
  {
   "cell_type": "code",
   "execution_count": 15,
   "id": "3272e8f0",
   "metadata": {
    "ExecuteTime": {
     "end_time": "2021-08-12T16:12:12.874104Z",
     "start_time": "2021-08-12T16:12:12.863901Z"
    },
    "pycharm": {
     "name": "#%%\n"
    }
   },
   "outputs": [],
   "source": [
    "df_main[num_columns] = sc.fit_transform(df[num_columns])"
   ]
  },
  {
   "cell_type": "code",
   "execution_count": 16,
   "id": "63b51591",
   "metadata": {
    "ExecuteTime": {
     "end_time": "2021-08-12T16:12:13.203516Z",
     "start_time": "2021-08-12T16:12:13.186056Z"
    },
    "pycharm": {
     "name": "#%%\n"
    }
   },
   "outputs": [
    {
     "data": {
      "text/plain": "     tenure  MonthlyCharges  TotalCharges  gender_Female  gender_Male  \\\n0  1.611381       -1.353483     -0.247769              0            1   \n1  0.468468        0.774066      0.736669              1            0   \n2  0.223558        0.335602      0.251453              1            0   \n3 -1.164265       -0.297182     -0.905725              0            1   \n4 -1.245901       -0.378564     -0.958057              0            1   \n\n   SeniorCitizen_0  SeniorCitizen_1  Partner_No  Partner_Yes  Dependents_No  \\\n0                1                0           0            1              0   \n1                1                0           1            0              1   \n2                0                1           0            1              1   \n3                1                0           1            0              1   \n4                1                0           1            0              1   \n\n   ...  StreamingMovies_Yes  Contract_Month-to-month  Contract_One year  \\\n0  ...                    0                        0                  0   \n1  ...                    0                        1                  0   \n2  ...                    0                        1                  0   \n3  ...                    1                        1                  0   \n4  ...                    0                        1                  0   \n\n   Contract_Two year  PaperlessBilling_No  PaperlessBilling_Yes  \\\n0                  1                    1                     0   \n1                  0                    0                     1   \n2                  0                    0                     1   \n3                  0                    0                     1   \n4                  0                    1                     0   \n\n   PaymentMethod_Bank transfer (automatic)  \\\n0                                        0   \n1                                        0   \n2                                        1   \n3                                        0   \n4                                        0   \n\n   PaymentMethod_Credit card (automatic)  PaymentMethod_Electronic check  \\\n0                                      1                               0   \n1                                      1                               0   \n2                                      0                               0   \n3                                      0                               1   \n4                                      0                               1   \n\n   PaymentMethod_Mailed check  \n0                           0  \n1                           0  \n2                           0  \n3                           0  \n4                           0  \n\n[5 rows x 46 columns]",
      "text/html": "<div>\n<style scoped>\n    .dataframe tbody tr th:only-of-type {\n        vertical-align: middle;\n    }\n\n    .dataframe tbody tr th {\n        vertical-align: top;\n    }\n\n    .dataframe thead th {\n        text-align: right;\n    }\n</style>\n<table border=\"1\" class=\"dataframe\">\n  <thead>\n    <tr style=\"text-align: right;\">\n      <th></th>\n      <th>tenure</th>\n      <th>MonthlyCharges</th>\n      <th>TotalCharges</th>\n      <th>gender_Female</th>\n      <th>gender_Male</th>\n      <th>SeniorCitizen_0</th>\n      <th>SeniorCitizen_1</th>\n      <th>Partner_No</th>\n      <th>Partner_Yes</th>\n      <th>Dependents_No</th>\n      <th>...</th>\n      <th>StreamingMovies_Yes</th>\n      <th>Contract_Month-to-month</th>\n      <th>Contract_One year</th>\n      <th>Contract_Two year</th>\n      <th>PaperlessBilling_No</th>\n      <th>PaperlessBilling_Yes</th>\n      <th>PaymentMethod_Bank transfer (automatic)</th>\n      <th>PaymentMethod_Credit card (automatic)</th>\n      <th>PaymentMethod_Electronic check</th>\n      <th>PaymentMethod_Mailed check</th>\n    </tr>\n  </thead>\n  <tbody>\n    <tr>\n      <th>0</th>\n      <td>1.611381</td>\n      <td>-1.353483</td>\n      <td>-0.247769</td>\n      <td>0</td>\n      <td>1</td>\n      <td>1</td>\n      <td>0</td>\n      <td>0</td>\n      <td>1</td>\n      <td>0</td>\n      <td>...</td>\n      <td>0</td>\n      <td>0</td>\n      <td>0</td>\n      <td>1</td>\n      <td>1</td>\n      <td>0</td>\n      <td>0</td>\n      <td>1</td>\n      <td>0</td>\n      <td>0</td>\n    </tr>\n    <tr>\n      <th>1</th>\n      <td>0.468468</td>\n      <td>0.774066</td>\n      <td>0.736669</td>\n      <td>1</td>\n      <td>0</td>\n      <td>1</td>\n      <td>0</td>\n      <td>1</td>\n      <td>0</td>\n      <td>1</td>\n      <td>...</td>\n      <td>0</td>\n      <td>1</td>\n      <td>0</td>\n      <td>0</td>\n      <td>0</td>\n      <td>1</td>\n      <td>0</td>\n      <td>1</td>\n      <td>0</td>\n      <td>0</td>\n    </tr>\n    <tr>\n      <th>2</th>\n      <td>0.223558</td>\n      <td>0.335602</td>\n      <td>0.251453</td>\n      <td>1</td>\n      <td>0</td>\n      <td>0</td>\n      <td>1</td>\n      <td>0</td>\n      <td>1</td>\n      <td>1</td>\n      <td>...</td>\n      <td>0</td>\n      <td>1</td>\n      <td>0</td>\n      <td>0</td>\n      <td>0</td>\n      <td>1</td>\n      <td>1</td>\n      <td>0</td>\n      <td>0</td>\n      <td>0</td>\n    </tr>\n    <tr>\n      <th>3</th>\n      <td>-1.164265</td>\n      <td>-0.297182</td>\n      <td>-0.905725</td>\n      <td>0</td>\n      <td>1</td>\n      <td>1</td>\n      <td>0</td>\n      <td>1</td>\n      <td>0</td>\n      <td>1</td>\n      <td>...</td>\n      <td>1</td>\n      <td>1</td>\n      <td>0</td>\n      <td>0</td>\n      <td>0</td>\n      <td>1</td>\n      <td>0</td>\n      <td>0</td>\n      <td>1</td>\n      <td>0</td>\n    </tr>\n    <tr>\n      <th>4</th>\n      <td>-1.245901</td>\n      <td>-0.378564</td>\n      <td>-0.958057</td>\n      <td>0</td>\n      <td>1</td>\n      <td>1</td>\n      <td>0</td>\n      <td>1</td>\n      <td>0</td>\n      <td>1</td>\n      <td>...</td>\n      <td>0</td>\n      <td>1</td>\n      <td>0</td>\n      <td>0</td>\n      <td>1</td>\n      <td>0</td>\n      <td>0</td>\n      <td>0</td>\n      <td>1</td>\n      <td>0</td>\n    </tr>\n  </tbody>\n</table>\n<p>5 rows × 46 columns</p>\n</div>"
     },
     "execution_count": 16,
     "metadata": {},
     "output_type": "execute_result"
    }
   ],
   "source": [
    "df_main.head()"
   ]
  },
  {
   "cell_type": "code",
   "execution_count": 17,
   "id": "41cc7d36",
   "metadata": {
    "ExecuteTime": {
     "end_time": "2021-08-12T16:12:16.329893Z",
     "start_time": "2021-08-12T16:12:16.327321Z"
    },
    "pycharm": {
     "name": "#%%\n"
    }
   },
   "outputs": [],
   "source": [
    "df_main.columns = map(lambda x: x.lower(), df_main.columns)"
   ]
  },
  {
   "cell_type": "code",
   "execution_count": 18,
   "id": "489f4ba6",
   "metadata": {
    "ExecuteTime": {
     "end_time": "2021-08-12T16:12:18.085836Z",
     "start_time": "2021-08-12T16:12:18.079532Z"
    },
    "pycharm": {
     "name": "#%%\n"
    }
   },
   "outputs": [
    {
     "data": {
      "text/plain": "0    0.734438\n1    0.265562\nName: Churn, dtype: float64"
     },
     "execution_count": 18,
     "metadata": {},
     "output_type": "execute_result"
    }
   ],
   "source": [
    "Y.value_counts(normalize=True)"
   ]
  },
  {
   "cell_type": "code",
   "execution_count": 19,
   "id": "c3bfeb42",
   "metadata": {
    "ExecuteTime": {
     "end_time": "2021-08-12T16:12:20.745196Z",
     "start_time": "2021-08-12T16:12:20.736397Z"
    },
    "pycharm": {
     "name": "#%%\n"
    }
   },
   "outputs": [],
   "source": [
    "x_train, x_test, y_train, y_test = train_test_split(df_main, Y, test_size=VAL_SIZE, random_state=RANDOM_SEED, stratify=Y, shuffle=True)"
   ]
  },
  {
   "cell_type": "code",
   "execution_count": 22,
   "outputs": [],
   "source": [
    "LogisticRegression?"
   ],
   "metadata": {
    "collapsed": false,
    "pycharm": {
     "name": "#%%\n"
    }
   }
  },
  {
   "cell_type": "code",
   "execution_count": 23,
   "id": "f9203497",
   "metadata": {
    "ExecuteTime": {
     "end_time": "2021-08-12T16:12:21.562074Z",
     "start_time": "2021-08-12T16:12:21.560435Z"
    },
    "pycharm": {
     "name": "#%%\n"
    }
   },
   "outputs": [],
   "source": [
    "log_reg = LogisticRegression(random_state=RANDOM_SEED, penalty='l1', solver='liblinear')"
   ]
  },
  {
   "cell_type": "code",
   "execution_count": 24,
   "id": "ad39b1f7",
   "metadata": {
    "ExecuteTime": {
     "end_time": "2021-08-12T16:12:21.990496Z",
     "start_time": "2021-08-12T16:12:21.960178Z"
    },
    "pycharm": {
     "name": "#%%\n"
    }
   },
   "outputs": [
    {
     "data": {
      "text/plain": "LogisticRegression(penalty='l1', random_state=42, solver='liblinear')"
     },
     "execution_count": 24,
     "metadata": {},
     "output_type": "execute_result"
    }
   ],
   "source": [
    "log_reg.fit(x_train, y_train)"
   ]
  },
  {
   "cell_type": "code",
   "execution_count": 25,
   "id": "f1d7b000",
   "metadata": {
    "ExecuteTime": {
     "end_time": "2021-08-12T16:13:05.042509Z",
     "start_time": "2021-08-12T16:13:05.038449Z"
    },
    "pycharm": {
     "name": "#%%\n"
    }
   },
   "outputs": [],
   "source": [
    "def eval_model(model, x_test, y_test):\n",
    "    print('Accurace score: {}'.format(accuracy_score(\n",
    "        y_test, model.predict(x_test)\n",
    "    )))\n",
    "    print('Точность: {}'.format(precision_score(y_test, model.predict(x_test))))\n",
    "    print('Полнота: {}'.format(recall_score(y_test, model.predict(x_test))))\n",
    "    print('F1 Score: {}'.format(f1_score(y_test, model.predict(x_test))))\n",
    "    print('Roc_Auc Score: {}'.format(roc_auc_score(y_test, model.predict(x_test))))\n",
    "    plot_confusion_matrix(model, x_test, y_test)\n",
    "    plot_roc_curve(model, x_test, y_test)\n",
    "    plt.show()"
   ]
  },
  {
   "cell_type": "code",
   "execution_count": 27,
   "id": "9c2e5ed4",
   "metadata": {
    "ExecuteTime": {
     "end_time": "2021-08-12T16:13:06.418113Z",
     "start_time": "2021-08-12T16:13:06.238332Z"
    },
    "pycharm": {
     "name": "#%%\n"
    }
   },
   "outputs": [
    {
     "name": "stdout",
     "output_type": "stream",
     "text": [
      "Accurace score: 0.8014500836586727\n",
      "Точность: 0.6515151515151515\n",
      "Полнота: 0.542016806722689\n",
      "F1 Score: 0.5917431192660549\n",
      "Roc_Auc Score: 0.7186166038169254\n"
     ]
    },
    {
     "data": {
      "image/png": "[encoded data removed]",
      "text/plain": [
       "<Figure size 432x288 with 2 Axes>"
      ]
     },
     "metadata": {
      "needs_background": "light"
     },
     "output_type": "display_data"
    },
    {
     "data": {
      "image/png": "[encoded data removed]",
      "text/plain": [
       "<Figure size 432x288 with 1 Axes>"
      ]
     },
     "metadata": {
      "needs_background": "light"
     },
     "output_type": "display_data"
    }
   ],
   "source": [
    "eval_model(log_reg, x_test, y_test)"
   ]
  },
  {
   "cell_type": "code",
   "execution_count": 28,
   "id": "d10e6042",
   "metadata": {
    "ExecuteTime": {
     "end_time": "2021-08-12T16:13:17.003179Z",
     "start_time": "2021-08-12T16:13:16.971921Z"
    },
    "pycharm": {
     "name": "#%%\n"
    }
   },
   "outputs": [],
   "source": [
    "dtc = DecisionTreeClassifier(random_state=42)\n",
    "dtc.fit(x_train, y_train)\n",
    "y_pred = dtc.predict(x_test)"
   ]
  },
  {
   "cell_type": "code",
   "execution_count": 29,
   "id": "a35069f2",
   "metadata": {
    "ExecuteTime": {
     "end_time": "2021-08-12T16:13:17.752171Z",
     "start_time": "2021-08-12T16:13:17.580132Z"
    },
    "pycharm": {
     "name": "#%%\n"
    }
   },
   "outputs": [
    {
     "name": "stdout",
     "output_type": "stream",
     "text": [
      "Accurace score: 0.7306190741773564\n",
      "Точность: 0.49272349272349275\n",
      "Полнота: 0.49789915966386555\n",
      "F1 Score: 0.49529780564263326\n",
      "Roc_Auc Score: 0.6563148038258584\n"
     ]
    },
    {
     "data": {
      "image/png": "[encoded data removed]",
      "text/plain": [
       "<Figure size 432x288 with 2 Axes>"
      ]
     },
     "metadata": {
      "needs_background": "light"
     },
     "output_type": "display_data"
    },
    {
     "data": {
      "image/png": "[encoded data removed]",
      "text/plain": [
       "<Figure size 432x288 with 1 Axes>"
      ]
     },
     "metadata": {
      "needs_background": "light"
     },
     "output_type": "display_data"
    }
   ],
   "source": [
    "eval_model(dtc, x_test, y_test)"
   ]
  },
  {
   "cell_type": "code",
   "execution_count": 30,
   "id": "98eb712c",
   "metadata": {
    "ExecuteTime": {
     "end_time": "2021-08-12T16:13:28.129363Z",
     "start_time": "2021-08-12T16:13:27.550301Z"
    },
    "pycharm": {
     "name": "#%%\n"
    }
   },
   "outputs": [
    {
     "name": "stdout",
     "output_type": "stream",
     "text": [
      "Accurace score: 0.788622420524261\n",
      "Точность: 0.6405797101449275\n",
      "Полнота: 0.4642857142857143\n",
      "F1 Score: 0.53836784409257\n",
      "Roc_Auc Score: 0.6850661676971472\n"
     ]
    },
    {
     "data": {
      "image/png": "[encoded data removed]",
      "text/plain": [
       "<Figure size 432x288 with 2 Axes>"
      ]
     },
     "metadata": {
      "needs_background": "light"
     },
     "output_type": "display_data"
    },
    {
     "data": {
      "image/png": "[encoded data removed]",
      "text/plain": [
       "<Figure size 432x288 with 1 Axes>"
      ]
     },
     "metadata": {
      "needs_background": "light"
     },
     "output_type": "display_data"
    }
   ],
   "source": [
    "rfc = RandomForestClassifier(random_state=42)\n",
    "rfc.fit(x_train, y_train)\n",
    "eval_model(rfc, x_test, y_test)"
   ]
  },
  {
   "cell_type": "code",
   "execution_count": 31,
   "id": "6c4cbaed",
   "metadata": {
    "ExecuteTime": {
     "end_time": "2021-08-12T16:13:34.916264Z",
     "start_time": "2021-08-12T16:13:34.913482Z"
    },
    "pycharm": {
     "name": "#%%\n"
    }
   },
   "outputs": [],
   "source": [
    "cbc = CatBoostClassifier(iterations=ITERATIONS,\n",
    "                         learning_rate=LR,\n",
    "                         random_seed=RANDOM_SEED,\n",
    "                         eval_metric='AUC',\n",
    "                         #custom_metric=['Precision'],\n",
    "                         task_type='CPU',\n",
    "                         bagging_temperature=5,\n",
    "                         random_strength=3)"
   ]
  },
  {
   "cell_type": "code",
   "execution_count": 32,
   "id": "1d589997",
   "metadata": {
    "ExecuteTime": {
     "end_time": "2021-08-12T16:13:35.758202Z",
     "start_time": "2021-08-12T16:13:35.748208Z"
    },
    "pycharm": {
     "name": "#%%\n"
    }
   },
   "outputs": [],
   "source": [
    "df[num_columns] = sc.fit_transform(df[num_columns])"
   ]
  },
  {
   "cell_type": "code",
   "execution_count": 33,
   "id": "032ad3cf",
   "metadata": {
    "ExecuteTime": {
     "end_time": "2021-08-12T16:13:38.447500Z",
     "start_time": "2021-08-12T16:13:38.428436Z"
    },
    "pycharm": {
     "name": "#%%\n"
    }
   },
   "outputs": [],
   "source": [
    "cat_features_ids = np.where(df.apply(pd.Series.nunique) < 5)[0].tolist()"
   ]
  },
  {
   "cell_type": "code",
   "execution_count": 34,
   "id": "826c377b",
   "metadata": {
    "ExecuteTime": {
     "end_time": "2021-08-12T16:13:38.999424Z",
     "start_time": "2021-08-12T16:13:38.992444Z"
    },
    "pycharm": {
     "name": "#%%\n"
    }
   },
   "outputs": [],
   "source": [
    "x_train, x_test, y_train, y_test = train_test_split(df, Y, test_size=VAL_SIZE, shuffle=True, random_state=RANDOM_SEED, stratify=Y)"
   ]
  },
  {
   "cell_type": "code",
   "execution_count": 35,
   "id": "3b9b5a57",
   "metadata": {
    "ExecuteTime": {
     "end_time": "2021-08-12T16:14:12.968016Z",
     "start_time": "2021-08-12T16:13:42.876903Z"
    },
    "pycharm": {
     "name": "#%%\n"
    }
   },
   "outputs": [
    {
     "data": {
      "application/vnd.jupyter.widget-view+json": {
       "model_id": "edba9487d08545e58b8b738d39598de7",
       "version_major": 2,
       "version_minor": 0
      },
      "text/plain": [
       "MetricVisualizer(layout=Layout(align_self='stretch', height='500px'))"
      ]
     },
     "metadata": {},
     "output_type": "display_data"
    },
    {
     "name": "stdout",
     "output_type": "stream",
     "text": [
      "0:\ttest: 0.8150279\tbest: 0.8150279 (0)\ttotal: 74.2ms\tremaining: 7m 25s\n",
      "100:\ttest: 0.8485728\tbest: 0.8485824 (98)\ttotal: 420ms\tremaining: 24.5s\n",
      "200:\ttest: 0.8511211\tbest: 0.8514162 (192)\ttotal: 766ms\tremaining: 22.1s\n",
      "300:\ttest: 0.8521276\tbest: 0.8528853 (253)\ttotal: 1.21s\tremaining: 22.8s\n",
      "400:\ttest: 0.8508108\tbest: 0.8528853 (253)\ttotal: 1.65s\tremaining: 23.1s\n",
      "500:\ttest: 0.8488129\tbest: 0.8528853 (253)\ttotal: 2.1s\tremaining: 23.1s\n",
      "600:\ttest: 0.8455882\tbest: 0.8528853 (253)\ttotal: 2.55s\tremaining: 22.9s\n",
      "700:\ttest: 0.8432417\tbest: 0.8528853 (253)\ttotal: 3.07s\tremaining: 23.2s\n",
      "800:\ttest: 0.8406608\tbest: 0.8528853 (253)\ttotal: 3.53s\tremaining: 22.9s\n",
      "900:\ttest: 0.8401088\tbest: 0.8528853 (253)\ttotal: 3.99s\tremaining: 22.6s\n",
      "1000:\ttest: 0.8391613\tbest: 0.8528853 (253)\ttotal: 4.47s\tremaining: 22.3s\n",
      "1100:\ttest: 0.8380782\tbest: 0.8528853 (253)\ttotal: 4.93s\tremaining: 21.9s\n",
      "1200:\ttest: 0.8369376\tbest: 0.8528853 (253)\ttotal: 5.41s\tremaining: 21.6s\n",
      "1300:\ttest: 0.8350856\tbest: 0.8528853 (253)\ttotal: 5.88s\tremaining: 21.2s\n",
      "1400:\ttest: 0.8340599\tbest: 0.8528853 (253)\ttotal: 6.36s\tremaining: 20.9s\n",
      "1500:\ttest: 0.8331650\tbest: 0.8528853 (253)\ttotal: 6.82s\tremaining: 20.4s\n",
      "1600:\ttest: 0.8313753\tbest: 0.8528853 (253)\ttotal: 7.31s\tremaining: 20.1s\n",
      "1700:\ttest: 0.8301454\tbest: 0.8528853 (253)\ttotal: 7.77s\tremaining: 19.6s\n",
      "1800:\ttest: 0.8288198\tbest: 0.8528853 (253)\ttotal: 8.26s\tremaining: 19.3s\n",
      "1900:\ttest: 0.8270492\tbest: 0.8528853 (253)\ttotal: 8.72s\tremaining: 18.8s\n",
      "2000:\ttest: 0.8264781\tbest: 0.8528853 (253)\ttotal: 9.21s\tremaining: 18.4s\n",
      "2100:\ttest: 0.8255385\tbest: 0.8528853 (253)\ttotal: 9.67s\tremaining: 18s\n",
      "2200:\ttest: 0.8257156\tbest: 0.8528853 (253)\ttotal: 10.1s\tremaining: 17.5s\n",
      "2300:\ttest: 0.8258608\tbest: 0.8528853 (253)\ttotal: 10.7s\tremaining: 17.2s\n",
      "2400:\ttest: 0.8258416\tbest: 0.8528853 (253)\ttotal: 11.2s\tremaining: 16.7s\n",
      "2500:\ttest: 0.8253391\tbest: 0.8528853 (253)\ttotal: 11.6s\tremaining: 16.3s\n",
      "2600:\ttest: 0.8254891\tbest: 0.8528853 (253)\ttotal: 12.1s\tremaining: 15.8s\n",
      "2700:\ttest: 0.8253535\tbest: 0.8528853 (253)\ttotal: 12.6s\tremaining: 15.4s\n",
      "2800:\ttest: 0.8252211\tbest: 0.8528853 (253)\ttotal: 13.1s\tremaining: 14.9s\n",
      "2900:\ttest: 0.8251685\tbest: 0.8528853 (253)\ttotal: 13.6s\tremaining: 14.5s\n",
      "3000:\ttest: 0.8249052\tbest: 0.8528853 (253)\ttotal: 14s\tremaining: 14s\n",
      "3100:\ttest: 0.8245017\tbest: 0.8528853 (253)\ttotal: 14.6s\tremaining: 13.7s\n",
      "3200:\ttest: 0.8246739\tbest: 0.8528853 (253)\ttotal: 15.1s\tremaining: 13.2s\n",
      "3300:\ttest: 0.8243469\tbest: 0.8528853 (253)\ttotal: 15.6s\tremaining: 12.8s\n",
      "3400:\ttest: 0.8240375\tbest: 0.8528853 (253)\ttotal: 16.1s\tremaining: 12.3s\n",
      "3500:\ttest: 0.8238588\tbest: 0.8528853 (253)\ttotal: 16.6s\tremaining: 11.8s\n",
      "3600:\ttest: 0.8235430\tbest: 0.8528853 (253)\ttotal: 17.1s\tremaining: 11.4s\n",
      "3700:\ttest: 0.8233691\tbest: 0.8528853 (253)\ttotal: 17.5s\tremaining: 10.9s\n",
      "3800:\ttest: 0.8231442\tbest: 0.8528853 (253)\ttotal: 18.1s\tremaining: 10.5s\n",
      "3900:\ttest: 0.8228730\tbest: 0.8528853 (253)\ttotal: 18.6s\tremaining: 10s\n",
      "4000:\ttest: 0.8230756\tbest: 0.8528853 (253)\ttotal: 19.1s\tremaining: 9.56s\n",
      "4100:\ttest: 0.8230038\tbest: 0.8528853 (253)\ttotal: 19.6s\tremaining: 9.07s\n",
      "4200:\ttest: 0.8232957\tbest: 0.8528853 (253)\ttotal: 20.1s\tremaining: 8.62s\n",
      "4300:\ttest: 0.8233850\tbest: 0.8528853 (253)\ttotal: 20.6s\tremaining: 8.14s\n",
      "4400:\ttest: 0.8231713\tbest: 0.8528853 (253)\ttotal: 21.2s\tremaining: 7.71s\n",
      "4500:\ttest: 0.8227119\tbest: 0.8528853 (253)\ttotal: 21.7s\tremaining: 7.22s\n",
      "4600:\ttest: 0.8226018\tbest: 0.8528853 (253)\ttotal: 22.2s\tremaining: 6.76s\n",
      "4700:\ttest: 0.8225412\tbest: 0.8528853 (253)\ttotal: 22.7s\tremaining: 6.27s\n",
      "4800:\ttest: 0.8221265\tbest: 0.8528853 (253)\ttotal: 23.3s\tremaining: 5.83s\n",
      "4900:\ttest: 0.8219829\tbest: 0.8528853 (253)\ttotal: 23.8s\tremaining: 5.34s\n",
      "5000:\ttest: 0.8218840\tbest: 0.8528853 (253)\ttotal: 24.4s\tremaining: 4.87s\n",
      "5100:\ttest: 0.8219095\tbest: 0.8528853 (253)\ttotal: 24.8s\tremaining: 4.37s\n",
      "5200:\ttest: 0.8220706\tbest: 0.8528853 (253)\ttotal: 25.3s\tremaining: 3.88s\n",
      "5300:\ttest: 0.8214756\tbest: 0.8528853 (253)\ttotal: 25.9s\tremaining: 3.42s\n",
      "5400:\ttest: 0.8213927\tbest: 0.8528853 (253)\ttotal: 26.4s\tremaining: 2.93s\n",
      "5500:\ttest: 0.8210960\tbest: 0.8528853 (253)\ttotal: 27s\tremaining: 2.44s\n",
      "5600:\ttest: 0.8208774\tbest: 0.8528853 (253)\ttotal: 27.4s\tremaining: 1.95s\n",
      "5700:\ttest: 0.8209014\tbest: 0.8528853 (253)\ttotal: 28.1s\tremaining: 1.47s\n",
      "5800:\ttest: 0.8207817\tbest: 0.8528853 (253)\ttotal: 28.5s\tremaining: 979ms\n",
      "5900:\ttest: 0.8208918\tbest: 0.8528853 (253)\ttotal: 29.1s\tremaining: 489ms\n",
      "5999:\ttest: 0.8209205\tbest: 0.8528853 (253)\ttotal: 29.6s\tremaining: 0us\n",
      "\n",
      "bestTest = 0.8528853455\n",
      "bestIteration = 253\n",
      "\n",
      "Shrink model to first 254 iterations.\n"
     ]
    },
    {
     "data": {
      "text/plain": [
       "<catboost.core.CatBoostClassifier at 0x7fb3ee5e3580>"
      ]
     },
     "execution_count": 35,
     "metadata": {},
     "output_type": "execute_result"
    }
   ],
   "source": [
    "cbc.fit(x_train, y_train,\n",
    "          cat_features=cat_features_ids,\n",
    "          eval_set=(x_test, y_test),\n",
    "          verbose_eval=100,\n",
    "          use_best_model=True,\n",
    "          plot=True\n",
    "          )"
   ]
  },
  {
   "cell_type": "code",
   "execution_count": 275,
   "id": "18c5ebe9",
   "metadata": {
    "pycharm": {
     "name": "#%%\n"
    }
   },
   "outputs": [],
   "source": [
    "cbc.save_model('./cbc_model.model')"
   ]
  },
  {
   "cell_type": "code",
   "execution_count": 36,
   "id": "8b60a5e8",
   "metadata": {
    "ExecuteTime": {
     "end_time": "2021-08-12T16:14:24.738670Z",
     "start_time": "2021-08-12T16:14:24.559801Z"
    },
    "pycharm": {
     "name": "#%%\n"
    }
   },
   "outputs": [
    {
     "name": "stdout",
     "output_type": "stream",
     "text": [
      "Accurace score: 0.807585052983826\n",
      "Точность: 0.6692506459948321\n",
      "Полнота: 0.5441176470588235\n",
      "F1 Score: 0.6002317497103128\n",
      "Roc_Auc Score: 0.7234635311983563\n"
     ]
    },
    {
     "data": {
      "image/png": "[encoded data removed]",
      "text/plain": [
       "<Figure size 432x288 with 2 Axes>"
      ]
     },
     "metadata": {
      "needs_background": "light"
     },
     "output_type": "display_data"
    },
    {
     "data": {
      "image/png": "[encoded data removed]",
      "text/plain": [
       "<Figure size 432x288 with 1 Axes>"
      ]
     },
     "metadata": {
      "needs_background": "light"
     },
     "output_type": "display_data"
    }
   ],
   "source": [
    "eval_model(cbc, x_test, y_test)"
   ]
  },
  {
   "cell_type": "code",
   "execution_count": 341,
   "id": "2dc0d51a",
   "metadata": {
    "pycharm": {
     "name": "#%%\n"
    }
   },
   "outputs": [
    {
     "data": {
      "text/plain": [
       "gender                 2\n",
       "SeniorCitizen          2\n",
       "Partner                2\n",
       "Dependents             2\n",
       "tenure                72\n",
       "PhoneService           2\n",
       "MultipleLines          3\n",
       "InternetService        3\n",
       "OnlineSecurity         3\n",
       "OnlineBackup           3\n",
       "DeviceProtection       3\n",
       "TechSupport            3\n",
       "StreamingTV            3\n",
       "StreamingMovies        3\n",
       "Contract               3\n",
       "PaperlessBilling       2\n",
       "PaymentMethod          4\n",
       "MonthlyCharges      1525\n",
       "TotalCharges        5610\n",
       "dtype: int64"
      ]
     },
     "execution_count": 341,
     "metadata": {},
     "output_type": "execute_result"
    }
   ],
   "source": [
    "df.nunique()"
   ]
  },
  {
   "cell_type": "code",
   "execution_count": 334,
   "id": "076e310a",
   "metadata": {
    "pycharm": {
     "name": "#%%\n"
    }
   },
   "outputs": [
    {
     "data": {
      "text/plain": [
       "array([ 1.52316265,  1.05876446,  0.6422907 ,  0.19047737, 13.82794992,\n",
       "        0.07619599,  4.61511622,  7.66562981,  9.04713379,  3.94418506,\n",
       "        2.4089303 ,  3.63879447,  2.4601331 ,  4.09331716, 20.37791782,\n",
       "        2.74913941,  5.94842747,  7.4571315 ,  8.27530278])"
      ]
     },
     "execution_count": 334,
     "metadata": {},
     "output_type": "execute_result"
    }
   ],
   "source": [
    "cbc.feature_importances_"
   ]
  }
 ],
 "metadata": {
  "kernelspec": {
   "display_name": "Python [conda env:February2021] *",
   "language": "python",
   "name": "conda-env-February2021-py"
  },
  "language_info": {
   "codemirror_mode": {
    "name": "ipython",
    "version": 3
   },
   "file_extension": ".py",
   "mimetype": "text/x-python",
   "name": "python",
   "nbconvert_exporter": "python",
   "pygments_lexer": "ipython3",
   "version": "3.8.10"
  }
 },
 "nbformat": 4,
 "nbformat_minor": 5
}